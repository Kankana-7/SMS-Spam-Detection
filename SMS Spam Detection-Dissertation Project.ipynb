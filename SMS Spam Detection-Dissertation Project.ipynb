{
 "cells": [
  {
   "cell_type": "code",
   "execution_count": 1,
   "id": "d89f4268",
   "metadata": {},
   "outputs": [],
   "source": [
    "#Importing all the necessary libraries required for the analysis \n",
    "import numpy as np\n",
    "import pandas as pd\n",
    "import matplotlib.pyplot as plt\n",
    "import seaborn as sns\n",
    "import warnings\n",
    "warnings.filterwarnings('ignore')"
   ]
  },
  {
   "cell_type": "code",
   "execution_count": 2,
   "id": "d71bb8e2",
   "metadata": {},
   "outputs": [
    {
     "data": {
      "text/html": [
       "<div>\n",
       "<style scoped>\n",
       "    .dataframe tbody tr th:only-of-type {\n",
       "        vertical-align: middle;\n",
       "    }\n",
       "\n",
       "    .dataframe tbody tr th {\n",
       "        vertical-align: top;\n",
       "    }\n",
       "\n",
       "    .dataframe thead th {\n",
       "        text-align: right;\n",
       "    }\n",
       "</style>\n",
       "<table border=\"1\" class=\"dataframe\">\n",
       "  <thead>\n",
       "    <tr style=\"text-align: right;\">\n",
       "      <th></th>\n",
       "      <th>v1</th>\n",
       "      <th>v2</th>\n",
       "      <th>Unnamed: 2</th>\n",
       "      <th>Unnamed: 3</th>\n",
       "      <th>Unnamed: 4</th>\n",
       "    </tr>\n",
       "  </thead>\n",
       "  <tbody>\n",
       "    <tr>\n",
       "      <th>0</th>\n",
       "      <td>Go until jurong point, crazy.. Available only ...</td>\n",
       "      <td>ham</td>\n",
       "      <td>NaN</td>\n",
       "      <td>NaN</td>\n",
       "      <td>NaN</td>\n",
       "    </tr>\n",
       "    <tr>\n",
       "      <th>1</th>\n",
       "      <td>Ok lar... Joking wif u oni...</td>\n",
       "      <td>ham</td>\n",
       "      <td>NaN</td>\n",
       "      <td>NaN</td>\n",
       "      <td>NaN</td>\n",
       "    </tr>\n",
       "    <tr>\n",
       "      <th>2</th>\n",
       "      <td>Free entry in 2 a wkly comp to win FA Cup fina...</td>\n",
       "      <td>spam</td>\n",
       "      <td>NaN</td>\n",
       "      <td>NaN</td>\n",
       "      <td>NaN</td>\n",
       "    </tr>\n",
       "    <tr>\n",
       "      <th>3</th>\n",
       "      <td>U dun say so early hor... U c already then say...</td>\n",
       "      <td>ham</td>\n",
       "      <td>NaN</td>\n",
       "      <td>NaN</td>\n",
       "      <td>NaN</td>\n",
       "    </tr>\n",
       "    <tr>\n",
       "      <th>4</th>\n",
       "      <td>Nah I don't think he goes to usf, he lives aro...</td>\n",
       "      <td>ham</td>\n",
       "      <td>NaN</td>\n",
       "      <td>NaN</td>\n",
       "      <td>NaN</td>\n",
       "    </tr>\n",
       "  </tbody>\n",
       "</table>\n",
       "</div>"
      ],
      "text/plain": [
       "                                                  v1    v2 Unnamed: 2  \\\n",
       "0  Go until jurong point, crazy.. Available only ...   ham        NaN   \n",
       "1                      Ok lar... Joking wif u oni...   ham        NaN   \n",
       "2  Free entry in 2 a wkly comp to win FA Cup fina...  spam        NaN   \n",
       "3  U dun say so early hor... U c already then say...   ham        NaN   \n",
       "4  Nah I don't think he goes to usf, he lives aro...   ham        NaN   \n",
       "\n",
       "  Unnamed: 3 Unnamed: 4  \n",
       "0        NaN        NaN  \n",
       "1        NaN        NaN  \n",
       "2        NaN        NaN  \n",
       "3        NaN        NaN  \n",
       "4        NaN        NaN  "
      ]
     },
     "execution_count": 2,
     "metadata": {},
     "output_type": "execute_result"
    }
   ],
   "source": [
    "#Loading the data\n",
    "spam_df=pd.read_csv(\"C:/Users/Kankana Ghosh/Desktop/Dataset/spam1.csv\",encoding=\"Latin1\")\n",
    "spam_df.head()"
   ]
  },
  {
   "cell_type": "code",
   "execution_count": 3,
   "id": "ba0e9dfb",
   "metadata": {},
   "outputs": [
    {
     "name": "stdout",
     "output_type": "stream",
     "text": [
      "The dataset contains 5572 rows and 5 columns.\n"
     ]
    }
   ],
   "source": [
    "row,column=spam_df.shape\n",
    "print(f\"The dataset contains {row} rows and {column} columns.\")"
   ]
  },
  {
   "cell_type": "code",
   "execution_count": 4,
   "id": "3bedbc3b",
   "metadata": {},
   "outputs": [
    {
     "data": {
      "text/plain": [
       "v1               0\n",
       "v2               0\n",
       "Unnamed: 2    5522\n",
       "Unnamed: 3    5560\n",
       "Unnamed: 4    5566\n",
       "dtype: int64"
      ]
     },
     "execution_count": 4,
     "metadata": {},
     "output_type": "execute_result"
    }
   ],
   "source": [
    "spam_df.info\n",
    "(spam_df.isnull()).sum()"
   ]
  },
  {
   "cell_type": "code",
   "execution_count": 5,
   "id": "82654c31",
   "metadata": {},
   "outputs": [
    {
     "data": {
      "text/html": [
       "<div>\n",
       "<style scoped>\n",
       "    .dataframe tbody tr th:only-of-type {\n",
       "        vertical-align: middle;\n",
       "    }\n",
       "\n",
       "    .dataframe tbody tr th {\n",
       "        vertical-align: top;\n",
       "    }\n",
       "\n",
       "    .dataframe thead th {\n",
       "        text-align: right;\n",
       "    }\n",
       "</style>\n",
       "<table border=\"1\" class=\"dataframe\">\n",
       "  <thead>\n",
       "    <tr style=\"text-align: right;\">\n",
       "      <th></th>\n",
       "      <th>v1</th>\n",
       "      <th>v2</th>\n",
       "    </tr>\n",
       "  </thead>\n",
       "  <tbody>\n",
       "    <tr>\n",
       "      <th>0</th>\n",
       "      <td>Go until jurong point, crazy.. Available only ...</td>\n",
       "      <td>ham</td>\n",
       "    </tr>\n",
       "    <tr>\n",
       "      <th>1</th>\n",
       "      <td>Ok lar... Joking wif u oni...</td>\n",
       "      <td>ham</td>\n",
       "    </tr>\n",
       "    <tr>\n",
       "      <th>2</th>\n",
       "      <td>Free entry in 2 a wkly comp to win FA Cup fina...</td>\n",
       "      <td>spam</td>\n",
       "    </tr>\n",
       "    <tr>\n",
       "      <th>3</th>\n",
       "      <td>U dun say so early hor... U c already then say...</td>\n",
       "      <td>ham</td>\n",
       "    </tr>\n",
       "    <tr>\n",
       "      <th>4</th>\n",
       "      <td>Nah I don't think he goes to usf, he lives aro...</td>\n",
       "      <td>ham</td>\n",
       "    </tr>\n",
       "  </tbody>\n",
       "</table>\n",
       "</div>"
      ],
      "text/plain": [
       "                                                  v1    v2\n",
       "0  Go until jurong point, crazy.. Available only ...   ham\n",
       "1                      Ok lar... Joking wif u oni...   ham\n",
       "2  Free entry in 2 a wkly comp to win FA Cup fina...  spam\n",
       "3  U dun say so early hor... U c already then say...   ham\n",
       "4  Nah I don't think he goes to usf, he lives aro...   ham"
      ]
     },
     "execution_count": 5,
     "metadata": {},
     "output_type": "execute_result"
    }
   ],
   "source": [
    "# Check the column names to verify if they exist in the DataFrame\n",
    "spam_df = spam_df.drop(['Unnamed: 2','Unnamed: 3','Unnamed: 4'],axis=1)\n",
    "spam_df.head()"
   ]
  },
  {
   "cell_type": "code",
   "execution_count": 6,
   "id": "da610de7",
   "metadata": {},
   "outputs": [
    {
     "data": {
      "text/html": [
       "<div>\n",
       "<style scoped>\n",
       "    .dataframe tbody tr th:only-of-type {\n",
       "        vertical-align: middle;\n",
       "    }\n",
       "\n",
       "    .dataframe tbody tr th {\n",
       "        vertical-align: top;\n",
       "    }\n",
       "\n",
       "    .dataframe thead th {\n",
       "        text-align: right;\n",
       "    }\n",
       "</style>\n",
       "<table border=\"1\" class=\"dataframe\">\n",
       "  <thead>\n",
       "    <tr style=\"text-align: right;\">\n",
       "      <th></th>\n",
       "      <th>Text</th>\n",
       "      <th>label</th>\n",
       "      <th>label_enc</th>\n",
       "    </tr>\n",
       "  </thead>\n",
       "  <tbody>\n",
       "    <tr>\n",
       "      <th>0</th>\n",
       "      <td>Go until jurong point, crazy.. Available only ...</td>\n",
       "      <td>ham</td>\n",
       "      <td>0</td>\n",
       "    </tr>\n",
       "    <tr>\n",
       "      <th>1</th>\n",
       "      <td>Ok lar... Joking wif u oni...</td>\n",
       "      <td>ham</td>\n",
       "      <td>0</td>\n",
       "    </tr>\n",
       "    <tr>\n",
       "      <th>2</th>\n",
       "      <td>Free entry in 2 a wkly comp to win FA Cup fina...</td>\n",
       "      <td>spam</td>\n",
       "      <td>1</td>\n",
       "    </tr>\n",
       "    <tr>\n",
       "      <th>3</th>\n",
       "      <td>U dun say so early hor... U c already then say...</td>\n",
       "      <td>ham</td>\n",
       "      <td>0</td>\n",
       "    </tr>\n",
       "    <tr>\n",
       "      <th>4</th>\n",
       "      <td>Nah I don't think he goes to usf, he lives aro...</td>\n",
       "      <td>ham</td>\n",
       "      <td>0</td>\n",
       "    </tr>\n",
       "  </tbody>\n",
       "</table>\n",
       "</div>"
      ],
      "text/plain": [
       "                                                Text label  label_enc\n",
       "0  Go until jurong point, crazy.. Available only ...   ham          0\n",
       "1                      Ok lar... Joking wif u oni...   ham          0\n",
       "2  Free entry in 2 a wkly comp to win FA Cup fina...  spam          1\n",
       "3  U dun say so early hor... U c already then say...   ham          0\n",
       "4  Nah I don't think he goes to usf, he lives aro...   ham          0"
      ]
     },
     "execution_count": 6,
     "metadata": {},
     "output_type": "execute_result"
    }
   ],
   "source": [
    "spam_df = spam_df.rename(columns={'v1':'Text','v2':'label'})\n",
    "spam_df['label_enc'] = spam_df['label'].map({'ham':0,'spam':1})\n",
    "spam_df.head()"
   ]
  },
  {
   "cell_type": "code",
   "execution_count": 7,
   "id": "1c8aac4b",
   "metadata": {},
   "outputs": [
    {
     "data": {
      "text/html": [
       "<div>\n",
       "<style scoped>\n",
       "    .dataframe tbody tr th:only-of-type {\n",
       "        vertical-align: middle;\n",
       "    }\n",
       "\n",
       "    .dataframe tbody tr th {\n",
       "        vertical-align: top;\n",
       "    }\n",
       "\n",
       "    .dataframe thead th {\n",
       "        text-align: right;\n",
       "    }\n",
       "</style>\n",
       "<table border=\"1\" class=\"dataframe\">\n",
       "  <thead>\n",
       "    <tr style=\"text-align: right;\">\n",
       "      <th></th>\n",
       "      <th>Text</th>\n",
       "      <th>label</th>\n",
       "      <th>label_enc</th>\n",
       "    </tr>\n",
       "  </thead>\n",
       "  <tbody>\n",
       "    <tr>\n",
       "      <th>0</th>\n",
       "      <td>Go until jurong point, crazy.. Available only ...</td>\n",
       "      <td>ham</td>\n",
       "      <td>0</td>\n",
       "    </tr>\n",
       "    <tr>\n",
       "      <th>1</th>\n",
       "      <td>Ok lar... Joking wif u oni...</td>\n",
       "      <td>ham</td>\n",
       "      <td>0</td>\n",
       "    </tr>\n",
       "    <tr>\n",
       "      <th>2</th>\n",
       "      <td>Free entry in 2 a wkly comp to win FA Cup fina...</td>\n",
       "      <td>spam</td>\n",
       "      <td>1</td>\n",
       "    </tr>\n",
       "    <tr>\n",
       "      <th>3</th>\n",
       "      <td>U dun say so early hor... U c already then say...</td>\n",
       "      <td>ham</td>\n",
       "      <td>0</td>\n",
       "    </tr>\n",
       "    <tr>\n",
       "      <th>4</th>\n",
       "      <td>Nah I don't think he goes to usf, he lives aro...</td>\n",
       "      <td>ham</td>\n",
       "      <td>0</td>\n",
       "    </tr>\n",
       "  </tbody>\n",
       "</table>\n",
       "</div>"
      ],
      "text/plain": [
       "                                                Text label  label_enc\n",
       "0  Go until jurong point, crazy.. Available only ...   ham          0\n",
       "1                      Ok lar... Joking wif u oni...   ham          0\n",
       "2  Free entry in 2 a wkly comp to win FA Cup fina...  spam          1\n",
       "3  U dun say so early hor... U c already then say...   ham          0\n",
       "4  Nah I don't think he goes to usf, he lives aro...   ham          0"
      ]
     },
     "execution_count": 7,
     "metadata": {},
     "output_type": "execute_result"
    }
   ],
   "source": [
    "# Reorder columns to have 'Text', 'label', 'label_enc'\n",
    "spam_df = spam_df[['Text', 'label', 'label_enc']]\n",
    "spam_df.head()"
   ]
  },
  {
   "cell_type": "code",
   "execution_count": 8,
   "id": "1c387bce",
   "metadata": {},
   "outputs": [
    {
     "name": "stdout",
     "output_type": "stream",
     "text": [
      "Number of Spam SMS: 747\n",
      "Percentage of Spam SMS: 13.406 %\n"
     ]
    }
   ],
   "source": [
    "#Number of Spam SMS\n",
    "print(\"Number of Spam SMS:\",sum(spam_df['label_enc']==1))\n",
    "print(\"Percentage of Spam SMS:\",round((sum(spam_df['label_enc']==1)/5572)*100,3),\"%\")"
   ]
  },
  {
   "cell_type": "code",
   "execution_count": 9,
   "id": "486f556f",
   "metadata": {},
   "outputs": [
    {
     "name": "stdout",
     "output_type": "stream",
     "text": [
      "Number of Ham SMS: 4825\n",
      "Percentage of Ham SMS: 86.594 %\n"
     ]
    }
   ],
   "source": [
    "#Number of Ham SMS\n",
    "print(\"Number of Ham SMS:\",sum(spam_df['label_enc']==0))\n",
    "print(\"Percentage of Ham SMS:\",round((sum(spam_df['label_enc']==0)/5572)*100,3),\"%\")"
   ]
  },
  {
   "cell_type": "code",
   "execution_count": 10,
   "id": "fba483f3",
   "metadata": {},
   "outputs": [
    {
     "data": {
      "image/png": "[encoded data removed]",
      "text/plain": [
       "<Figure size 720x432 with 1 Axes>"
      ]
     },
     "metadata": {
      "needs_background": "light"
     },
     "output_type": "display_data"
    }
   ],
   "source": [
    "# Set the size of the figure\n",
    "plt.figure(figsize=(10, 6))  # Adjust the width and height as needed\n",
    "\n",
    "# Create the countplot\n",
    "sns.countplot(x=spam_df['label'])\n",
    "\n",
    "# Add percentage annotations\n",
    "total = len(spam_df['label'])\n",
    "for p in plt.gca().patches:\n",
    "    percentage = '{:.1f}%'.format(100 * p.get_height() / total)\n",
    "    x = p.get_x() + p.get_width() / 2\n",
    "    y = p.get_height() + 3  # Adjust the vertical position of the percentage text\n",
    "    plt.annotate(percentage, (x, y), ha='center', fontsize=12)\n",
    "\n",
    "# Add labels and title\n",
    "plt.xlabel('Label')\n",
    "plt.ylabel('Count')\n",
    "plt.title('Ham vs Spam Distribution')\n",
    "\n",
    "# Show the plot\n",
    "plt.show()"
   ]
  },
  {
   "cell_type": "code",
   "execution_count": 11,
   "id": "16039e2f",
   "metadata": {},
   "outputs": [
    {
     "name": "stdout",
     "output_type": "stream",
     "text": [
      "The total number of unique words is: 15585\n"
     ]
    }
   ],
   "source": [
    "# Finding Total no of unique words in corpus\n",
    "s = set()\n",
    "for sent in spam_df['Text']:\n",
    "    for word in sent.split():\n",
    "        s.add(word)\n",
    "total_words_length=len(s)\n",
    "print(\"The total number of unique words is:\",total_words_length)"
   ]
  },
  {
   "cell_type": "code",
   "execution_count": 12,
   "id": "0607d44f",
   "metadata": {},
   "outputs": [],
   "source": [
    "# Iterate over each row\n",
    "w=[]\n",
    "for index, row in spam_df.iterrows():\n",
    "    # Split the row into words using whitespace as delimiter\n",
    "    words = row['Text'].split()\n",
    "    # Count the number of words\n",
    "    word_count = len(words)\n",
    "    w.append(word_count)"
   ]
  },
  {
   "cell_type": "code",
   "execution_count": 13,
   "id": "d5e834b7",
   "metadata": {},
   "outputs": [],
   "source": [
    "spam_df['Word_Counts']=w"
   ]
  },
  {
   "cell_type": "code",
   "execution_count": 14,
   "id": "0670504b",
   "metadata": {},
   "outputs": [
    {
     "data": {
      "image/png": "[encoded data removed]",
      "text/plain": [
       "<Figure size 720x360 with 1 Axes>"
      ]
     },
     "metadata": {
      "needs_background": "light"
     },
     "output_type": "display_data"
    }
   ],
   "source": [
    "from collections import Counter\n",
    "\n",
    "# Set the size of the plot\n",
    "plt.figure(figsize=(10, 5))\n",
    "\n",
    "# Create a Counter object to count the frequency of each word count\n",
    "word_count_freq = Counter(w)\n",
    "\n",
    "# Convert the Counter object to a DataFrame for easy plotting\n",
    "word_count_df = pd.DataFrame.from_dict(word_count_freq, orient='index').reset_index()\n",
    "word_count_df.columns = ['Word_Count', 'Frequency']\n",
    "\n",
    "# Plot the histogram\n",
    "plt.hist(w, bins=70, color='skyblue', edgecolor='black')\n",
    "plt.xlabel('Word Count')\n",
    "plt.ylabel('Frequency of Word Count')\n",
    "plt.title('Word Count Frequency Histogram')\n",
    "plt.grid(True)\n",
    "plt.show()"
   ]
  },
  {
   "cell_type": "code",
   "execution_count": 15,
   "id": "1e35d438",
   "metadata": {},
   "outputs": [
    {
     "data": {
      "image/png": "[encoded data removed]",
      "text/plain": [
       "<Figure size 720x360 with 1 Axes>"
      ]
     },
     "metadata": {
      "needs_background": "light"
     },
     "output_type": "display_data"
    }
   ],
   "source": [
    "spamdf_subset = spam_df[spam_df['label_enc'] == 1]\n",
    "hamdf_subset = spam_df[spam_df['label_enc'] == 0]\n",
    "# Set the size of the plot\n",
    "plt.figure(figsize=(10, 5))\n",
    "\n",
    "# Create a Counter object to count the frequency of each word count\n",
    "word_count_freq = Counter(spamdf_subset['Word_Counts'])\n",
    "\n",
    "# Convert the Counter object to a DataFrame for easy plotting\n",
    "word_count_df = pd.DataFrame.from_dict(word_count_freq, orient='index').reset_index()\n",
    "word_count_df.columns = ['Word_Count', 'Frequency']\n",
    "\n",
    "# Plot the histogram\n",
    "plt.hist(spamdf_subset['Word_Counts'], bins=30, color='skyblue', edgecolor='black')\n",
    "plt.xlabel('Word Count')\n",
    "plt.ylabel('Frequency')\n",
    "plt.title('Word Count Frequency Histogram for Spam Messages')\n",
    "plt.grid(True)\n",
    "plt.show()"
   ]
  },
  {
   "cell_type": "code",
   "execution_count": 16,
   "id": "99f8a342",
   "metadata": {},
   "outputs": [
    {
     "data": {
      "image/png": "[encoded data removed]",
      "text/plain": [
       "<Figure size 720x360 with 1 Axes>"
      ]
     },
     "metadata": {
      "needs_background": "light"
     },
     "output_type": "display_data"
    }
   ],
   "source": [
    "# Set the size of the plot\n",
    "plt.figure(figsize=(10, 5))\n",
    "\n",
    "# Create a Counter object to count the frequency of each word count\n",
    "word_count_freq = Counter(hamdf_subset['Word_Counts'])\n",
    "\n",
    "# Convert the Counter object to a DataFrame for easy plotting\n",
    "word_count_df = pd.DataFrame.from_dict(word_count_freq, orient='index').reset_index()\n",
    "word_count_df.columns = ['Word_Count', 'Frequency']\n",
    "\n",
    "# Plot the histogram\n",
    "plt.hist(hamdf_subset['Word_Counts'], bins=40, color='skyblue', edgecolor='black')\n",
    "plt.xlabel('Word Count')\n",
    "plt.ylabel('Frequency')\n",
    "plt.title('Word Count Frequency Histogram for Ham Messages')\n",
    "plt.grid(True)\n",
    "plt.show()"
   ]
  },
  {
   "cell_type": "code",
   "execution_count": 17,
   "id": "3979bd85",
   "metadata": {},
   "outputs": [
    {
     "data": {
      "text/plain": [
       "Text(0.5, 0, 'Message Length')"
      ]
     },
     "execution_count": 17,
     "metadata": {},
     "output_type": "execute_result"
    },
    {
     "data": {
      "image/png": "[encoded data removed]",
      "text/plain": [
       "<Figure size 720x360 with 1 Axes>"
      ]
     },
     "metadata": {
      "needs_background": "light"
     },
     "output_type": "display_data"
    }
   ],
   "source": [
    "plt.figure(figsize=(10, 5))\n",
    "spam_df[spam_df.label_enc == 0].Word_Counts.plot(bins=35,kind='hist', color='blue', label='Ham', alpha=0.6)\n",
    "spam_df[spam_df.label_enc == 1].Word_Counts.plot(bins=15,kind='hist', color='red', label='Spam', alpha=0.6)\n",
    "plt.legend()\n",
    "plt.xlabel(\"Message Length\")"
   ]
  },
  {
   "cell_type": "code",
   "execution_count": 18,
   "id": "09a541b5",
   "metadata": {},
   "outputs": [
    {
     "data": {
      "image/png": "[encoded data removed]",
      "text/plain": [
       "<Figure size 720x360 with 1 Axes>"
      ]
     },
     "metadata": {
      "needs_background": "light"
     },
     "output_type": "display_data"
    }
   ],
   "source": [
    "# Set the size of the plot\n",
    "plt.figure(figsize=(10, 5))\n",
    "\n",
    "plt.boxplot(spam_df['Word_Counts'], notch=True, patch_artist=True, boxprops=dict(facecolor='lightgreen', color='black'), \n",
    "            whiskerprops=dict(color='black'), capprops=dict(color='black'),\n",
    "            flierprops=dict(marker='o', markerfacecolor='red', markersize=5),\n",
    "            medianprops=dict(color='black'))\n",
    "plt.xlabel('Word Count')\n",
    "plt.ylabel('Values')\n",
    "plt.title('Box Plot of word count')\n",
    "plt.show()"
   ]
  },
  {
   "cell_type": "code",
   "execution_count": 19,
   "id": "4937ff74",
   "metadata": {},
   "outputs": [
    {
     "name": "stdout",
     "output_type": "stream",
     "text": [
      "Number of outliers: 71\n"
     ]
    }
   ],
   "source": [
    "import numpy as np\n",
    "\n",
    "# Calculate quartiles\n",
    "Q1 = np.percentile(spam_df['Word_Counts'], 25)\n",
    "Q3 = np.percentile(spam_df['Word_Counts'], 75)\n",
    "\n",
    "# Calculate interquartile range (IQR)\n",
    "IQR = Q3 - Q1\n",
    "\n",
    "# Define lower and upper bounds for outliers\n",
    "lower_bound = Q1 - 1.5 * IQR\n",
    "upper_bound = Q3 + 1.5 * IQR\n",
    "\n",
    "# Count outliers\n",
    "outliers = spam_df[(spam_df['Word_Counts'] < lower_bound) | (spam_df['Word_Counts'] > upper_bound)]\n",
    "num_outliers = outliers.shape[0]\n",
    "\n",
    "print(\"Number of outliers:\", num_outliers)"
   ]
  },
  {
   "cell_type": "code",
   "execution_count": 20,
   "id": "d91e273c",
   "metadata": {},
   "outputs": [
    {
     "data": {
      "text/plain": [
       "count    5572.000000\n",
       "mean       15.494436\n",
       "std        11.329427\n",
       "min         1.000000\n",
       "25%         7.000000\n",
       "50%        12.000000\n",
       "75%        23.000000\n",
       "max       171.000000\n",
       "Name: Word_Counts, dtype: float64"
      ]
     },
     "execution_count": 20,
     "metadata": {},
     "output_type": "execute_result"
    }
   ],
   "source": [
    "spam_df['Word_Counts'].describe()"
   ]
  },
  {
   "cell_type": "code",
   "execution_count": 21,
   "id": "4f09e11e",
   "metadata": {},
   "outputs": [
    {
     "data": {
      "image/png": "[encoded data removed]",
      "text/plain": [
       "<Figure size 576x432 with 1 Axes>"
      ]
     },
     "metadata": {
      "needs_background": "light"
     },
     "output_type": "display_data"
    }
   ],
   "source": [
    "spam_word_counts = spam_df.loc[spam_df['label_enc'] == 1, 'Word_Counts']\n",
    "ham_word_counts = spam_df.loc[spam_df['label_enc'] == 0, 'Word_Counts']\n",
    "# Create a box plot for spam and ham word counts\n",
    "plt.figure(figsize=(8, 6))\n",
    "plt.boxplot([spam_word_counts,ham_word_counts], labels=['Spam', 'Ham'], patch_artist=True, \n",
    "            boxprops=dict(facecolor='lightblue', color='black'),medianprops=dict(color='black'),\n",
    "            showfliers=True, whis=1.5, flierprops=dict(marker='o', markerfacecolor='red', markersize=5))\n",
    "\n",
    "# Add labels and title\n",
    "plt.xlabel('Message Type')\n",
    "plt.ylabel('Word Count')\n",
    "plt.title('Boxplot of Word Counts for Spam and Ham Messages')\n",
    "\n",
    "# Customize colors\n",
    "colors = ['lightblue', 'lightgreen']\n",
    "for patch, color in zip(plt.gca().artists, colors):\n",
    "    patch.set_facecolor(color)\n",
    "\n",
    "# Show plot\n",
    "plt.show()"
   ]
  },
  {
   "cell_type": "code",
   "execution_count": 22,
   "id": "0de1b79b",
   "metadata": {},
   "outputs": [
    {
     "name": "stdout",
     "output_type": "stream",
     "text": [
      "Number of Spam outliers: 46\n"
     ]
    }
   ],
   "source": [
    "# Calculate quartiles\n",
    "Q1 = np.percentile(spamdf_subset['Word_Counts'], 25)\n",
    "Q3 = np.percentile(spamdf_subset['Word_Counts'], 75)\n",
    "\n",
    "# Calculate interquartile range (IQR)\n",
    "IQR = Q3 - Q1\n",
    "\n",
    "# Define lower and upper bounds for outliers\n",
    "lower_bound = Q1 - 1.5 * IQR\n",
    "upper_bound = Q3 + 1.5 * IQR\n",
    "\n",
    "# Count outliers\n",
    "outliers = spamdf_subset[(spamdf_subset['Word_Counts'] < lower_bound) | (spamdf_subset['Word_Counts'] > upper_bound)]\n",
    "num_outliers = outliers.shape[0]\n",
    "\n",
    "print(\"Number of Spam outliers:\", num_outliers)\n",
    "# Remove outliers from spam emails\n",
    "spamdf_subset_clean = spamdf_subset[(spamdf_subset['Word_Counts'] >= lower_bound) & (spamdf_subset['Word_Counts'] <=upper_bound)]"
   ]
  },
  {
   "cell_type": "code",
   "execution_count": 23,
   "id": "bcd9819e",
   "metadata": {},
   "outputs": [
    {
     "name": "stdout",
     "output_type": "stream",
     "text": [
      "Number of Ham outliers: 132\n"
     ]
    }
   ],
   "source": [
    "# Calculate quartiles\n",
    "Q1 = np.percentile(hamdf_subset['Word_Counts'], 25)\n",
    "Q3 = np.percentile(hamdf_subset['Word_Counts'], 75)\n",
    "\n",
    "# Calculate interquartile range (IQR)\n",
    "IQR = Q3 - Q1\n",
    "\n",
    "# Define lower and upper bounds for outliers\n",
    "lower_bound = Q1 - 1.5 * IQR\n",
    "upper_bound = Q3 + 1.5 * IQR\n",
    "\n",
    "# Count outliers\n",
    "outliers = hamdf_subset[(hamdf_subset['Word_Counts'] <lower_bound) | (hamdf_subset['Word_Counts'] > upper_bound)]\n",
    "num_outliers = outliers.shape[0]\n",
    "\n",
    "print(\"Number of Ham outliers:\", num_outliers)\n",
    "# Remove outliers from ham emails\n",
    "hamdf_subset_clean = hamdf_subset[(hamdf_subset['Word_Counts'] >= lower_bound) & (hamdf_subset['Word_Counts'] <= upper_bound)]"
   ]
  },
  {
   "cell_type": "code",
   "execution_count": 24,
   "id": "5e174236",
   "metadata": {},
   "outputs": [
    {
     "data": {
      "text/plain": [
       "count    747.000000\n",
       "mean      23.851406\n",
       "std        5.811898\n",
       "min        2.000000\n",
       "25%       22.000000\n",
       "50%       25.000000\n",
       "75%       28.000000\n",
       "max       35.000000\n",
       "Name: Word_Counts, dtype: float64"
      ]
     },
     "execution_count": 24,
     "metadata": {},
     "output_type": "execute_result"
    }
   ],
   "source": [
    "spamdf_subset['Word_Counts'].describe()"
   ]
  },
  {
   "cell_type": "code",
   "execution_count": 25,
   "id": "ef5a8898",
   "metadata": {},
   "outputs": [
    {
     "data": {
      "text/plain": [
       "count    4825.000000\n",
       "mean       14.200622\n",
       "std        11.424511\n",
       "min         1.000000\n",
       "25%         7.000000\n",
       "50%        11.000000\n",
       "75%        19.000000\n",
       "max       171.000000\n",
       "Name: Word_Counts, dtype: float64"
      ]
     },
     "execution_count": 25,
     "metadata": {},
     "output_type": "execute_result"
    }
   ],
   "source": [
    "hamdf_subset['Word_Counts'].describe()"
   ]
  },
  {
   "cell_type": "code",
   "execution_count": 26,
   "id": "692afd94",
   "metadata": {},
   "outputs": [
    {
     "data": {
      "image/png": "[encoded data removed]",
      "text/plain": [
       "<Figure size 576x360 with 1 Axes>"
      ]
     },
     "metadata": {
      "needs_background": "light"
     },
     "output_type": "display_data"
    }
   ],
   "source": [
    "# Separate data for spam and ham classes\n",
    "spam_data = spam_df[spam_df['label'] == 'spam']\n",
    "ham_data = spam_df[spam_df['label'] == 'ham']\n",
    "\n",
    "# Create scatter plot\n",
    "plt.figure(figsize=(8, 5))\n",
    "plt.scatter(spam_data['Word_Counts'], [1] * len(spam_data), color='red', label='Spam')\n",
    "plt.scatter(ham_data['Word_Counts'], [0] * len(ham_data), color='blue', label='Ham')\n",
    "plt.yticks([0, 1], ['Ham', 'Spam'])\n",
    "plt.xlabel('Total Words')\n",
    "plt.title('Number of Words vs Spam/Ham Class')\n",
    "plt.legend()\n",
    "plt.grid(True)\n",
    "plt.show()"
   ]
  },
  {
   "cell_type": "code",
   "execution_count": 27,
   "id": "c300d02a",
   "metadata": {},
   "outputs": [
    {
     "name": "stdout",
     "output_type": "stream",
     "text": [
      "Shape of shuffled DataFrame: (5394, 4)\n"
     ]
    }
   ],
   "source": [
    "# Concatenate the cleaned subsets back into the original DataFrame\n",
    "cleaned_spam_df = pd.concat([spamdf_subset_clean, hamdf_subset_clean])\n",
    "# Shuffle the DataFrame\n",
    "cleaned_spam_df_shuffled = cleaned_spam_df.sample(frac=1).reset_index(drop=True)\n",
    "# Check the shape of the shuffled DataFrame\n",
    "print(\"Shape of shuffled DataFrame:\", cleaned_spam_df_shuffled.shape)"
   ]
  },
  {
   "cell_type": "code",
   "execution_count": 28,
   "id": "1b3d15ff",
   "metadata": {},
   "outputs": [
    {
     "data": {
      "image/png": "[encoded data removed]",
      "text/plain": [
       "<Figure size 432x288 with 1 Axes>"
      ]
     },
     "metadata": {
      "needs_background": "light"
     },
     "output_type": "display_data"
    }
   ],
   "source": [
    "#Box plot without outliers\n",
    "plt.boxplot(cleaned_spam_df_shuffled['Word_Counts'], notch=True, patch_artist=True, boxprops=dict(facecolor='lightgreen', color='black'), \n",
    "            whiskerprops=dict(color='black'), capprops=dict(color='black'), medianprops=dict(color='black'))\n",
    "plt.xlabel('Word Count')\n",
    "plt.ylabel('Values')\n",
    "plt.title('Box Plot of Word Count')\n",
    "plt.show()"
   ]
  },
  {
   "cell_type": "code",
   "execution_count": 29,
   "id": "f630a1a9",
   "metadata": {},
   "outputs": [
    {
     "data": {
      "image/png": "[encoded data removed]",
      "text/plain": [
       "<Figure size 576x432 with 1 Axes>"
      ]
     },
     "metadata": {
      "needs_background": "light"
     },
     "output_type": "display_data"
    }
   ],
   "source": [
    "spam_word_counts = cleaned_spam_df_shuffled.loc[cleaned_spam_df_shuffled['label_enc'] == 1, 'Word_Counts']\n",
    "ham_word_counts = cleaned_spam_df_shuffled.loc[cleaned_spam_df_shuffled['label_enc'] == 0, 'Word_Counts']\n",
    "# Create a box plot for spam and ham word counts\n",
    "plt.figure(figsize=(8, 6))\n",
    "plt.boxplot([spam_word_counts,ham_word_counts], labels=['Spam', 'Ham'], patch_artist=True, \n",
    "            boxprops=dict(facecolor='lightblue', color='black'),medianprops=dict(color='black'),\n",
    "            showfliers=True, whis=1.75, flierprops=dict(marker='o', markerfacecolor='red', markersize=5))\n",
    "\n",
    "# Add labels and title\n",
    "plt.xlabel('Message Type')\n",
    "plt.ylabel('Word Count')\n",
    "plt.title('Boxplot of Word Counts for Spam and Ham Messages')\n",
    "\n",
    "# Customize colors\n",
    "colors = ['lightblue', 'lightgreen']\n",
    "for patch, color in zip(plt.gca().artists, colors):\n",
    "    patch.set_facecolor(color)\n",
    "\n",
    "# Show plot\n",
    "plt.show()"
   ]
  },
  {
   "cell_type": "code",
   "execution_count": 30,
   "id": "86bdd5e9",
   "metadata": {},
   "outputs": [
    {
     "name": "stdout",
     "output_type": "stream",
     "text": [
      "The total number of unique words is: 14644\n"
     ]
    }
   ],
   "source": [
    "# Finding Total no of unique words in corpus without outliers\n",
    "s = set()\n",
    "for sent in cleaned_spam_df_shuffled['Text']:\n",
    "    for word in sent.split():\n",
    "        s.add(word)\n",
    "total_words_length=len(s)\n",
    "print(\"The total number of unique words is:\",total_words_length)"
   ]
  },
  {
   "cell_type": "code",
   "execution_count": 31,
   "id": "2dc4c263",
   "metadata": {},
   "outputs": [
    {
     "data": {
      "text/plain": [
       "count    5394.000000\n",
       "mean       14.558584\n",
       "std         8.859850\n",
       "min         1.000000\n",
       "25%         7.000000\n",
       "50%        12.000000\n",
       "75%        22.000000\n",
       "max        37.000000\n",
       "Name: Word_Counts, dtype: float64"
      ]
     },
     "execution_count": 31,
     "metadata": {},
     "output_type": "execute_result"
    }
   ],
   "source": [
    "cleaned_spam_df_shuffled['Word_Counts'].describe()"
   ]
  },
  {
   "cell_type": "code",
   "execution_count": 32,
   "id": "c76c3f87",
   "metadata": {},
   "outputs": [
    {
     "data": {
      "text/plain": [
       "count    701.000000\n",
       "mean      24.848787\n",
       "std        4.388943\n",
       "min       13.000000\n",
       "25%       22.000000\n",
       "50%       25.000000\n",
       "75%       28.000000\n",
       "max       35.000000\n",
       "Name: Word_Counts, dtype: float64"
      ]
     },
     "execution_count": 32,
     "metadata": {},
     "output_type": "execute_result"
    }
   ],
   "source": [
    "spamdf_subset_clean['Word_Counts'].describe()"
   ]
  },
  {
   "cell_type": "code",
   "execution_count": 33,
   "id": "16fc24d4",
   "metadata": {},
   "outputs": [
    {
     "data": {
      "text/plain": [
       "count    4693.000000\n",
       "mean       13.021521\n",
       "std         8.316712\n",
       "min         1.000000\n",
       "25%         7.000000\n",
       "50%        10.000000\n",
       "75%        18.000000\n",
       "max        37.000000\n",
       "Name: Word_Counts, dtype: float64"
      ]
     },
     "execution_count": 33,
     "metadata": {},
     "output_type": "execute_result"
    }
   ],
   "source": [
    "hamdf_subset_clean['Word_Counts'].describe()"
   ]
  },
  {
   "cell_type": "code",
   "execution_count": 34,
   "id": "26cf1d89",
   "metadata": {},
   "outputs": [
    {
     "data": {
      "text/plain": [
       "((4315,), (4315,), (1079,), (1079,))"
      ]
     },
     "execution_count": 34,
     "metadata": {},
     "output_type": "execute_result"
    }
   ],
   "source": [
    "#80:20 Overall Split after removal of outliers \n",
    "\n",
    "# Splitting data for Training and testing\n",
    "from sklearn.model_selection import train_test_split\n",
    " \n",
    "X, y = np.asanyarray(cleaned_spam_df_shuffled['Text']), np.asanyarray(cleaned_spam_df_shuffled['label_enc'])\n",
    "new_df = pd.DataFrame({'Text': X, 'label': y})\n",
    "X_train, X_test, y_train, y_test = train_test_split(\n",
    "    new_df['Text'], new_df['label'], test_size=0.2, random_state=42)\n",
    "X_train.shape, y_train.shape, X_test.shape, y_test.shape\n"
   ]
  },
  {
   "cell_type": "code",
   "execution_count": 35,
   "id": "3c4aa8ae",
   "metadata": {},
   "outputs": [],
   "source": [
    "from sklearn.feature_extraction.text import TfidfVectorizer\n",
    "from sklearn.naive_bayes import MultinomialNB\n",
    "from sklearn.metrics import classification_report,accuracy_score\n",
    " \n",
    "tfidf_vec = TfidfVectorizer(min_df=1).fit(X_train)\n",
    "X_train_vec,X_test_vec = tfidf_vec.transform(X_train),tfidf_vec.transform(X_test)"
   ]
  },
  {
   "cell_type": "code",
   "execution_count": 36,
   "id": "3c254606",
   "metadata": {},
   "outputs": [],
   "source": [
    "#Applying SMOTE on the training data\n",
    "from imblearn.over_sampling import SMOTE\n",
    "smote = SMOTE()\n",
    "X_train_sm,y_train_sm = smote.fit_resample(X_train_vec,y_train)"
   ]
  },
  {
   "cell_type": "code",
   "execution_count": 37,
   "id": "4a0b5559",
   "metadata": {},
   "outputs": [
    {
     "data": {
      "text/plain": [
       "MultinomialNB()"
      ]
     },
     "execution_count": 37,
     "metadata": {},
     "output_type": "execute_result"
    }
   ],
   "source": [
    "#Naive Bayes Classifier with SMOTE \n",
    "baseline_model_1_sm = MultinomialNB()\n",
    "baseline_model_1_sm.fit(X_train_sm,y_train_sm)"
   ]
  },
  {
   "cell_type": "code",
   "execution_count": 38,
   "id": "8a4a4007",
   "metadata": {},
   "outputs": [
    {
     "data": {
      "text/plain": [
       "MultinomialNB()"
      ]
     },
     "execution_count": 38,
     "metadata": {},
     "output_type": "execute_result"
    }
   ],
   "source": [
    "#Naive Bayes Classifier without SMOTE \n",
    "baseline_model = MultinomialNB()\n",
    "baseline_model.fit(X_train_vec,y_train)"
   ]
  },
  {
   "cell_type": "code",
   "execution_count": 39,
   "id": "839706ce",
   "metadata": {},
   "outputs": [
    {
     "data": {
      "text/plain": [
       "<sklearn.metrics._plot.confusion_matrix.ConfusionMatrixDisplay at 0x200d5423df0>"
      ]
     },
     "execution_count": 39,
     "metadata": {},
     "output_type": "execute_result"
    },
    {
     "data": {
      "image/png": "[encoded data removed]",
      "text/plain": [
       "<Figure size 432x288 with 2 Axes>"
      ]
     },
     "metadata": {
      "needs_background": "light"
     },
     "output_type": "display_data"
    }
   ],
   "source": [
    "from sklearn.metrics import plot_confusion_matrix\n",
    "plot_confusion_matrix(baseline_model_1_sm,X_test_vec,y_test)"
   ]
  },
  {
   "cell_type": "code",
   "execution_count": 40,
   "id": "52d8bb8a",
   "metadata": {},
   "outputs": [
    {
     "data": {
      "text/plain": [
       "<sklearn.metrics._plot.confusion_matrix.ConfusionMatrixDisplay at 0x200d3efc5e0>"
      ]
     },
     "execution_count": 40,
     "metadata": {},
     "output_type": "execute_result"
    },
    {
     "data": {
      "image/png": "[encoded data removed]",
      "text/plain": [
       "<Figure size 432x288 with 2 Axes>"
      ]
     },
     "metadata": {
      "needs_background": "light"
     },
     "output_type": "display_data"
    }
   ],
   "source": [
    "from sklearn.metrics import plot_confusion_matrix\n",
    "plot_confusion_matrix(baseline_model_1_sm,X_train_sm,y_train_sm)"
   ]
  },
  {
   "cell_type": "code",
   "execution_count": 41,
   "id": "183ce031",
   "metadata": {},
   "outputs": [
    {
     "data": {
      "text/plain": [
       "<sklearn.metrics._plot.confusion_matrix.ConfusionMatrixDisplay at 0x200d3dea3a0>"
      ]
     },
     "execution_count": 41,
     "metadata": {},
     "output_type": "execute_result"
    },
    {
     "data": {
      "image/png": "[encoded data removed]",
      "text/plain": [
       "<Figure size 432x288 with 2 Axes>"
      ]
     },
     "metadata": {
      "needs_background": "light"
     },
     "output_type": "display_data"
    }
   ],
   "source": [
    "from sklearn.metrics import plot_confusion_matrix\n",
    "plot_confusion_matrix(baseline_model,X_test_vec,y_test)"
   ]
  },
  {
   "cell_type": "code",
   "execution_count": 51,
   "id": "64f1efc8",
   "metadata": {},
   "outputs": [
    {
     "data": {
      "text/plain": [
       "<sklearn.metrics._plot.confusion_matrix.ConfusionMatrixDisplay at 0x200d3efcbe0>"
      ]
     },
     "execution_count": 51,
     "metadata": {},
     "output_type": "execute_result"
    },
    {
     "data": {
      "image/png": "[encoded data removed]",
      "text/plain": [
       "<Figure size 432x288 with 2 Axes>"
      ]
     },
     "metadata": {
      "needs_background": "light"
     },
     "output_type": "display_data"
    }
   ],
   "source": [
    "from sklearn.metrics import plot_confusion_matrix\n",
    "plot_confusion_matrix(baseline_model,X_train_vec,y_train)"
   ]
  },
  {
   "cell_type": "code",
   "execution_count": 43,
   "id": "984a7336",
   "metadata": {},
   "outputs": [
    {
     "data": {
      "text/plain": [
       "LogisticRegression()"
      ]
     },
     "execution_count": 43,
     "metadata": {},
     "output_type": "execute_result"
    }
   ],
   "source": [
    "#Logistic Regression with SMOTE\n",
    "from sklearn.linear_model import LogisticRegression\n",
    "# Initialize the logistic regression model\n",
    "baseline_model_2_sm = LogisticRegression()\n",
    "# Fit the model to the training data\n",
    "baseline_model_2_sm.fit(X_train_sm, y_train_sm)"
   ]
  },
  {
   "cell_type": "code",
   "execution_count": 44,
   "id": "94aae61a",
   "metadata": {},
   "outputs": [
    {
     "data": {
      "text/plain": [
       "LogisticRegression()"
      ]
     },
     "execution_count": 44,
     "metadata": {},
     "output_type": "execute_result"
    }
   ],
   "source": [
    "#Logistic Regression without SMOTE\n",
    "# Initialize the logistic regression model\n",
    "baseline_model_2 = LogisticRegression()\n",
    "\n",
    "# Fit the model to the training data\n",
    "baseline_model_2.fit(X_train_vec, y_train)"
   ]
  },
  {
   "cell_type": "code",
   "execution_count": 47,
   "id": "dded7a9a",
   "metadata": {},
   "outputs": [
    {
     "data": {
      "text/plain": [
       "<sklearn.metrics._plot.confusion_matrix.ConfusionMatrixDisplay at 0x200d3d3b100>"
      ]
     },
     "execution_count": 47,
     "metadata": {},
     "output_type": "execute_result"
    },
    {
     "data": {
      "image/png": "[encoded data removed]",
      "text/plain": [
       "<Figure size 432x288 with 2 Axes>"
      ]
     },
     "metadata": {
      "needs_background": "light"
     },
     "output_type": "display_data"
    }
   ],
   "source": [
    "from sklearn.metrics import plot_confusion_matrix\n",
    "plot_confusion_matrix(baseline_model_2_sm,X_test_vec,y_test)"
   ]
  },
  {
   "cell_type": "code",
   "execution_count": 48,
   "id": "16f7d24e",
   "metadata": {},
   "outputs": [
    {
     "data": {
      "text/plain": [
       "<sklearn.metrics._plot.confusion_matrix.ConfusionMatrixDisplay at 0x200d3cd21c0>"
      ]
     },
     "execution_count": 48,
     "metadata": {},
     "output_type": "execute_result"
    },
    {
     "data": {
      "image/png": "[encoded data removed]",
      "text/plain": [
       "<Figure size 432x288 with 2 Axes>"
      ]
     },
     "metadata": {
      "needs_background": "light"
     },
     "output_type": "display_data"
    }
   ],
   "source": [
    "from sklearn.metrics import plot_confusion_matrix\n",
    "plot_confusion_matrix(baseline_model_2_sm,X_train_sm,y_train_sm)"
   ]
  },
  {
   "cell_type": "code",
   "execution_count": 49,
   "id": "8a7827b8",
   "metadata": {},
   "outputs": [
    {
     "data": {
      "text/plain": [
       "<sklearn.metrics._plot.confusion_matrix.ConfusionMatrixDisplay at 0x200d61c5310>"
      ]
     },
     "execution_count": 49,
     "metadata": {},
     "output_type": "execute_result"
    },
    {
     "data": {
      "image/png": "[encoded data removed]",
      "text/plain": [
       "<Figure size 432x288 with 2 Axes>"
      ]
     },
     "metadata": {
      "needs_background": "light"
     },
     "output_type": "display_data"
    }
   ],
   "source": [
    "from sklearn.metrics import plot_confusion_matrix\n",
    "plot_confusion_matrix(baseline_model_2,X_test_vec,y_test)"
   ]
  },
  {
   "cell_type": "code",
   "execution_count": 50,
   "id": "15b71134",
   "metadata": {},
   "outputs": [
    {
     "data": {
      "text/plain": [
       "<sklearn.metrics._plot.confusion_matrix.ConfusionMatrixDisplay at 0x200d3f09b20>"
      ]
     },
     "execution_count": 50,
     "metadata": {},
     "output_type": "execute_result"
    },
    {
     "data": {
      "image/png": "[encoded data removed]",
      "text/plain": [
       "<Figure size 432x288 with 2 Axes>"
      ]
     },
     "metadata": {
      "needs_background": "light"
     },
     "output_type": "display_data"
    }
   ],
   "source": [
    "from sklearn.metrics import plot_confusion_matrix\n",
    "plot_confusion_matrix(baseline_model_2,X_train_vec,y_train)"
   ]
  },
  {
   "cell_type": "code",
   "execution_count": 194,
   "id": "7ce28a2a",
   "metadata": {},
   "outputs": [
    {
     "data": {
      "text/plain": [
       "{'mean_fit_time': array([1.13351698, 1.41924095, 1.70101495, 1.96749768, 2.30239501]),\n",
       " 'std_fit_time': array([0.0234458 , 0.03648325, 0.02446654, 0.02903537, 0.06416254]),\n",
       " 'mean_score_time': array([0.01706042, 0.02306309, 0.02694154, 0.02201509, 0.03238955]),\n",
       " 'std_score_time': array([0.0025432 , 0.00687118, 0.00612082, 0.00782036, 0.00194889]),\n",
       " 'param_n_estimators': masked_array(data=[20, 25, 30, 35, 40],\n",
       "              mask=[False, False, False, False, False],\n",
       "        fill_value='?',\n",
       "             dtype=object),\n",
       " 'params': [{'n_estimators': 20},\n",
       "  {'n_estimators': 25},\n",
       "  {'n_estimators': 30},\n",
       "  {'n_estimators': 35},\n",
       "  {'n_estimators': 40}],\n",
       " 'split0_test_score': array([0.97566628, 0.97566628, 0.97566628, 0.97450753, 0.97566628]),\n",
       " 'split1_test_score': array([0.98377752, 0.98377752, 0.98377752, 0.98493627, 0.98725377]),\n",
       " 'split2_test_score': array([0.97334878, 0.97219003, 0.97914253, 0.97798378, 0.97450753]),\n",
       " 'split3_test_score': array([0.97798378, 0.98030127, 0.97450753, 0.97682503, 0.97682503]),\n",
       " 'split4_test_score': array([0.96407879, 0.96871379, 0.97219003, 0.96523754, 0.97450753]),\n",
       " 'mean_test_score': array([0.97497103, 0.97612978, 0.97705678, 0.97589803, 0.97775203]),\n",
       " 'std_test_score': array([0.0064558 , 0.00541521, 0.00404069, 0.00636363, 0.00482796]),\n",
       " 'rank_test_score': array([5, 3, 2, 4, 1])}"
      ]
     },
     "execution_count": 194,
     "metadata": {},
     "output_type": "execute_result"
    }
   ],
   "source": [
    "#Random Forest without SMOTE\n",
    "from sklearn.ensemble import RandomForestClassifier\n",
    "from sklearn.model_selection import GridSearchCV\n",
    "\n",
    "clf = GridSearchCV(RandomForestClassifier(), {\n",
    "    'n_estimators': [20,25,30,35,40]\n",
    "    }, cv=5, return_train_score=False)\n",
    "clf.fit(X_train_vec, y_train)\n",
    "clf.cv_results_"
   ]
  },
  {
   "cell_type": "code",
   "execution_count": 195,
   "id": "f62b8982",
   "metadata": {},
   "outputs": [
    {
     "data": {
      "text/html": [
       "<div>\n",
       "<style scoped>\n",
       "    .dataframe tbody tr th:only-of-type {\n",
       "        vertical-align: middle;\n",
       "    }\n",
       "\n",
       "    .dataframe tbody tr th {\n",
       "        vertical-align: top;\n",
       "    }\n",
       "\n",
       "    .dataframe thead th {\n",
       "        text-align: right;\n",
       "    }\n",
       "</style>\n",
       "<table border=\"1\" class=\"dataframe\">\n",
       "  <thead>\n",
       "    <tr style=\"text-align: right;\">\n",
       "      <th></th>\n",
       "      <th>mean_fit_time</th>\n",
       "      <th>std_fit_time</th>\n",
       "      <th>mean_score_time</th>\n",
       "      <th>std_score_time</th>\n",
       "      <th>param_n_estimators</th>\n",
       "      <th>params</th>\n",
       "      <th>split0_test_score</th>\n",
       "      <th>split1_test_score</th>\n",
       "      <th>split2_test_score</th>\n",
       "      <th>split3_test_score</th>\n",
       "      <th>split4_test_score</th>\n",
       "      <th>mean_test_score</th>\n",
       "      <th>std_test_score</th>\n",
       "      <th>rank_test_score</th>\n",
       "    </tr>\n",
       "  </thead>\n",
       "  <tbody>\n",
       "    <tr>\n",
       "      <th>0</th>\n",
       "      <td>1.133517</td>\n",
       "      <td>0.023446</td>\n",
       "      <td>0.017060</td>\n",
       "      <td>0.002543</td>\n",
       "      <td>20</td>\n",
       "      <td>{'n_estimators': 20}</td>\n",
       "      <td>0.975666</td>\n",
       "      <td>0.983778</td>\n",
       "      <td>0.973349</td>\n",
       "      <td>0.977984</td>\n",
       "      <td>0.964079</td>\n",
       "      <td>0.974971</td>\n",
       "      <td>0.006456</td>\n",
       "      <td>5</td>\n",
       "    </tr>\n",
       "    <tr>\n",
       "      <th>1</th>\n",
       "      <td>1.419241</td>\n",
       "      <td>0.036483</td>\n",
       "      <td>0.023063</td>\n",
       "      <td>0.006871</td>\n",
       "      <td>25</td>\n",
       "      <td>{'n_estimators': 25}</td>\n",
       "      <td>0.975666</td>\n",
       "      <td>0.983778</td>\n",
       "      <td>0.972190</td>\n",
       "      <td>0.980301</td>\n",
       "      <td>0.968714</td>\n",
       "      <td>0.976130</td>\n",
       "      <td>0.005415</td>\n",
       "      <td>3</td>\n",
       "    </tr>\n",
       "    <tr>\n",
       "      <th>2</th>\n",
       "      <td>1.701015</td>\n",
       "      <td>0.024467</td>\n",
       "      <td>0.026942</td>\n",
       "      <td>0.006121</td>\n",
       "      <td>30</td>\n",
       "      <td>{'n_estimators': 30}</td>\n",
       "      <td>0.975666</td>\n",
       "      <td>0.983778</td>\n",
       "      <td>0.979143</td>\n",
       "      <td>0.974508</td>\n",
       "      <td>0.972190</td>\n",
       "      <td>0.977057</td>\n",
       "      <td>0.004041</td>\n",
       "      <td>2</td>\n",
       "    </tr>\n",
       "    <tr>\n",
       "      <th>3</th>\n",
       "      <td>1.967498</td>\n",
       "      <td>0.029035</td>\n",
       "      <td>0.022015</td>\n",
       "      <td>0.007820</td>\n",
       "      <td>35</td>\n",
       "      <td>{'n_estimators': 35}</td>\n",
       "      <td>0.974508</td>\n",
       "      <td>0.984936</td>\n",
       "      <td>0.977984</td>\n",
       "      <td>0.976825</td>\n",
       "      <td>0.965238</td>\n",
       "      <td>0.975898</td>\n",
       "      <td>0.006364</td>\n",
       "      <td>4</td>\n",
       "    </tr>\n",
       "    <tr>\n",
       "      <th>4</th>\n",
       "      <td>2.302395</td>\n",
       "      <td>0.064163</td>\n",
       "      <td>0.032390</td>\n",
       "      <td>0.001949</td>\n",
       "      <td>40</td>\n",
       "      <td>{'n_estimators': 40}</td>\n",
       "      <td>0.975666</td>\n",
       "      <td>0.987254</td>\n",
       "      <td>0.974508</td>\n",
       "      <td>0.976825</td>\n",
       "      <td>0.974508</td>\n",
       "      <td>0.977752</td>\n",
       "      <td>0.004828</td>\n",
       "      <td>1</td>\n",
       "    </tr>\n",
       "  </tbody>\n",
       "</table>\n",
       "</div>"
      ],
      "text/plain": [
       "   mean_fit_time  std_fit_time  mean_score_time  std_score_time  \\\n",
       "0       1.133517      0.023446         0.017060        0.002543   \n",
       "1       1.419241      0.036483         0.023063        0.006871   \n",
       "2       1.701015      0.024467         0.026942        0.006121   \n",
       "3       1.967498      0.029035         0.022015        0.007820   \n",
       "4       2.302395      0.064163         0.032390        0.001949   \n",
       "\n",
       "  param_n_estimators                params  split0_test_score  \\\n",
       "0                 20  {'n_estimators': 20}           0.975666   \n",
       "1                 25  {'n_estimators': 25}           0.975666   \n",
       "2                 30  {'n_estimators': 30}           0.975666   \n",
       "3                 35  {'n_estimators': 35}           0.974508   \n",
       "4                 40  {'n_estimators': 40}           0.975666   \n",
       "\n",
       "   split1_test_score  split2_test_score  split3_test_score  split4_test_score  \\\n",
       "0           0.983778           0.973349           0.977984           0.964079   \n",
       "1           0.983778           0.972190           0.980301           0.968714   \n",
       "2           0.983778           0.979143           0.974508           0.972190   \n",
       "3           0.984936           0.977984           0.976825           0.965238   \n",
       "4           0.987254           0.974508           0.976825           0.974508   \n",
       "\n",
       "   mean_test_score  std_test_score  rank_test_score  \n",
       "0         0.974971        0.006456                5  \n",
       "1         0.976130        0.005415                3  \n",
       "2         0.977057        0.004041                2  \n",
       "3         0.975898        0.006364                4  \n",
       "4         0.977752        0.004828                1  "
      ]
     },
     "execution_count": 195,
     "metadata": {},
     "output_type": "execute_result"
    }
   ],
   "source": [
    "df = pd.DataFrame(clf.cv_results_)\n",
    "df"
   ]
  },
  {
   "cell_type": "code",
   "execution_count": 196,
   "id": "9d46d4dd",
   "metadata": {},
   "outputs": [
    {
     "data": {
      "text/html": [
       "<div>\n",
       "<style scoped>\n",
       "    .dataframe tbody tr th:only-of-type {\n",
       "        vertical-align: middle;\n",
       "    }\n",
       "\n",
       "    .dataframe tbody tr th {\n",
       "        vertical-align: top;\n",
       "    }\n",
       "\n",
       "    .dataframe thead th {\n",
       "        text-align: right;\n",
       "    }\n",
       "</style>\n",
       "<table border=\"1\" class=\"dataframe\">\n",
       "  <thead>\n",
       "    <tr style=\"text-align: right;\">\n",
       "      <th></th>\n",
       "      <th>param_n_estimators</th>\n",
       "      <th>mean_test_score</th>\n",
       "    </tr>\n",
       "  </thead>\n",
       "  <tbody>\n",
       "    <tr>\n",
       "      <th>0</th>\n",
       "      <td>20</td>\n",
       "      <td>0.974971</td>\n",
       "    </tr>\n",
       "    <tr>\n",
       "      <th>1</th>\n",
       "      <td>25</td>\n",
       "      <td>0.976130</td>\n",
       "    </tr>\n",
       "    <tr>\n",
       "      <th>2</th>\n",
       "      <td>30</td>\n",
       "      <td>0.977057</td>\n",
       "    </tr>\n",
       "    <tr>\n",
       "      <th>3</th>\n",
       "      <td>35</td>\n",
       "      <td>0.975898</td>\n",
       "    </tr>\n",
       "    <tr>\n",
       "      <th>4</th>\n",
       "      <td>40</td>\n",
       "      <td>0.977752</td>\n",
       "    </tr>\n",
       "  </tbody>\n",
       "</table>\n",
       "</div>"
      ],
      "text/plain": [
       "  param_n_estimators  mean_test_score\n",
       "0                 20         0.974971\n",
       "1                 25         0.976130\n",
       "2                 30         0.977057\n",
       "3                 35         0.975898\n",
       "4                 40         0.977752"
      ]
     },
     "execution_count": 196,
     "metadata": {},
     "output_type": "execute_result"
    }
   ],
   "source": [
    "df[['param_n_estimators','mean_test_score']]"
   ]
  },
  {
   "cell_type": "code",
   "execution_count": 197,
   "id": "6b261ae2",
   "metadata": {},
   "outputs": [
    {
     "data": {
      "text/plain": [
       "{'n_estimators': 40}"
      ]
     },
     "execution_count": 197,
     "metadata": {},
     "output_type": "execute_result"
    }
   ],
   "source": [
    "clf.best_params_"
   ]
  },
  {
   "cell_type": "code",
   "execution_count": 53,
   "id": "4a531ce7",
   "metadata": {},
   "outputs": [
    {
     "data": {
      "text/plain": [
       "RandomForestClassifier(n_estimators=40, random_state=42)"
      ]
     },
     "execution_count": 53,
     "metadata": {},
     "output_type": "execute_result"
    }
   ],
   "source": [
    "#Random Forest without SMOTE\n",
    "from sklearn.ensemble import RandomForestClassifier\n",
    "# Create a Random Forest classifier\n",
    "rf_classifier = RandomForestClassifier(n_estimators=40, random_state=42)  # You can adjust the number of trees (n_estimators)\n",
    "\n",
    "# Train the Random Forest classifier\n",
    "rf_classifier.fit(X_train_vec, y_train)"
   ]
  },
  {
   "cell_type": "code",
   "execution_count": 199,
   "id": "ea2e3e05",
   "metadata": {},
   "outputs": [
    {
     "data": {
      "text/plain": [
       "{'mean_fit_time': array([1.22295556, 1.57159462, 1.85247579, 2.13170271, 2.44495502]),\n",
       " 'std_fit_time': array([0.07957794, 0.1532539 , 0.14596549, 0.17406055, 0.18006399]),\n",
       " 'mean_score_time': array([0.02247453, 0.02511625, 0.03310513, 0.03439994, 0.04072967]),\n",
       " 'std_score_time': array([0.00735292, 0.00774693, 0.00363109, 0.00624661, 0.00753879]),\n",
       " 'param_n_estimators': masked_array(data=[20, 25, 30, 35, 40],\n",
       "              mask=[False, False, False, False, False],\n",
       "        fill_value='?',\n",
       "             dtype=object),\n",
       " 'params': [{'n_estimators': 20},\n",
       "  {'n_estimators': 25},\n",
       "  {'n_estimators': 30},\n",
       "  {'n_estimators': 35},\n",
       "  {'n_estimators': 40}],\n",
       " 'split0_test_score': array([0.97074468, 0.97473404, 0.96941489, 0.97140957, 0.96675532]),\n",
       " 'split1_test_score': array([1.        , 1.        , 1.        , 0.99933466, 1.        ]),\n",
       " 'split2_test_score': array([0.99933466, 0.99800399, 1.        , 0.99933466, 0.99933466]),\n",
       " 'split3_test_score': array([0.99933466, 0.99933466, 0.99933466, 1.        , 1.        ]),\n",
       " 'split4_test_score': array([1., 1., 1., 1., 1.]),\n",
       " 'mean_test_score': array([0.9938828 , 0.99441454, 0.99374991, 0.99401578, 0.993218  ]),\n",
       " 'std_test_score': array([0.01157289, 0.0098672 , 0.01217024, 0.01130702, 0.01323385]),\n",
       " 'rank_test_score': array([3, 1, 4, 2, 5])}"
      ]
     },
     "execution_count": 199,
     "metadata": {},
     "output_type": "execute_result"
    }
   ],
   "source": [
    "#Random Forest with SMOTE\n",
    "clf_sm = GridSearchCV(RandomForestClassifier(), {\n",
    "    'n_estimators': [20,25,30,35,40]\n",
    "    }, cv=5, return_train_score=False)\n",
    "clf_sm.fit(X_train_sm, y_train_sm)\n",
    "clf_sm.cv_results_"
   ]
  },
  {
   "cell_type": "code",
   "execution_count": 200,
   "id": "8c65b1fd",
   "metadata": {},
   "outputs": [
    {
     "data": {
      "text/html": [
       "<div>\n",
       "<style scoped>\n",
       "    .dataframe tbody tr th:only-of-type {\n",
       "        vertical-align: middle;\n",
       "    }\n",
       "\n",
       "    .dataframe tbody tr th {\n",
       "        vertical-align: top;\n",
       "    }\n",
       "\n",
       "    .dataframe thead th {\n",
       "        text-align: right;\n",
       "    }\n",
       "</style>\n",
       "<table border=\"1\" class=\"dataframe\">\n",
       "  <thead>\n",
       "    <tr style=\"text-align: right;\">\n",
       "      <th></th>\n",
       "      <th>mean_fit_time</th>\n",
       "      <th>std_fit_time</th>\n",
       "      <th>mean_score_time</th>\n",
       "      <th>std_score_time</th>\n",
       "      <th>param_n_estimators</th>\n",
       "      <th>params</th>\n",
       "      <th>split0_test_score</th>\n",
       "      <th>split1_test_score</th>\n",
       "      <th>split2_test_score</th>\n",
       "      <th>split3_test_score</th>\n",
       "      <th>split4_test_score</th>\n",
       "      <th>mean_test_score</th>\n",
       "      <th>std_test_score</th>\n",
       "      <th>rank_test_score</th>\n",
       "    </tr>\n",
       "  </thead>\n",
       "  <tbody>\n",
       "    <tr>\n",
       "      <th>0</th>\n",
       "      <td>1.133517</td>\n",
       "      <td>0.023446</td>\n",
       "      <td>0.017060</td>\n",
       "      <td>0.002543</td>\n",
       "      <td>20</td>\n",
       "      <td>{'n_estimators': 20}</td>\n",
       "      <td>0.975666</td>\n",
       "      <td>0.983778</td>\n",
       "      <td>0.973349</td>\n",
       "      <td>0.977984</td>\n",
       "      <td>0.964079</td>\n",
       "      <td>0.974971</td>\n",
       "      <td>0.006456</td>\n",
       "      <td>5</td>\n",
       "    </tr>\n",
       "    <tr>\n",
       "      <th>1</th>\n",
       "      <td>1.419241</td>\n",
       "      <td>0.036483</td>\n",
       "      <td>0.023063</td>\n",
       "      <td>0.006871</td>\n",
       "      <td>25</td>\n",
       "      <td>{'n_estimators': 25}</td>\n",
       "      <td>0.975666</td>\n",
       "      <td>0.983778</td>\n",
       "      <td>0.972190</td>\n",
       "      <td>0.980301</td>\n",
       "      <td>0.968714</td>\n",
       "      <td>0.976130</td>\n",
       "      <td>0.005415</td>\n",
       "      <td>3</td>\n",
       "    </tr>\n",
       "    <tr>\n",
       "      <th>2</th>\n",
       "      <td>1.701015</td>\n",
       "      <td>0.024467</td>\n",
       "      <td>0.026942</td>\n",
       "      <td>0.006121</td>\n",
       "      <td>30</td>\n",
       "      <td>{'n_estimators': 30}</td>\n",
       "      <td>0.975666</td>\n",
       "      <td>0.983778</td>\n",
       "      <td>0.979143</td>\n",
       "      <td>0.974508</td>\n",
       "      <td>0.972190</td>\n",
       "      <td>0.977057</td>\n",
       "      <td>0.004041</td>\n",
       "      <td>2</td>\n",
       "    </tr>\n",
       "    <tr>\n",
       "      <th>3</th>\n",
       "      <td>1.967498</td>\n",
       "      <td>0.029035</td>\n",
       "      <td>0.022015</td>\n",
       "      <td>0.007820</td>\n",
       "      <td>35</td>\n",
       "      <td>{'n_estimators': 35}</td>\n",
       "      <td>0.974508</td>\n",
       "      <td>0.984936</td>\n",
       "      <td>0.977984</td>\n",
       "      <td>0.976825</td>\n",
       "      <td>0.965238</td>\n",
       "      <td>0.975898</td>\n",
       "      <td>0.006364</td>\n",
       "      <td>4</td>\n",
       "    </tr>\n",
       "    <tr>\n",
       "      <th>4</th>\n",
       "      <td>2.302395</td>\n",
       "      <td>0.064163</td>\n",
       "      <td>0.032390</td>\n",
       "      <td>0.001949</td>\n",
       "      <td>40</td>\n",
       "      <td>{'n_estimators': 40}</td>\n",
       "      <td>0.975666</td>\n",
       "      <td>0.987254</td>\n",
       "      <td>0.974508</td>\n",
       "      <td>0.976825</td>\n",
       "      <td>0.974508</td>\n",
       "      <td>0.977752</td>\n",
       "      <td>0.004828</td>\n",
       "      <td>1</td>\n",
       "    </tr>\n",
       "  </tbody>\n",
       "</table>\n",
       "</div>"
      ],
      "text/plain": [
       "   mean_fit_time  std_fit_time  mean_score_time  std_score_time  \\\n",
       "0       1.133517      0.023446         0.017060        0.002543   \n",
       "1       1.419241      0.036483         0.023063        0.006871   \n",
       "2       1.701015      0.024467         0.026942        0.006121   \n",
       "3       1.967498      0.029035         0.022015        0.007820   \n",
       "4       2.302395      0.064163         0.032390        0.001949   \n",
       "\n",
       "  param_n_estimators                params  split0_test_score  \\\n",
       "0                 20  {'n_estimators': 20}           0.975666   \n",
       "1                 25  {'n_estimators': 25}           0.975666   \n",
       "2                 30  {'n_estimators': 30}           0.975666   \n",
       "3                 35  {'n_estimators': 35}           0.974508   \n",
       "4                 40  {'n_estimators': 40}           0.975666   \n",
       "\n",
       "   split1_test_score  split2_test_score  split3_test_score  split4_test_score  \\\n",
       "0           0.983778           0.973349           0.977984           0.964079   \n",
       "1           0.983778           0.972190           0.980301           0.968714   \n",
       "2           0.983778           0.979143           0.974508           0.972190   \n",
       "3           0.984936           0.977984           0.976825           0.965238   \n",
       "4           0.987254           0.974508           0.976825           0.974508   \n",
       "\n",
       "   mean_test_score  std_test_score  rank_test_score  \n",
       "0         0.974971        0.006456                5  \n",
       "1         0.976130        0.005415                3  \n",
       "2         0.977057        0.004041                2  \n",
       "3         0.975898        0.006364                4  \n",
       "4         0.977752        0.004828                1  "
      ]
     },
     "execution_count": 200,
     "metadata": {},
     "output_type": "execute_result"
    }
   ],
   "source": [
    "df = pd.DataFrame(clf.cv_results_)\n",
    "df"
   ]
  },
  {
   "cell_type": "code",
   "execution_count": 201,
   "id": "3062108d",
   "metadata": {},
   "outputs": [
    {
     "data": {
      "text/html": [
       "<div>\n",
       "<style scoped>\n",
       "    .dataframe tbody tr th:only-of-type {\n",
       "        vertical-align: middle;\n",
       "    }\n",
       "\n",
       "    .dataframe tbody tr th {\n",
       "        vertical-align: top;\n",
       "    }\n",
       "\n",
       "    .dataframe thead th {\n",
       "        text-align: right;\n",
       "    }\n",
       "</style>\n",
       "<table border=\"1\" class=\"dataframe\">\n",
       "  <thead>\n",
       "    <tr style=\"text-align: right;\">\n",
       "      <th></th>\n",
       "      <th>param_n_estimators</th>\n",
       "      <th>mean_test_score</th>\n",
       "    </tr>\n",
       "  </thead>\n",
       "  <tbody>\n",
       "    <tr>\n",
       "      <th>0</th>\n",
       "      <td>20</td>\n",
       "      <td>0.974971</td>\n",
       "    </tr>\n",
       "    <tr>\n",
       "      <th>1</th>\n",
       "      <td>25</td>\n",
       "      <td>0.976130</td>\n",
       "    </tr>\n",
       "    <tr>\n",
       "      <th>2</th>\n",
       "      <td>30</td>\n",
       "      <td>0.977057</td>\n",
       "    </tr>\n",
       "    <tr>\n",
       "      <th>3</th>\n",
       "      <td>35</td>\n",
       "      <td>0.975898</td>\n",
       "    </tr>\n",
       "    <tr>\n",
       "      <th>4</th>\n",
       "      <td>40</td>\n",
       "      <td>0.977752</td>\n",
       "    </tr>\n",
       "  </tbody>\n",
       "</table>\n",
       "</div>"
      ],
      "text/plain": [
       "  param_n_estimators  mean_test_score\n",
       "0                 20         0.974971\n",
       "1                 25         0.976130\n",
       "2                 30         0.977057\n",
       "3                 35         0.975898\n",
       "4                 40         0.977752"
      ]
     },
     "execution_count": 201,
     "metadata": {},
     "output_type": "execute_result"
    }
   ],
   "source": [
    "df[['param_n_estimators','mean_test_score']]"
   ]
  },
  {
   "cell_type": "code",
   "execution_count": 202,
   "id": "e5a30436",
   "metadata": {},
   "outputs": [
    {
     "data": {
      "text/plain": [
       "{'n_estimators': 40}"
      ]
     },
     "execution_count": 202,
     "metadata": {},
     "output_type": "execute_result"
    }
   ],
   "source": [
    "clf.best_params_"
   ]
  },
  {
   "cell_type": "code",
   "execution_count": 54,
   "id": "02a137f3",
   "metadata": {},
   "outputs": [
    {
     "data": {
      "text/plain": [
       "RandomForestClassifier(n_estimators=40, random_state=42)"
      ]
     },
     "execution_count": 54,
     "metadata": {},
     "output_type": "execute_result"
    }
   ],
   "source": [
    "# Create a Random Forest classifier\n",
    "rf_classifier_sm = RandomForestClassifier(n_estimators=40, random_state=42)  # You can adjust the number of trees (n_estimators)\n",
    "\n",
    "# Train the Random Forest classifier\n",
    "rf_classifier_sm.fit(X_train_sm, y_train_sm)"
   ]
  },
  {
   "cell_type": "code",
   "execution_count": 57,
   "id": "4189d4f4",
   "metadata": {},
   "outputs": [
    {
     "data": {
      "text/plain": [
       "<sklearn.metrics._plot.confusion_matrix.ConfusionMatrixDisplay at 0x200d7dbacd0>"
      ]
     },
     "execution_count": 57,
     "metadata": {},
     "output_type": "execute_result"
    },
    {
     "data": {
      "image/png": "[encoded data removed]",
      "text/plain": [
       "<Figure size 432x288 with 2 Axes>"
      ]
     },
     "metadata": {
      "needs_background": "light"
     },
     "output_type": "display_data"
    }
   ],
   "source": [
    "from sklearn.metrics import plot_confusion_matrix\n",
    "plot_confusion_matrix(rf_classifier_sm,X_test_vec,y_test)"
   ]
  },
  {
   "cell_type": "code",
   "execution_count": 58,
   "id": "02623fc4",
   "metadata": {},
   "outputs": [
    {
     "data": {
      "text/plain": [
       "<sklearn.metrics._plot.confusion_matrix.ConfusionMatrixDisplay at 0x200d3e17a30>"
      ]
     },
     "execution_count": 58,
     "metadata": {},
     "output_type": "execute_result"
    },
    {
     "data": {
      "image/png": "[encoded data removed]",
      "text/plain": [
       "<Figure size 432x288 with 2 Axes>"
      ]
     },
     "metadata": {
      "needs_background": "light"
     },
     "output_type": "display_data"
    }
   ],
   "source": [
    "from sklearn.metrics import plot_confusion_matrix\n",
    "plot_confusion_matrix(rf_classifier_sm,X_train_sm,y_train_sm)"
   ]
  },
  {
   "cell_type": "code",
   "execution_count": 59,
   "id": "8ded3de9",
   "metadata": {},
   "outputs": [
    {
     "data": {
      "text/plain": [
       "<sklearn.metrics._plot.confusion_matrix.ConfusionMatrixDisplay at 0x200d7db2070>"
      ]
     },
     "execution_count": 59,
     "metadata": {},
     "output_type": "execute_result"
    },
    {
     "data": {
      "image/png": "[encoded data removed]",
      "text/plain": [
       "<Figure size 432x288 with 2 Axes>"
      ]
     },
     "metadata": {
      "needs_background": "light"
     },
     "output_type": "display_data"
    }
   ],
   "source": [
    "from sklearn.metrics import plot_confusion_matrix\n",
    "plot_confusion_matrix(rf_classifier,X_test_vec,y_test)"
   ]
  },
  {
   "cell_type": "code",
   "execution_count": 60,
   "id": "e431b71e",
   "metadata": {},
   "outputs": [
    {
     "data": {
      "text/plain": [
       "<sklearn.metrics._plot.confusion_matrix.ConfusionMatrixDisplay at 0x200d614b7f0>"
      ]
     },
     "execution_count": 60,
     "metadata": {},
     "output_type": "execute_result"
    },
    {
     "data": {
      "image/png": "[encoded data removed]",
      "text/plain": [
       "<Figure size 432x288 with 2 Axes>"
      ]
     },
     "metadata": {
      "needs_background": "light"
     },
     "output_type": "display_data"
    }
   ],
   "source": [
    "from sklearn.metrics import plot_confusion_matrix\n",
    "plot_confusion_matrix(rf_classifier,X_train_vec,y_train)"
   ]
  },
  {
   "cell_type": "code",
   "execution_count": 55,
   "id": "8c797d6d",
   "metadata": {},
   "outputs": [
    {
     "data": {
      "text/plain": [
       "RandomForestClassifier(max_features=None, n_estimators=40, random_state=42)"
      ]
     },
     "execution_count": 55,
     "metadata": {},
     "output_type": "execute_result"
    }
   ],
   "source": [
    "#Bagging without SMOTE\n",
    "rf_classifier_bag = RandomForestClassifier(n_estimators=40, random_state=42,max_features=None)  # You can adjust the number of trees (n_estimators)\n",
    "rf_classifier_bag.fit(X_train_vec, y_train)"
   ]
  },
  {
   "cell_type": "code",
   "execution_count": 56,
   "id": "b0bd3cf7",
   "metadata": {},
   "outputs": [
    {
     "data": {
      "text/plain": [
       "RandomForestClassifier(max_features=None, n_estimators=40, random_state=42)"
      ]
     },
     "execution_count": 56,
     "metadata": {},
     "output_type": "execute_result"
    }
   ],
   "source": [
    "#Bagging with SMOTE\n",
    "rf_classifier_bag_sm = RandomForestClassifier(n_estimators=40, random_state=42,max_features=None)  # You can adjust the number of trees (n_estimators)\n",
    "rf_classifier_bag_sm.fit(X_train_sm, y_train_sm)"
   ]
  },
  {
   "cell_type": "code",
   "execution_count": 61,
   "id": "76354f00",
   "metadata": {},
   "outputs": [
    {
     "data": {
      "text/plain": [
       "<sklearn.metrics._plot.confusion_matrix.ConfusionMatrixDisplay at 0x200d86bf3d0>"
      ]
     },
     "execution_count": 61,
     "metadata": {},
     "output_type": "execute_result"
    },
    {
     "data": {
      "image/png": "[encoded data removed]",
      "text/plain": [
       "<Figure size 432x288 with 2 Axes>"
      ]
     },
     "metadata": {
      "needs_background": "light"
     },
     "output_type": "display_data"
    }
   ],
   "source": [
    "from sklearn.metrics import plot_confusion_matrix\n",
    "plot_confusion_matrix(rf_classifier_bag_sm,X_test_vec,y_test)"
   ]
  },
  {
   "cell_type": "code",
   "execution_count": 62,
   "id": "e1ab81b8",
   "metadata": {},
   "outputs": [
    {
     "data": {
      "text/plain": [
       "<sklearn.metrics._plot.confusion_matrix.ConfusionMatrixDisplay at 0x200d61ff040>"
      ]
     },
     "execution_count": 62,
     "metadata": {},
     "output_type": "execute_result"
    },
    {
     "data": {
      "image/png": "[encoded data removed]",
      "text/plain": [
       "<Figure size 432x288 with 2 Axes>"
      ]
     },
     "metadata": {
      "needs_background": "light"
     },
     "output_type": "display_data"
    }
   ],
   "source": [
    "from sklearn.metrics import plot_confusion_matrix\n",
    "plot_confusion_matrix(rf_classifier_bag_sm,X_train_vec,y_train)"
   ]
  },
  {
   "cell_type": "code",
   "execution_count": 63,
   "id": "50707321",
   "metadata": {},
   "outputs": [
    {
     "data": {
      "text/plain": [
       "<sklearn.metrics._plot.confusion_matrix.ConfusionMatrixDisplay at 0x200d8636400>"
      ]
     },
     "execution_count": 63,
     "metadata": {},
     "output_type": "execute_result"
    },
    {
     "data": {
      "image/png": "[encoded data removed]",
      "text/plain": [
       "<Figure size 432x288 with 2 Axes>"
      ]
     },
     "metadata": {
      "needs_background": "light"
     },
     "output_type": "display_data"
    }
   ],
   "source": [
    "from sklearn.metrics import plot_confusion_matrix\n",
    "plot_confusion_matrix(rf_classifier_bag,X_test_vec,y_test)"
   ]
  },
  {
   "cell_type": "code",
   "execution_count": 64,
   "id": "6ea65d39",
   "metadata": {},
   "outputs": [
    {
     "data": {
      "text/plain": [
       "<sklearn.metrics._plot.confusion_matrix.ConfusionMatrixDisplay at 0x200d8819a90>"
      ]
     },
     "execution_count": 64,
     "metadata": {},
     "output_type": "execute_result"
    },
    {
     "data": {
      "image/png": "[encoded data removed]",
      "text/plain": [
       "<Figure size 432x288 with 2 Axes>"
      ]
     },
     "metadata": {
      "needs_background": "light"
     },
     "output_type": "display_data"
    }
   ],
   "source": [
    "from sklearn.metrics import plot_confusion_matrix\n",
    "plot_confusion_matrix(rf_classifier_bag,X_train_vec,y_train)"
   ]
  },
  {
   "cell_type": "code",
   "execution_count": 65,
   "id": "7beabe92",
   "metadata": {},
   "outputs": [],
   "source": [
    "from sklearn.metrics import precision_score, recall_score, f1_score\n",
    "  \n",
    "def evaluate_model(model, X, y):\n",
    "    '''\n",
    "    evaluate the model and returns accuracy,\n",
    "    precision, recall and f1-score\n",
    "    '''\n",
    "    y_preds = np.round(model.predict(X))\n",
    "    accuracy = accuracy_score(y, y_preds)\n",
    "    precision = precision_score(y, y_preds)\n",
    "    recall = recall_score(y, y_preds)\n",
    "    f1 = f1_score(y, y_preds)\n",
    " \n",
    "    model_results_dict = {'accuracy': accuracy,\n",
    "                          'precision': precision,\n",
    "                          'recall': recall,\n",
    "                          'f1-score': f1}\n",
    " \n",
    "    return model_results_dict"
   ]
  },
  {
   "cell_type": "code",
   "execution_count": 66,
   "id": "7e01e696",
   "metadata": {},
   "outputs": [
    {
     "data": {
      "text/html": [
       "<div>\n",
       "<style scoped>\n",
       "    .dataframe tbody tr th:only-of-type {\n",
       "        vertical-align: middle;\n",
       "    }\n",
       "\n",
       "    .dataframe tbody tr th {\n",
       "        vertical-align: top;\n",
       "    }\n",
       "\n",
       "    .dataframe thead th {\n",
       "        text-align: right;\n",
       "    }\n",
       "</style>\n",
       "<table border=\"1\" class=\"dataframe\">\n",
       "  <thead>\n",
       "    <tr style=\"text-align: right;\">\n",
       "      <th></th>\n",
       "      <th>accuracy</th>\n",
       "      <th>precision</th>\n",
       "      <th>recall</th>\n",
       "      <th>f1-score</th>\n",
       "    </tr>\n",
       "  </thead>\n",
       "  <tbody>\n",
       "    <tr>\n",
       "      <th>Naive Bayes classifier</th>\n",
       "      <td>0.979611</td>\n",
       "      <td>0.884354</td>\n",
       "      <td>0.962963</td>\n",
       "      <td>0.921986</td>\n",
       "    </tr>\n",
       "    <tr>\n",
       "      <th>Logistic Regression</th>\n",
       "      <td>0.983318</td>\n",
       "      <td>0.920863</td>\n",
       "      <td>0.948148</td>\n",
       "      <td>0.934307</td>\n",
       "    </tr>\n",
       "    <tr>\n",
       "      <th>Random Forest</th>\n",
       "      <td>0.977757</td>\n",
       "      <td>1.000000</td>\n",
       "      <td>0.822222</td>\n",
       "      <td>0.902439</td>\n",
       "    </tr>\n",
       "    <tr>\n",
       "      <th>Bagging</th>\n",
       "      <td>0.974050</td>\n",
       "      <td>0.884892</td>\n",
       "      <td>0.911111</td>\n",
       "      <td>0.897810</td>\n",
       "    </tr>\n",
       "  </tbody>\n",
       "</table>\n",
       "</div>"
      ],
      "text/plain": [
       "                        accuracy  precision    recall  f1-score\n",
       "Naive Bayes classifier  0.979611   0.884354  0.962963  0.921986\n",
       "Logistic Regression     0.983318   0.920863  0.948148  0.934307\n",
       "Random Forest           0.977757   1.000000  0.822222  0.902439\n",
       "Bagging                 0.974050   0.884892  0.911111  0.897810"
      ]
     },
     "execution_count": 66,
     "metadata": {},
     "output_type": "execute_result"
    }
   ],
   "source": [
    "#Model Performance with SMOTE\n",
    "#Test Data Performance\n",
    "baseline_model_results = evaluate_model(baseline_model_1_sm, X_test_vec, y_test)\n",
    "baseline_model2_results= evaluate_model(baseline_model_2_sm, X_test_vec, y_test)\n",
    "baseline_model3_results= evaluate_model(rf_classifier_sm, X_test_vec, y_test)\n",
    "bagging_results= evaluate_model(rf_classifier_bag_sm, X_test_vec, y_test)\n",
    "\n",
    "total_results = pd.DataFrame({'Naive Bayes classifier':baseline_model_results,\n",
    "                              'Logistic Regression ':baseline_model2_results,\n",
    "                             'Random Forest':baseline_model3_results,\n",
    "                             'Bagging': bagging_results}).transpose()\n",
    " \n",
    "total_results"
   ]
  },
  {
   "cell_type": "code",
   "execution_count": 208,
   "id": "0c0d22f7",
   "metadata": {},
   "outputs": [
    {
     "data": {
      "text/html": [
       "<div>\n",
       "<style scoped>\n",
       "    .dataframe tbody tr th:only-of-type {\n",
       "        vertical-align: middle;\n",
       "    }\n",
       "\n",
       "    .dataframe tbody tr th {\n",
       "        vertical-align: top;\n",
       "    }\n",
       "\n",
       "    .dataframe thead th {\n",
       "        text-align: right;\n",
       "    }\n",
       "</style>\n",
       "<table border=\"1\" class=\"dataframe\">\n",
       "  <thead>\n",
       "    <tr style=\"text-align: right;\">\n",
       "      <th></th>\n",
       "      <th>accuracy</th>\n",
       "      <th>precision</th>\n",
       "      <th>recall</th>\n",
       "      <th>f1-score</th>\n",
       "    </tr>\n",
       "  </thead>\n",
       "  <tbody>\n",
       "    <tr>\n",
       "      <th>Logistic Regression</th>\n",
       "      <td>0.983318</td>\n",
       "      <td>0.956522</td>\n",
       "      <td>0.916667</td>\n",
       "      <td>0.936170</td>\n",
       "    </tr>\n",
       "    <tr>\n",
       "      <th>Random Forest</th>\n",
       "      <td>0.979611</td>\n",
       "      <td>1.000000</td>\n",
       "      <td>0.847222</td>\n",
       "      <td>0.917293</td>\n",
       "    </tr>\n",
       "    <tr>\n",
       "      <th>Naive Bayes classifier</th>\n",
       "      <td>0.975904</td>\n",
       "      <td>0.893333</td>\n",
       "      <td>0.930556</td>\n",
       "      <td>0.911565</td>\n",
       "    </tr>\n",
       "    <tr>\n",
       "      <th>Bagging</th>\n",
       "      <td>0.970343</td>\n",
       "      <td>0.911765</td>\n",
       "      <td>0.861111</td>\n",
       "      <td>0.885714</td>\n",
       "    </tr>\n",
       "  </tbody>\n",
       "</table>\n",
       "</div>"
      ],
      "text/plain": [
       "                        accuracy  precision    recall  f1-score\n",
       "Logistic Regression     0.983318   0.956522  0.916667  0.936170\n",
       "Random Forest           0.979611   1.000000  0.847222  0.917293\n",
       "Naive Bayes classifier  0.975904   0.893333  0.930556  0.911565\n",
       "Bagging                 0.970343   0.911765  0.861111  0.885714"
      ]
     },
     "execution_count": 208,
     "metadata": {},
     "output_type": "execute_result"
    }
   ],
   "source": [
    "total_results.sort_values('f1-score', ascending=False)"
   ]
  },
  {
   "cell_type": "code",
   "execution_count": 209,
   "id": "0fdf0742",
   "metadata": {},
   "outputs": [
    {
     "data": {
      "text/html": [
       "<div>\n",
       "<style scoped>\n",
       "    .dataframe tbody tr th:only-of-type {\n",
       "        vertical-align: middle;\n",
       "    }\n",
       "\n",
       "    .dataframe tbody tr th {\n",
       "        vertical-align: top;\n",
       "    }\n",
       "\n",
       "    .dataframe thead th {\n",
       "        text-align: right;\n",
       "    }\n",
       "</style>\n",
       "<table border=\"1\" class=\"dataframe\">\n",
       "  <thead>\n",
       "    <tr style=\"text-align: right;\">\n",
       "      <th></th>\n",
       "      <th>accuracy</th>\n",
       "      <th>precision</th>\n",
       "      <th>recall</th>\n",
       "      <th>f1-score</th>\n",
       "    </tr>\n",
       "  </thead>\n",
       "  <tbody>\n",
       "    <tr>\n",
       "      <th>Naive Bayes classifier</th>\n",
       "      <td>0.992283</td>\n",
       "      <td>0.992545</td>\n",
       "      <td>0.992017</td>\n",
       "      <td>0.992281</td>\n",
       "    </tr>\n",
       "    <tr>\n",
       "      <th>Logistic Regression</th>\n",
       "      <td>0.994146</td>\n",
       "      <td>0.995200</td>\n",
       "      <td>0.993081</td>\n",
       "      <td>0.994140</td>\n",
       "    </tr>\n",
       "    <tr>\n",
       "      <th>Random Forest</th>\n",
       "      <td>1.000000</td>\n",
       "      <td>1.000000</td>\n",
       "      <td>1.000000</td>\n",
       "      <td>1.000000</td>\n",
       "    </tr>\n",
       "    <tr>\n",
       "      <th>Bagging</th>\n",
       "      <td>0.999734</td>\n",
       "      <td>1.000000</td>\n",
       "      <td>0.999468</td>\n",
       "      <td>0.999734</td>\n",
       "    </tr>\n",
       "  </tbody>\n",
       "</table>\n",
       "</div>"
      ],
      "text/plain": [
       "                        accuracy  precision    recall  f1-score\n",
       "Naive Bayes classifier  0.992283   0.992545  0.992017  0.992281\n",
       "Logistic Regression     0.994146   0.995200  0.993081  0.994140\n",
       "Random Forest           1.000000   1.000000  1.000000  1.000000\n",
       "Bagging                 0.999734   1.000000  0.999468  0.999734"
      ]
     },
     "execution_count": 209,
     "metadata": {},
     "output_type": "execute_result"
    }
   ],
   "source": [
    "#Train Data Performance\n",
    "baseline_model_results = evaluate_model(baseline_model_1_sm, X_train_sm, y_train_sm)\n",
    "baseline_model2_results= evaluate_model(baseline_model_2_sm, X_train_sm, y_train_sm)\n",
    "baseline_model3_results= evaluate_model(rf_classifier_sm, X_train_sm, y_train_sm)\n",
    "bagging_results= evaluate_model(rf_classifier_bag_sm, X_train_sm, y_train_sm)\n",
    "\n",
    "total_results = pd.DataFrame({'Naive Bayes classifier':baseline_model_results,\n",
    "                              'Logistic Regression ':baseline_model2_results,\n",
    "                             'Random Forest':baseline_model3_results,\n",
    "                             'Bagging': bagging_results}).transpose()\n",
    " \n",
    "total_results"
   ]
  },
  {
   "cell_type": "code",
   "execution_count": 210,
   "id": "ce42206c",
   "metadata": {},
   "outputs": [
    {
     "data": {
      "text/html": [
       "<div>\n",
       "<style scoped>\n",
       "    .dataframe tbody tr th:only-of-type {\n",
       "        vertical-align: middle;\n",
       "    }\n",
       "\n",
       "    .dataframe tbody tr th {\n",
       "        vertical-align: top;\n",
       "    }\n",
       "\n",
       "    .dataframe thead th {\n",
       "        text-align: right;\n",
       "    }\n",
       "</style>\n",
       "<table border=\"1\" class=\"dataframe\">\n",
       "  <thead>\n",
       "    <tr style=\"text-align: right;\">\n",
       "      <th></th>\n",
       "      <th>accuracy</th>\n",
       "      <th>precision</th>\n",
       "      <th>recall</th>\n",
       "      <th>f1-score</th>\n",
       "    </tr>\n",
       "  </thead>\n",
       "  <tbody>\n",
       "    <tr>\n",
       "      <th>Random Forest</th>\n",
       "      <td>1.000000</td>\n",
       "      <td>1.000000</td>\n",
       "      <td>1.000000</td>\n",
       "      <td>1.000000</td>\n",
       "    </tr>\n",
       "    <tr>\n",
       "      <th>Bagging</th>\n",
       "      <td>0.999734</td>\n",
       "      <td>1.000000</td>\n",
       "      <td>0.999468</td>\n",
       "      <td>0.999734</td>\n",
       "    </tr>\n",
       "    <tr>\n",
       "      <th>Logistic Regression</th>\n",
       "      <td>0.994146</td>\n",
       "      <td>0.995200</td>\n",
       "      <td>0.993081</td>\n",
       "      <td>0.994140</td>\n",
       "    </tr>\n",
       "    <tr>\n",
       "      <th>Naive Bayes classifier</th>\n",
       "      <td>0.992283</td>\n",
       "      <td>0.992545</td>\n",
       "      <td>0.992017</td>\n",
       "      <td>0.992281</td>\n",
       "    </tr>\n",
       "  </tbody>\n",
       "</table>\n",
       "</div>"
      ],
      "text/plain": [
       "                        accuracy  precision    recall  f1-score\n",
       "Random Forest           1.000000   1.000000  1.000000  1.000000\n",
       "Bagging                 0.999734   1.000000  0.999468  0.999734\n",
       "Logistic Regression     0.994146   0.995200  0.993081  0.994140\n",
       "Naive Bayes classifier  0.992283   0.992545  0.992017  0.992281"
      ]
     },
     "execution_count": 210,
     "metadata": {},
     "output_type": "execute_result"
    }
   ],
   "source": [
    "total_results.sort_values('f1-score', ascending=False)"
   ]
  },
  {
   "cell_type": "code",
   "execution_count": 211,
   "id": "af483a2d",
   "metadata": {},
   "outputs": [
    {
     "data": {
      "text/html": [
       "<div>\n",
       "<style scoped>\n",
       "    .dataframe tbody tr th:only-of-type {\n",
       "        vertical-align: middle;\n",
       "    }\n",
       "\n",
       "    .dataframe tbody tr th {\n",
       "        vertical-align: top;\n",
       "    }\n",
       "\n",
       "    .dataframe thead th {\n",
       "        text-align: right;\n",
       "    }\n",
       "</style>\n",
       "<table border=\"1\" class=\"dataframe\">\n",
       "  <thead>\n",
       "    <tr style=\"text-align: right;\">\n",
       "      <th></th>\n",
       "      <th>accuracy</th>\n",
       "      <th>precision</th>\n",
       "      <th>recall</th>\n",
       "      <th>f1-score</th>\n",
       "    </tr>\n",
       "  </thead>\n",
       "  <tbody>\n",
       "    <tr>\n",
       "      <th>Naive Bayes classifier</th>\n",
       "      <td>0.962002</td>\n",
       "      <td>1.000000</td>\n",
       "      <td>0.715278</td>\n",
       "      <td>0.834008</td>\n",
       "    </tr>\n",
       "    <tr>\n",
       "      <th>Logistic Regression</th>\n",
       "      <td>0.973123</td>\n",
       "      <td>0.991453</td>\n",
       "      <td>0.805556</td>\n",
       "      <td>0.888889</td>\n",
       "    </tr>\n",
       "    <tr>\n",
       "      <th>Random Forest</th>\n",
       "      <td>0.975904</td>\n",
       "      <td>0.991667</td>\n",
       "      <td>0.826389</td>\n",
       "      <td>0.901515</td>\n",
       "    </tr>\n",
       "    <tr>\n",
       "      <th>Bagging</th>\n",
       "      <td>0.974977</td>\n",
       "      <td>0.953488</td>\n",
       "      <td>0.854167</td>\n",
       "      <td>0.901099</td>\n",
       "    </tr>\n",
       "  </tbody>\n",
       "</table>\n",
       "</div>"
      ],
      "text/plain": [
       "                        accuracy  precision    recall  f1-score\n",
       "Naive Bayes classifier  0.962002   1.000000  0.715278  0.834008\n",
       "Logistic Regression     0.973123   0.991453  0.805556  0.888889\n",
       "Random Forest           0.975904   0.991667  0.826389  0.901515\n",
       "Bagging                 0.974977   0.953488  0.854167  0.901099"
      ]
     },
     "execution_count": 211,
     "metadata": {},
     "output_type": "execute_result"
    }
   ],
   "source": [
    "#Model Performance without SMOTE\n",
    "#Test Data Performance\n",
    "baseline_model_results = evaluate_model(baseline_model, X_test_vec, y_test)\n",
    "baseline_model2_results= evaluate_model(baseline_model_2, X_test_vec, y_test)\n",
    "baseline_model3_results= evaluate_model(rf_classifier, X_test_vec, y_test)\n",
    "bagging_results= evaluate_model(rf_classifier_bag, X_test_vec, y_test)\n",
    "\n",
    "total_results = pd.DataFrame({'Naive Bayes classifier':baseline_model_results,\n",
    "                              'Logistic Regression ':baseline_model2_results,\n",
    "                             'Random Forest':baseline_model3_results,\n",
    "                             'Bagging':bagging_results}).transpose()\n",
    " \n",
    "total_results"
   ]
  },
  {
   "cell_type": "code",
   "execution_count": 212,
   "id": "359692e6",
   "metadata": {},
   "outputs": [
    {
     "data": {
      "text/html": [
       "<div>\n",
       "<style scoped>\n",
       "    .dataframe tbody tr th:only-of-type {\n",
       "        vertical-align: middle;\n",
       "    }\n",
       "\n",
       "    .dataframe tbody tr th {\n",
       "        vertical-align: top;\n",
       "    }\n",
       "\n",
       "    .dataframe thead th {\n",
       "        text-align: right;\n",
       "    }\n",
       "</style>\n",
       "<table border=\"1\" class=\"dataframe\">\n",
       "  <thead>\n",
       "    <tr style=\"text-align: right;\">\n",
       "      <th></th>\n",
       "      <th>accuracy</th>\n",
       "      <th>precision</th>\n",
       "      <th>recall</th>\n",
       "      <th>f1-score</th>\n",
       "    </tr>\n",
       "  </thead>\n",
       "  <tbody>\n",
       "    <tr>\n",
       "      <th>Random Forest</th>\n",
       "      <td>0.975904</td>\n",
       "      <td>0.991667</td>\n",
       "      <td>0.826389</td>\n",
       "      <td>0.901515</td>\n",
       "    </tr>\n",
       "    <tr>\n",
       "      <th>Bagging</th>\n",
       "      <td>0.974977</td>\n",
       "      <td>0.953488</td>\n",
       "      <td>0.854167</td>\n",
       "      <td>0.901099</td>\n",
       "    </tr>\n",
       "    <tr>\n",
       "      <th>Logistic Regression</th>\n",
       "      <td>0.973123</td>\n",
       "      <td>0.991453</td>\n",
       "      <td>0.805556</td>\n",
       "      <td>0.888889</td>\n",
       "    </tr>\n",
       "    <tr>\n",
       "      <th>Naive Bayes classifier</th>\n",
       "      <td>0.962002</td>\n",
       "      <td>1.000000</td>\n",
       "      <td>0.715278</td>\n",
       "      <td>0.834008</td>\n",
       "    </tr>\n",
       "  </tbody>\n",
       "</table>\n",
       "</div>"
      ],
      "text/plain": [
       "                        accuracy  precision    recall  f1-score\n",
       "Random Forest           0.975904   0.991667  0.826389  0.901515\n",
       "Bagging                 0.974977   0.953488  0.854167  0.901099\n",
       "Logistic Regression     0.973123   0.991453  0.805556  0.888889\n",
       "Naive Bayes classifier  0.962002   1.000000  0.715278  0.834008"
      ]
     },
     "execution_count": 212,
     "metadata": {},
     "output_type": "execute_result"
    }
   ],
   "source": [
    "total_results.sort_values('f1-score', ascending=False)"
   ]
  },
  {
   "cell_type": "code",
   "execution_count": 213,
   "id": "c70a8d1b",
   "metadata": {},
   "outputs": [
    {
     "data": {
      "text/html": [
       "<div>\n",
       "<style scoped>\n",
       "    .dataframe tbody tr th:only-of-type {\n",
       "        vertical-align: middle;\n",
       "    }\n",
       "\n",
       "    .dataframe tbody tr th {\n",
       "        vertical-align: top;\n",
       "    }\n",
       "\n",
       "    .dataframe thead th {\n",
       "        text-align: right;\n",
       "    }\n",
       "</style>\n",
       "<table border=\"1\" class=\"dataframe\">\n",
       "  <thead>\n",
       "    <tr style=\"text-align: right;\">\n",
       "      <th></th>\n",
       "      <th>accuracy</th>\n",
       "      <th>precision</th>\n",
       "      <th>recall</th>\n",
       "      <th>f1-score</th>\n",
       "    </tr>\n",
       "  </thead>\n",
       "  <tbody>\n",
       "    <tr>\n",
       "      <th>Naive Bayes classifier</th>\n",
       "      <td>0.975435</td>\n",
       "      <td>1.000000</td>\n",
       "      <td>0.809695</td>\n",
       "      <td>0.894841</td>\n",
       "    </tr>\n",
       "    <tr>\n",
       "      <th>Logistic Regression</th>\n",
       "      <td>0.978447</td>\n",
       "      <td>0.995726</td>\n",
       "      <td>0.836625</td>\n",
       "      <td>0.909268</td>\n",
       "    </tr>\n",
       "    <tr>\n",
       "      <th>Random Forest</th>\n",
       "      <td>0.999768</td>\n",
       "      <td>1.000000</td>\n",
       "      <td>0.998205</td>\n",
       "      <td>0.999102</td>\n",
       "    </tr>\n",
       "    <tr>\n",
       "      <th>Bagging</th>\n",
       "      <td>0.999305</td>\n",
       "      <td>1.000000</td>\n",
       "      <td>0.994614</td>\n",
       "      <td>0.997300</td>\n",
       "    </tr>\n",
       "  </tbody>\n",
       "</table>\n",
       "</div>"
      ],
      "text/plain": [
       "                        accuracy  precision    recall  f1-score\n",
       "Naive Bayes classifier  0.975435   1.000000  0.809695  0.894841\n",
       "Logistic Regression     0.978447   0.995726  0.836625  0.909268\n",
       "Random Forest           0.999768   1.000000  0.998205  0.999102\n",
       "Bagging                 0.999305   1.000000  0.994614  0.997300"
      ]
     },
     "execution_count": 213,
     "metadata": {},
     "output_type": "execute_result"
    }
   ],
   "source": [
    "#Train Data Performance\n",
    "baseline_model_results = evaluate_model(baseline_model, X_train_vec, y_train)\n",
    "baseline_model2_results= evaluate_model(baseline_model_2, X_train_vec, y_train)\n",
    "baseline_model3_results= evaluate_model(rf_classifier, X_train_vec, y_train)\n",
    "bagging_results= evaluate_model(rf_classifier_bag, X_train_vec, y_train)\n",
    "\n",
    "total_results = pd.DataFrame({'Naive Bayes classifier':baseline_model_results,\n",
    "                              'Logistic Regression ':baseline_model2_results,\n",
    "                             'Random Forest':baseline_model3_results,\n",
    "                             'Bagging':bagging_results}).transpose()\n",
    " \n",
    "total_results"
   ]
  },
  {
   "cell_type": "code",
   "execution_count": 214,
   "id": "fffc6165",
   "metadata": {},
   "outputs": [
    {
     "data": {
      "text/html": [
       "<div>\n",
       "<style scoped>\n",
       "    .dataframe tbody tr th:only-of-type {\n",
       "        vertical-align: middle;\n",
       "    }\n",
       "\n",
       "    .dataframe tbody tr th {\n",
       "        vertical-align: top;\n",
       "    }\n",
       "\n",
       "    .dataframe thead th {\n",
       "        text-align: right;\n",
       "    }\n",
       "</style>\n",
       "<table border=\"1\" class=\"dataframe\">\n",
       "  <thead>\n",
       "    <tr style=\"text-align: right;\">\n",
       "      <th></th>\n",
       "      <th>accuracy</th>\n",
       "      <th>precision</th>\n",
       "      <th>recall</th>\n",
       "      <th>f1-score</th>\n",
       "    </tr>\n",
       "  </thead>\n",
       "  <tbody>\n",
       "    <tr>\n",
       "      <th>Random Forest</th>\n",
       "      <td>0.999768</td>\n",
       "      <td>1.000000</td>\n",
       "      <td>0.998205</td>\n",
       "      <td>0.999102</td>\n",
       "    </tr>\n",
       "    <tr>\n",
       "      <th>Bagging</th>\n",
       "      <td>0.999305</td>\n",
       "      <td>1.000000</td>\n",
       "      <td>0.994614</td>\n",
       "      <td>0.997300</td>\n",
       "    </tr>\n",
       "    <tr>\n",
       "      <th>Logistic Regression</th>\n",
       "      <td>0.978447</td>\n",
       "      <td>0.995726</td>\n",
       "      <td>0.836625</td>\n",
       "      <td>0.909268</td>\n",
       "    </tr>\n",
       "    <tr>\n",
       "      <th>Naive Bayes classifier</th>\n",
       "      <td>0.975435</td>\n",
       "      <td>1.000000</td>\n",
       "      <td>0.809695</td>\n",
       "      <td>0.894841</td>\n",
       "    </tr>\n",
       "  </tbody>\n",
       "</table>\n",
       "</div>"
      ],
      "text/plain": [
       "                        accuracy  precision    recall  f1-score\n",
       "Random Forest           0.999768   1.000000  0.998205  0.999102\n",
       "Bagging                 0.999305   1.000000  0.994614  0.997300\n",
       "Logistic Regression     0.978447   0.995726  0.836625  0.909268\n",
       "Naive Bayes classifier  0.975435   1.000000  0.809695  0.894841"
      ]
     },
     "execution_count": 214,
     "metadata": {},
     "output_type": "execute_result"
    }
   ],
   "source": [
    "total_results.sort_values('f1-score', ascending=False)"
   ]
  },
  {
   "cell_type": "code",
   "execution_count": 215,
   "id": "d73b37d2",
   "metadata": {},
   "outputs": [
    {
     "data": {
      "text/plain": [
       "((4314,), (4314,), (1080,), (1080,))"
      ]
     },
     "execution_count": 215,
     "metadata": {},
     "output_type": "execute_result"
    }
   ],
   "source": [
    "#80:20 Split from both Spam and Ham after removal of outliers\n",
    "# Separate spam and ham messages\n",
    "spam_messages = new_df[new_df['label'] == 1]\n",
    "ham_messages = new_df[new_df['label'] == 0]\n",
    "\n",
    "# Split spam messages into train and test sets\n",
    "X_train_spam, X_test_spam, y_train_spam, y_test_spam = train_test_split(\n",
    "    spam_messages['Text'], spam_messages['label'], test_size=0.2, random_state=42)\n",
    "\n",
    "# Split ham messages into train and test sets\n",
    "X_train_ham, X_test_ham, y_train_ham, y_test_ham = train_test_split(\n",
    "    ham_messages['Text'], ham_messages['label'], test_size=0.2, random_state=42)\n",
    "\n",
    "# Concatenate train and test sets for spam and ham\n",
    "X_train = pd.concat([X_train_spam, X_train_ham])\n",
    "X_test = pd.concat([X_test_spam, X_test_ham])\n",
    "y_train = pd.concat([y_train_spam, y_train_ham])\n",
    "y_test = pd.concat([y_test_spam, y_test_ham])\n",
    "\n",
    "# Shuffle the data\n",
    "X_train = X_train.sample(frac=1, random_state=42).reset_index(drop=True)\n",
    "X_test = X_test.sample(frac=1, random_state=42).reset_index(drop=True)\n",
    "y_train = y_train.sample(frac=1, random_state=42).reset_index(drop=True)\n",
    "y_test = y_test.sample(frac=1, random_state=42).reset_index(drop=True)\n",
    "\n",
    "# Check shapes\n",
    "X_train.shape, y_train.shape, X_test.shape, y_test.shape"
   ]
  },
  {
   "cell_type": "code",
   "execution_count": 216,
   "id": "e4e3cdd8",
   "metadata": {},
   "outputs": [],
   "source": [
    "#Applying TF-IDF Vectorizer\n",
    "tfidf_vec = TfidfVectorizer(min_df=1).fit(X_train)\n",
    "X_train_vec,X_test_vec = tfidf_vec.transform(X_train),tfidf_vec.transform(X_test)"
   ]
  },
  {
   "cell_type": "code",
   "execution_count": 217,
   "id": "5e2ad45d",
   "metadata": {},
   "outputs": [],
   "source": [
    "#Applying SMOTE on the training data\n",
    "smote = SMOTE()\n",
    "X_train_sm,y_train_sm = smote.fit_resample(X_train_vec,y_train)"
   ]
  },
  {
   "cell_type": "code",
   "execution_count": 218,
   "id": "fe39c917",
   "metadata": {},
   "outputs": [
    {
     "data": {
      "text/plain": [
       "MultinomialNB()"
      ]
     },
     "execution_count": 218,
     "metadata": {},
     "output_type": "execute_result"
    }
   ],
   "source": [
    "#Naive Bayes Classifier with SMOTE \n",
    "baseline_model_1_sm = MultinomialNB()\n",
    "baseline_model_1_sm.fit(X_train_sm,y_train_sm)"
   ]
  },
  {
   "cell_type": "code",
   "execution_count": 219,
   "id": "e4e21431",
   "metadata": {},
   "outputs": [
    {
     "data": {
      "text/plain": [
       "MultinomialNB()"
      ]
     },
     "execution_count": 219,
     "metadata": {},
     "output_type": "execute_result"
    }
   ],
   "source": [
    "#Naive Bayes Classifier without SMOTE \n",
    "baseline_model = MultinomialNB()\n",
    "baseline_model.fit(X_train_vec,y_train)"
   ]
  },
  {
   "cell_type": "code",
   "execution_count": 220,
   "id": "dc4cd1ee",
   "metadata": {},
   "outputs": [
    {
     "data": {
      "text/plain": [
       "LogisticRegression()"
      ]
     },
     "execution_count": 220,
     "metadata": {},
     "output_type": "execute_result"
    }
   ],
   "source": [
    "#Logistic Regression with SMOTE\n",
    "from sklearn.linear_model import LogisticRegression\n",
    "# Initialize the logistic regression model\n",
    "baseline_model_2_sm = LogisticRegression()\n",
    "# Fit the model to the training data\n",
    "baseline_model_2_sm.fit(X_train_sm, y_train_sm)"
   ]
  },
  {
   "cell_type": "code",
   "execution_count": 221,
   "id": "289035b3",
   "metadata": {},
   "outputs": [
    {
     "data": {
      "text/plain": [
       "LogisticRegression()"
      ]
     },
     "execution_count": 221,
     "metadata": {},
     "output_type": "execute_result"
    }
   ],
   "source": [
    "#Logistic Regression without SMOTE\n",
    "# Initialize the logistic regression model\n",
    "baseline_model_2 = LogisticRegression()\n",
    "\n",
    "# Fit the model to the training data\n",
    "baseline_model_2.fit(X_train_vec, y_train)"
   ]
  },
  {
   "cell_type": "code",
   "execution_count": 222,
   "id": "9a2d544d",
   "metadata": {},
   "outputs": [
    {
     "data": {
      "text/plain": [
       "{'mean_fit_time': array([1.16273808, 1.44611292, 1.73383021, 2.04911075, 2.35685353]),\n",
       " 'std_fit_time': array([0.11164573, 0.02244753, 0.03194658, 0.012147  , 0.02973568]),\n",
       " 'mean_score_time': array([0.01563001, 0.01889029, 0.01887259, 0.02822084, 0.03148041]),\n",
       " 'std_score_time': array([1.64090191e-05, 6.18928033e-03, 6.19536713e-03, 6.25179230e-03,\n",
       "        2.67157890e-04]),\n",
       " 'param_n_estimators': masked_array(data=[20, 25, 30, 35, 40],\n",
       "              mask=[False, False, False, False, False],\n",
       "        fill_value='?',\n",
       "             dtype=object),\n",
       " 'params': [{'n_estimators': 20},\n",
       "  {'n_estimators': 25},\n",
       "  {'n_estimators': 30},\n",
       "  {'n_estimators': 35},\n",
       "  {'n_estimators': 40}],\n",
       " 'split0_test_score': array([0.97566628, 0.98030127, 0.97798378, 0.98377752, 0.97914253]),\n",
       " 'split1_test_score': array([0.97566628, 0.97682503, 0.97914253, 0.98146002, 0.97219003]),\n",
       " 'split2_test_score': array([0.97798378, 0.97682503, 0.97798378, 0.97566628, 0.98030127]),\n",
       " 'split3_test_score': array([0.97103129, 0.97914253, 0.97798378, 0.97914253, 0.97566628]),\n",
       " 'split4_test_score': array([0.96983759, 0.97563805, 0.97563805, 0.97911833, 0.97911833]),\n",
       " 'mean_test_score': array([0.97403704, 0.97774638, 0.97774638, 0.97983294, 0.97728369]),\n",
       " 'std_test_score': array([0.00308401, 0.00170994, 0.00114572, 0.0027039 , 0.0029829 ]),\n",
       " 'rank_test_score': array([5, 2, 3, 1, 4])}"
      ]
     },
     "execution_count": 222,
     "metadata": {},
     "output_type": "execute_result"
    }
   ],
   "source": [
    "#Random Forest without SMOTE\n",
    "from sklearn.ensemble import RandomForestClassifier\n",
    "from sklearn.model_selection import GridSearchCV\n",
    "\n",
    "clf = GridSearchCV(RandomForestClassifier(), {\n",
    "    'n_estimators': [20,25,30,35,40]\n",
    "    }, cv=5, return_train_score=False)\n",
    "clf.fit(X_train_vec, y_train)\n",
    "clf.cv_results_"
   ]
  },
  {
   "cell_type": "code",
   "execution_count": 223,
   "id": "2f395ec1",
   "metadata": {},
   "outputs": [
    {
     "data": {
      "text/html": [
       "<div>\n",
       "<style scoped>\n",
       "    .dataframe tbody tr th:only-of-type {\n",
       "        vertical-align: middle;\n",
       "    }\n",
       "\n",
       "    .dataframe tbody tr th {\n",
       "        vertical-align: top;\n",
       "    }\n",
       "\n",
       "    .dataframe thead th {\n",
       "        text-align: right;\n",
       "    }\n",
       "</style>\n",
       "<table border=\"1\" class=\"dataframe\">\n",
       "  <thead>\n",
       "    <tr style=\"text-align: right;\">\n",
       "      <th></th>\n",
       "      <th>mean_fit_time</th>\n",
       "      <th>std_fit_time</th>\n",
       "      <th>mean_score_time</th>\n",
       "      <th>std_score_time</th>\n",
       "      <th>param_n_estimators</th>\n",
       "      <th>params</th>\n",
       "      <th>split0_test_score</th>\n",
       "      <th>split1_test_score</th>\n",
       "      <th>split2_test_score</th>\n",
       "      <th>split3_test_score</th>\n",
       "      <th>split4_test_score</th>\n",
       "      <th>mean_test_score</th>\n",
       "      <th>std_test_score</th>\n",
       "      <th>rank_test_score</th>\n",
       "    </tr>\n",
       "  </thead>\n",
       "  <tbody>\n",
       "    <tr>\n",
       "      <th>0</th>\n",
       "      <td>1.162738</td>\n",
       "      <td>0.111646</td>\n",
       "      <td>0.015630</td>\n",
       "      <td>0.000016</td>\n",
       "      <td>20</td>\n",
       "      <td>{'n_estimators': 20}</td>\n",
       "      <td>0.975666</td>\n",
       "      <td>0.975666</td>\n",
       "      <td>0.977984</td>\n",
       "      <td>0.971031</td>\n",
       "      <td>0.969838</td>\n",
       "      <td>0.974037</td>\n",
       "      <td>0.003084</td>\n",
       "      <td>5</td>\n",
       "    </tr>\n",
       "    <tr>\n",
       "      <th>1</th>\n",
       "      <td>1.446113</td>\n",
       "      <td>0.022448</td>\n",
       "      <td>0.018890</td>\n",
       "      <td>0.006189</td>\n",
       "      <td>25</td>\n",
       "      <td>{'n_estimators': 25}</td>\n",
       "      <td>0.980301</td>\n",
       "      <td>0.976825</td>\n",
       "      <td>0.976825</td>\n",
       "      <td>0.979143</td>\n",
       "      <td>0.975638</td>\n",
       "      <td>0.977746</td>\n",
       "      <td>0.001710</td>\n",
       "      <td>2</td>\n",
       "    </tr>\n",
       "    <tr>\n",
       "      <th>2</th>\n",
       "      <td>1.733830</td>\n",
       "      <td>0.031947</td>\n",
       "      <td>0.018873</td>\n",
       "      <td>0.006195</td>\n",
       "      <td>30</td>\n",
       "      <td>{'n_estimators': 30}</td>\n",
       "      <td>0.977984</td>\n",
       "      <td>0.979143</td>\n",
       "      <td>0.977984</td>\n",
       "      <td>0.977984</td>\n",
       "      <td>0.975638</td>\n",
       "      <td>0.977746</td>\n",
       "      <td>0.001146</td>\n",
       "      <td>3</td>\n",
       "    </tr>\n",
       "    <tr>\n",
       "      <th>3</th>\n",
       "      <td>2.049111</td>\n",
       "      <td>0.012147</td>\n",
       "      <td>0.028221</td>\n",
       "      <td>0.006252</td>\n",
       "      <td>35</td>\n",
       "      <td>{'n_estimators': 35}</td>\n",
       "      <td>0.983778</td>\n",
       "      <td>0.981460</td>\n",
       "      <td>0.975666</td>\n",
       "      <td>0.979143</td>\n",
       "      <td>0.979118</td>\n",
       "      <td>0.979833</td>\n",
       "      <td>0.002704</td>\n",
       "      <td>1</td>\n",
       "    </tr>\n",
       "    <tr>\n",
       "      <th>4</th>\n",
       "      <td>2.356854</td>\n",
       "      <td>0.029736</td>\n",
       "      <td>0.031480</td>\n",
       "      <td>0.000267</td>\n",
       "      <td>40</td>\n",
       "      <td>{'n_estimators': 40}</td>\n",
       "      <td>0.979143</td>\n",
       "      <td>0.972190</td>\n",
       "      <td>0.980301</td>\n",
       "      <td>0.975666</td>\n",
       "      <td>0.979118</td>\n",
       "      <td>0.977284</td>\n",
       "      <td>0.002983</td>\n",
       "      <td>4</td>\n",
       "    </tr>\n",
       "  </tbody>\n",
       "</table>\n",
       "</div>"
      ],
      "text/plain": [
       "   mean_fit_time  std_fit_time  mean_score_time  std_score_time  \\\n",
       "0       1.162738      0.111646         0.015630        0.000016   \n",
       "1       1.446113      0.022448         0.018890        0.006189   \n",
       "2       1.733830      0.031947         0.018873        0.006195   \n",
       "3       2.049111      0.012147         0.028221        0.006252   \n",
       "4       2.356854      0.029736         0.031480        0.000267   \n",
       "\n",
       "  param_n_estimators                params  split0_test_score  \\\n",
       "0                 20  {'n_estimators': 20}           0.975666   \n",
       "1                 25  {'n_estimators': 25}           0.980301   \n",
       "2                 30  {'n_estimators': 30}           0.977984   \n",
       "3                 35  {'n_estimators': 35}           0.983778   \n",
       "4                 40  {'n_estimators': 40}           0.979143   \n",
       "\n",
       "   split1_test_score  split2_test_score  split3_test_score  split4_test_score  \\\n",
       "0           0.975666           0.977984           0.971031           0.969838   \n",
       "1           0.976825           0.976825           0.979143           0.975638   \n",
       "2           0.979143           0.977984           0.977984           0.975638   \n",
       "3           0.981460           0.975666           0.979143           0.979118   \n",
       "4           0.972190           0.980301           0.975666           0.979118   \n",
       "\n",
       "   mean_test_score  std_test_score  rank_test_score  \n",
       "0         0.974037        0.003084                5  \n",
       "1         0.977746        0.001710                2  \n",
       "2         0.977746        0.001146                3  \n",
       "3         0.979833        0.002704                1  \n",
       "4         0.977284        0.002983                4  "
      ]
     },
     "execution_count": 223,
     "metadata": {},
     "output_type": "execute_result"
    }
   ],
   "source": [
    "df = pd.DataFrame(clf.cv_results_)\n",
    "df"
   ]
  },
  {
   "cell_type": "code",
   "execution_count": 224,
   "id": "540e32da",
   "metadata": {},
   "outputs": [
    {
     "data": {
      "text/html": [
       "<div>\n",
       "<style scoped>\n",
       "    .dataframe tbody tr th:only-of-type {\n",
       "        vertical-align: middle;\n",
       "    }\n",
       "\n",
       "    .dataframe tbody tr th {\n",
       "        vertical-align: top;\n",
       "    }\n",
       "\n",
       "    .dataframe thead th {\n",
       "        text-align: right;\n",
       "    }\n",
       "</style>\n",
       "<table border=\"1\" class=\"dataframe\">\n",
       "  <thead>\n",
       "    <tr style=\"text-align: right;\">\n",
       "      <th></th>\n",
       "      <th>param_n_estimators</th>\n",
       "      <th>mean_test_score</th>\n",
       "    </tr>\n",
       "  </thead>\n",
       "  <tbody>\n",
       "    <tr>\n",
       "      <th>0</th>\n",
       "      <td>20</td>\n",
       "      <td>0.974037</td>\n",
       "    </tr>\n",
       "    <tr>\n",
       "      <th>1</th>\n",
       "      <td>25</td>\n",
       "      <td>0.977746</td>\n",
       "    </tr>\n",
       "    <tr>\n",
       "      <th>2</th>\n",
       "      <td>30</td>\n",
       "      <td>0.977746</td>\n",
       "    </tr>\n",
       "    <tr>\n",
       "      <th>3</th>\n",
       "      <td>35</td>\n",
       "      <td>0.979833</td>\n",
       "    </tr>\n",
       "    <tr>\n",
       "      <th>4</th>\n",
       "      <td>40</td>\n",
       "      <td>0.977284</td>\n",
       "    </tr>\n",
       "  </tbody>\n",
       "</table>\n",
       "</div>"
      ],
      "text/plain": [
       "  param_n_estimators  mean_test_score\n",
       "0                 20         0.974037\n",
       "1                 25         0.977746\n",
       "2                 30         0.977746\n",
       "3                 35         0.979833\n",
       "4                 40         0.977284"
      ]
     },
     "execution_count": 224,
     "metadata": {},
     "output_type": "execute_result"
    }
   ],
   "source": [
    "df[['param_n_estimators','mean_test_score']]"
   ]
  },
  {
   "cell_type": "code",
   "execution_count": 225,
   "id": "19618c93",
   "metadata": {},
   "outputs": [
    {
     "data": {
      "text/plain": [
       "{'n_estimators': 35}"
      ]
     },
     "execution_count": 225,
     "metadata": {},
     "output_type": "execute_result"
    }
   ],
   "source": [
    "clf.best_params_"
   ]
  },
  {
   "cell_type": "code",
   "execution_count": 226,
   "id": "3da8c109",
   "metadata": {},
   "outputs": [
    {
     "data": {
      "text/plain": [
       "RandomForestClassifier(n_estimators=35, random_state=42)"
      ]
     },
     "execution_count": 226,
     "metadata": {},
     "output_type": "execute_result"
    }
   ],
   "source": [
    "# Create a Random Forest classifier\n",
    "rf_classifier = RandomForestClassifier(n_estimators=clf.best_params_['n_estimators'], random_state=42)  # You can adjust the number of trees (n_estimators)\n",
    "\n",
    "# Train the Random Forest classifier\n",
    "rf_classifier.fit(X_train_vec, y_train)"
   ]
  },
  {
   "cell_type": "code",
   "execution_count": 227,
   "id": "b15dd441",
   "metadata": {},
   "outputs": [
    {
     "data": {
      "text/plain": [
       "{'mean_fit_time': array([1.25840979, 1.57943721, 1.87450695, 2.18948474, 2.49435878]),\n",
       " 'std_fit_time': array([0.08803891, 0.12979911, 0.11909641, 0.18777066, 0.19168799]),\n",
       " 'mean_score_time': array([0.01844578, 0.02614164, 0.0312552 , 0.03216295, 0.03904915]),\n",
       " 'std_score_time': array([6.41750616e-03, 6.72646784e-03, 4.58784257e-05, 1.87621962e-03,\n",
       "        7.48369760e-03]),\n",
       " 'param_n_estimators': masked_array(data=[20, 25, 30, 35, 40],\n",
       "              mask=[False, False, False, False, False],\n",
       "        fill_value='?',\n",
       "             dtype=object),\n",
       " 'params': [{'n_estimators': 20},\n",
       "  {'n_estimators': 25},\n",
       "  {'n_estimators': 30},\n",
       "  {'n_estimators': 35},\n",
       "  {'n_estimators': 40}],\n",
       " 'split0_test_score': array([0.96404794, 0.96737683, 0.96271638, 0.96604527, 0.96537949]),\n",
       " 'split1_test_score': array([1.        , 0.99933422, 1.        , 1.        , 1.        ]),\n",
       " 'split2_test_score': array([0.99866844, 1.        , 1.        , 0.99866844, 0.99866844]),\n",
       " 'split3_test_score': array([0.99933378, 1.        , 1.        , 1.        , 0.99933378]),\n",
       " 'split4_test_score': array([0.99933378, 0.99933378, 1.        , 1.        , 1.        ]),\n",
       " 'mean_test_score': array([0.99227679, 0.99320897, 0.99254328, 0.99294274, 0.99267634]),\n",
       " 'std_test_score': array([0.0141207 , 0.0129195 , 0.01491345, 0.01345862, 0.01365735]),\n",
       " 'rank_test_score': array([5, 1, 4, 2, 3])}"
      ]
     },
     "execution_count": 227,
     "metadata": {},
     "output_type": "execute_result"
    }
   ],
   "source": [
    "#Random Forest with SMOTE\n",
    "clf_sm = GridSearchCV(RandomForestClassifier(), {\n",
    "    'n_estimators': [20,25,30,35,40]\n",
    "    }, cv=5, return_train_score=False)\n",
    "clf_sm.fit(X_train_sm, y_train_sm)\n",
    "clf_sm.cv_results_"
   ]
  },
  {
   "cell_type": "code",
   "execution_count": 228,
   "id": "4a4a8361",
   "metadata": {},
   "outputs": [
    {
     "data": {
      "text/html": [
       "<div>\n",
       "<style scoped>\n",
       "    .dataframe tbody tr th:only-of-type {\n",
       "        vertical-align: middle;\n",
       "    }\n",
       "\n",
       "    .dataframe tbody tr th {\n",
       "        vertical-align: top;\n",
       "    }\n",
       "\n",
       "    .dataframe thead th {\n",
       "        text-align: right;\n",
       "    }\n",
       "</style>\n",
       "<table border=\"1\" class=\"dataframe\">\n",
       "  <thead>\n",
       "    <tr style=\"text-align: right;\">\n",
       "      <th></th>\n",
       "      <th>mean_fit_time</th>\n",
       "      <th>std_fit_time</th>\n",
       "      <th>mean_score_time</th>\n",
       "      <th>std_score_time</th>\n",
       "      <th>param_n_estimators</th>\n",
       "      <th>params</th>\n",
       "      <th>split0_test_score</th>\n",
       "      <th>split1_test_score</th>\n",
       "      <th>split2_test_score</th>\n",
       "      <th>split3_test_score</th>\n",
       "      <th>split4_test_score</th>\n",
       "      <th>mean_test_score</th>\n",
       "      <th>std_test_score</th>\n",
       "      <th>rank_test_score</th>\n",
       "    </tr>\n",
       "  </thead>\n",
       "  <tbody>\n",
       "    <tr>\n",
       "      <th>0</th>\n",
       "      <td>1.162738</td>\n",
       "      <td>0.111646</td>\n",
       "      <td>0.015630</td>\n",
       "      <td>0.000016</td>\n",
       "      <td>20</td>\n",
       "      <td>{'n_estimators': 20}</td>\n",
       "      <td>0.975666</td>\n",
       "      <td>0.975666</td>\n",
       "      <td>0.977984</td>\n",
       "      <td>0.971031</td>\n",
       "      <td>0.969838</td>\n",
       "      <td>0.974037</td>\n",
       "      <td>0.003084</td>\n",
       "      <td>5</td>\n",
       "    </tr>\n",
       "    <tr>\n",
       "      <th>1</th>\n",
       "      <td>1.446113</td>\n",
       "      <td>0.022448</td>\n",
       "      <td>0.018890</td>\n",
       "      <td>0.006189</td>\n",
       "      <td>25</td>\n",
       "      <td>{'n_estimators': 25}</td>\n",
       "      <td>0.980301</td>\n",
       "      <td>0.976825</td>\n",
       "      <td>0.976825</td>\n",
       "      <td>0.979143</td>\n",
       "      <td>0.975638</td>\n",
       "      <td>0.977746</td>\n",
       "      <td>0.001710</td>\n",
       "      <td>2</td>\n",
       "    </tr>\n",
       "    <tr>\n",
       "      <th>2</th>\n",
       "      <td>1.733830</td>\n",
       "      <td>0.031947</td>\n",
       "      <td>0.018873</td>\n",
       "      <td>0.006195</td>\n",
       "      <td>30</td>\n",
       "      <td>{'n_estimators': 30}</td>\n",
       "      <td>0.977984</td>\n",
       "      <td>0.979143</td>\n",
       "      <td>0.977984</td>\n",
       "      <td>0.977984</td>\n",
       "      <td>0.975638</td>\n",
       "      <td>0.977746</td>\n",
       "      <td>0.001146</td>\n",
       "      <td>3</td>\n",
       "    </tr>\n",
       "    <tr>\n",
       "      <th>3</th>\n",
       "      <td>2.049111</td>\n",
       "      <td>0.012147</td>\n",
       "      <td>0.028221</td>\n",
       "      <td>0.006252</td>\n",
       "      <td>35</td>\n",
       "      <td>{'n_estimators': 35}</td>\n",
       "      <td>0.983778</td>\n",
       "      <td>0.981460</td>\n",
       "      <td>0.975666</td>\n",
       "      <td>0.979143</td>\n",
       "      <td>0.979118</td>\n",
       "      <td>0.979833</td>\n",
       "      <td>0.002704</td>\n",
       "      <td>1</td>\n",
       "    </tr>\n",
       "    <tr>\n",
       "      <th>4</th>\n",
       "      <td>2.356854</td>\n",
       "      <td>0.029736</td>\n",
       "      <td>0.031480</td>\n",
       "      <td>0.000267</td>\n",
       "      <td>40</td>\n",
       "      <td>{'n_estimators': 40}</td>\n",
       "      <td>0.979143</td>\n",
       "      <td>0.972190</td>\n",
       "      <td>0.980301</td>\n",
       "      <td>0.975666</td>\n",
       "      <td>0.979118</td>\n",
       "      <td>0.977284</td>\n",
       "      <td>0.002983</td>\n",
       "      <td>4</td>\n",
       "    </tr>\n",
       "  </tbody>\n",
       "</table>\n",
       "</div>"
      ],
      "text/plain": [
       "   mean_fit_time  std_fit_time  mean_score_time  std_score_time  \\\n",
       "0       1.162738      0.111646         0.015630        0.000016   \n",
       "1       1.446113      0.022448         0.018890        0.006189   \n",
       "2       1.733830      0.031947         0.018873        0.006195   \n",
       "3       2.049111      0.012147         0.028221        0.006252   \n",
       "4       2.356854      0.029736         0.031480        0.000267   \n",
       "\n",
       "  param_n_estimators                params  split0_test_score  \\\n",
       "0                 20  {'n_estimators': 20}           0.975666   \n",
       "1                 25  {'n_estimators': 25}           0.980301   \n",
       "2                 30  {'n_estimators': 30}           0.977984   \n",
       "3                 35  {'n_estimators': 35}           0.983778   \n",
       "4                 40  {'n_estimators': 40}           0.979143   \n",
       "\n",
       "   split1_test_score  split2_test_score  split3_test_score  split4_test_score  \\\n",
       "0           0.975666           0.977984           0.971031           0.969838   \n",
       "1           0.976825           0.976825           0.979143           0.975638   \n",
       "2           0.979143           0.977984           0.977984           0.975638   \n",
       "3           0.981460           0.975666           0.979143           0.979118   \n",
       "4           0.972190           0.980301           0.975666           0.979118   \n",
       "\n",
       "   mean_test_score  std_test_score  rank_test_score  \n",
       "0         0.974037        0.003084                5  \n",
       "1         0.977746        0.001710                2  \n",
       "2         0.977746        0.001146                3  \n",
       "3         0.979833        0.002704                1  \n",
       "4         0.977284        0.002983                4  "
      ]
     },
     "execution_count": 228,
     "metadata": {},
     "output_type": "execute_result"
    }
   ],
   "source": [
    "df = pd.DataFrame(clf.cv_results_)\n",
    "df"
   ]
  },
  {
   "cell_type": "code",
   "execution_count": 229,
   "id": "d9e63077",
   "metadata": {},
   "outputs": [
    {
     "data": {
      "text/html": [
       "<div>\n",
       "<style scoped>\n",
       "    .dataframe tbody tr th:only-of-type {\n",
       "        vertical-align: middle;\n",
       "    }\n",
       "\n",
       "    .dataframe tbody tr th {\n",
       "        vertical-align: top;\n",
       "    }\n",
       "\n",
       "    .dataframe thead th {\n",
       "        text-align: right;\n",
       "    }\n",
       "</style>\n",
       "<table border=\"1\" class=\"dataframe\">\n",
       "  <thead>\n",
       "    <tr style=\"text-align: right;\">\n",
       "      <th></th>\n",
       "      <th>param_n_estimators</th>\n",
       "      <th>mean_test_score</th>\n",
       "    </tr>\n",
       "  </thead>\n",
       "  <tbody>\n",
       "    <tr>\n",
       "      <th>0</th>\n",
       "      <td>20</td>\n",
       "      <td>0.974037</td>\n",
       "    </tr>\n",
       "    <tr>\n",
       "      <th>1</th>\n",
       "      <td>25</td>\n",
       "      <td>0.977746</td>\n",
       "    </tr>\n",
       "    <tr>\n",
       "      <th>2</th>\n",
       "      <td>30</td>\n",
       "      <td>0.977746</td>\n",
       "    </tr>\n",
       "    <tr>\n",
       "      <th>3</th>\n",
       "      <td>35</td>\n",
       "      <td>0.979833</td>\n",
       "    </tr>\n",
       "    <tr>\n",
       "      <th>4</th>\n",
       "      <td>40</td>\n",
       "      <td>0.977284</td>\n",
       "    </tr>\n",
       "  </tbody>\n",
       "</table>\n",
       "</div>"
      ],
      "text/plain": [
       "  param_n_estimators  mean_test_score\n",
       "0                 20         0.974037\n",
       "1                 25         0.977746\n",
       "2                 30         0.977746\n",
       "3                 35         0.979833\n",
       "4                 40         0.977284"
      ]
     },
     "execution_count": 229,
     "metadata": {},
     "output_type": "execute_result"
    }
   ],
   "source": [
    "df[['param_n_estimators','mean_test_score']]"
   ]
  },
  {
   "cell_type": "code",
   "execution_count": 230,
   "id": "8396e5ce",
   "metadata": {},
   "outputs": [
    {
     "data": {
      "text/plain": [
       "{'n_estimators': 35}"
      ]
     },
     "execution_count": 230,
     "metadata": {},
     "output_type": "execute_result"
    }
   ],
   "source": [
    "clf.best_params_"
   ]
  },
  {
   "cell_type": "code",
   "execution_count": 231,
   "id": "da49d0d5",
   "metadata": {},
   "outputs": [
    {
     "data": {
      "text/plain": [
       "RandomForestClassifier(n_estimators=25, random_state=42)"
      ]
     },
     "execution_count": 231,
     "metadata": {},
     "output_type": "execute_result"
    }
   ],
   "source": [
    "# Create a Random Forest classifier\n",
    "rf_classifier_sm = RandomForestClassifier(n_estimators=clf_sm.best_params_['n_estimators'], random_state=42)  # You can adjust the number of trees (n_estimators)\n",
    "\n",
    "# Train the Random Forest classifier\n",
    "rf_classifier_sm.fit(X_train_sm, y_train_sm)"
   ]
  },
  {
   "cell_type": "code",
   "execution_count": 232,
   "id": "b93fedd2",
   "metadata": {},
   "outputs": [
    {
     "data": {
      "text/plain": [
       "RandomForestClassifier(max_features=None, n_estimators=35, random_state=42)"
      ]
     },
     "execution_count": 232,
     "metadata": {},
     "output_type": "execute_result"
    }
   ],
   "source": [
    "#Bagging without SMOTE\n",
    "rf_classifier_bag = RandomForestClassifier(n_estimators=clf.best_params_['n_estimators'], random_state=42,max_features=None)  # You can adjust the number of trees (n_estimators)\n",
    "rf_classifier_bag.fit(X_train_vec, y_train)"
   ]
  },
  {
   "cell_type": "code",
   "execution_count": 233,
   "id": "000fcca4",
   "metadata": {},
   "outputs": [
    {
     "data": {
      "text/plain": [
       "RandomForestClassifier(max_features=None, n_estimators=25, random_state=42)"
      ]
     },
     "execution_count": 233,
     "metadata": {},
     "output_type": "execute_result"
    }
   ],
   "source": [
    "#Bagging with SMOTE\n",
    "rf_classifier_bag_sm = RandomForestClassifier(n_estimators=clf_sm.best_params_['n_estimators'], random_state=42,max_features=None)  # You can adjust the number of trees (n_estimators)\n",
    "rf_classifier_bag_sm.fit(X_train_sm, y_train_sm)"
   ]
  },
  {
   "cell_type": "code",
   "execution_count": 234,
   "id": "5a7936a6",
   "metadata": {},
   "outputs": [
    {
     "data": {
      "text/html": [
       "<div>\n",
       "<style scoped>\n",
       "    .dataframe tbody tr th:only-of-type {\n",
       "        vertical-align: middle;\n",
       "    }\n",
       "\n",
       "    .dataframe tbody tr th {\n",
       "        vertical-align: top;\n",
       "    }\n",
       "\n",
       "    .dataframe thead th {\n",
       "        text-align: right;\n",
       "    }\n",
       "</style>\n",
       "<table border=\"1\" class=\"dataframe\">\n",
       "  <thead>\n",
       "    <tr style=\"text-align: right;\">\n",
       "      <th></th>\n",
       "      <th>accuracy</th>\n",
       "      <th>precision</th>\n",
       "      <th>recall</th>\n",
       "      <th>f1-score</th>\n",
       "    </tr>\n",
       "  </thead>\n",
       "  <tbody>\n",
       "    <tr>\n",
       "      <th>Naive Bayes classifier</th>\n",
       "      <td>0.987963</td>\n",
       "      <td>0.944444</td>\n",
       "      <td>0.964539</td>\n",
       "      <td>0.954386</td>\n",
       "    </tr>\n",
       "    <tr>\n",
       "      <th>Logistic Regression</th>\n",
       "      <td>0.992593</td>\n",
       "      <td>0.985401</td>\n",
       "      <td>0.957447</td>\n",
       "      <td>0.971223</td>\n",
       "    </tr>\n",
       "    <tr>\n",
       "      <th>Random Forest</th>\n",
       "      <td>0.978704</td>\n",
       "      <td>1.000000</td>\n",
       "      <td>0.836879</td>\n",
       "      <td>0.911197</td>\n",
       "    </tr>\n",
       "    <tr>\n",
       "      <th>Bagging</th>\n",
       "      <td>0.969444</td>\n",
       "      <td>0.875000</td>\n",
       "      <td>0.893617</td>\n",
       "      <td>0.884211</td>\n",
       "    </tr>\n",
       "  </tbody>\n",
       "</table>\n",
       "</div>"
      ],
      "text/plain": [
       "                        accuracy  precision    recall  f1-score\n",
       "Naive Bayes classifier  0.987963   0.944444  0.964539  0.954386\n",
       "Logistic Regression     0.992593   0.985401  0.957447  0.971223\n",
       "Random Forest           0.978704   1.000000  0.836879  0.911197\n",
       "Bagging                 0.969444   0.875000  0.893617  0.884211"
      ]
     },
     "execution_count": 234,
     "metadata": {},
     "output_type": "execute_result"
    }
   ],
   "source": [
    "#Model Performance with SMOTE\n",
    "#Test Data Performance\n",
    "baseline_model_results = evaluate_model(baseline_model_1_sm, X_test_vec, y_test)\n",
    "baseline_model2_results= evaluate_model(baseline_model_2_sm, X_test_vec, y_test)\n",
    "baseline_model3_results= evaluate_model(rf_classifier_sm, X_test_vec, y_test)\n",
    "bagging_results= evaluate_model(rf_classifier_bag_sm, X_test_vec, y_test)\n",
    "\n",
    "total_results = pd.DataFrame({'Naive Bayes classifier':baseline_model_results,\n",
    "                              'Logistic Regression ':baseline_model2_results,\n",
    "                             'Random Forest':baseline_model3_results,\n",
    "                             'Bagging': bagging_results}).transpose()\n",
    " \n",
    "total_results"
   ]
  },
  {
   "cell_type": "code",
   "execution_count": 235,
   "id": "f3202b93",
   "metadata": {},
   "outputs": [
    {
     "data": {
      "text/html": [
       "<div>\n",
       "<style scoped>\n",
       "    .dataframe tbody tr th:only-of-type {\n",
       "        vertical-align: middle;\n",
       "    }\n",
       "\n",
       "    .dataframe tbody tr th {\n",
       "        vertical-align: top;\n",
       "    }\n",
       "\n",
       "    .dataframe thead th {\n",
       "        text-align: right;\n",
       "    }\n",
       "</style>\n",
       "<table border=\"1\" class=\"dataframe\">\n",
       "  <thead>\n",
       "    <tr style=\"text-align: right;\">\n",
       "      <th></th>\n",
       "      <th>accuracy</th>\n",
       "      <th>precision</th>\n",
       "      <th>recall</th>\n",
       "      <th>f1-score</th>\n",
       "    </tr>\n",
       "  </thead>\n",
       "  <tbody>\n",
       "    <tr>\n",
       "      <th>Logistic Regression</th>\n",
       "      <td>0.992593</td>\n",
       "      <td>0.985401</td>\n",
       "      <td>0.957447</td>\n",
       "      <td>0.971223</td>\n",
       "    </tr>\n",
       "    <tr>\n",
       "      <th>Naive Bayes classifier</th>\n",
       "      <td>0.987963</td>\n",
       "      <td>0.944444</td>\n",
       "      <td>0.964539</td>\n",
       "      <td>0.954386</td>\n",
       "    </tr>\n",
       "    <tr>\n",
       "      <th>Random Forest</th>\n",
       "      <td>0.978704</td>\n",
       "      <td>1.000000</td>\n",
       "      <td>0.836879</td>\n",
       "      <td>0.911197</td>\n",
       "    </tr>\n",
       "    <tr>\n",
       "      <th>Bagging</th>\n",
       "      <td>0.969444</td>\n",
       "      <td>0.875000</td>\n",
       "      <td>0.893617</td>\n",
       "      <td>0.884211</td>\n",
       "    </tr>\n",
       "  </tbody>\n",
       "</table>\n",
       "</div>"
      ],
      "text/plain": [
       "                        accuracy  precision    recall  f1-score\n",
       "Logistic Regression     0.992593   0.985401  0.957447  0.971223\n",
       "Naive Bayes classifier  0.987963   0.944444  0.964539  0.954386\n",
       "Random Forest           0.978704   1.000000  0.836879  0.911197\n",
       "Bagging                 0.969444   0.875000  0.893617  0.884211"
      ]
     },
     "execution_count": 235,
     "metadata": {},
     "output_type": "execute_result"
    }
   ],
   "source": [
    "total_results.sort_values('f1-score', ascending=False)"
   ]
  },
  {
   "cell_type": "code",
   "execution_count": 236,
   "id": "500ee82a",
   "metadata": {},
   "outputs": [
    {
     "data": {
      "text/html": [
       "<div>\n",
       "<style scoped>\n",
       "    .dataframe tbody tr th:only-of-type {\n",
       "        vertical-align: middle;\n",
       "    }\n",
       "\n",
       "    .dataframe tbody tr th {\n",
       "        vertical-align: top;\n",
       "    }\n",
       "\n",
       "    .dataframe thead th {\n",
       "        text-align: right;\n",
       "    }\n",
       "</style>\n",
       "<table border=\"1\" class=\"dataframe\">\n",
       "  <thead>\n",
       "    <tr style=\"text-align: right;\">\n",
       "      <th></th>\n",
       "      <th>accuracy</th>\n",
       "      <th>precision</th>\n",
       "      <th>recall</th>\n",
       "      <th>f1-score</th>\n",
       "    </tr>\n",
       "  </thead>\n",
       "  <tbody>\n",
       "    <tr>\n",
       "      <th>Naive Bayes classifier</th>\n",
       "      <td>0.991609</td>\n",
       "      <td>0.991478</td>\n",
       "      <td>0.991742</td>\n",
       "      <td>0.991610</td>\n",
       "    </tr>\n",
       "    <tr>\n",
       "      <th>Logistic Regression</th>\n",
       "      <td>0.994406</td>\n",
       "      <td>0.995462</td>\n",
       "      <td>0.993340</td>\n",
       "      <td>0.994400</td>\n",
       "    </tr>\n",
       "    <tr>\n",
       "      <th>Random Forest</th>\n",
       "      <td>1.000000</td>\n",
       "      <td>1.000000</td>\n",
       "      <td>1.000000</td>\n",
       "      <td>1.000000</td>\n",
       "    </tr>\n",
       "    <tr>\n",
       "      <th>Bagging</th>\n",
       "      <td>0.999867</td>\n",
       "      <td>1.000000</td>\n",
       "      <td>0.999734</td>\n",
       "      <td>0.999867</td>\n",
       "    </tr>\n",
       "  </tbody>\n",
       "</table>\n",
       "</div>"
      ],
      "text/plain": [
       "                        accuracy  precision    recall  f1-score\n",
       "Naive Bayes classifier  0.991609   0.991478  0.991742  0.991610\n",
       "Logistic Regression     0.994406   0.995462  0.993340  0.994400\n",
       "Random Forest           1.000000   1.000000  1.000000  1.000000\n",
       "Bagging                 0.999867   1.000000  0.999734  0.999867"
      ]
     },
     "execution_count": 236,
     "metadata": {},
     "output_type": "execute_result"
    }
   ],
   "source": [
    "#Train Data Performance\n",
    "baseline_model_results = evaluate_model(baseline_model_1_sm, X_train_sm, y_train_sm)\n",
    "baseline_model2_results= evaluate_model(baseline_model_2_sm, X_train_sm, y_train_sm)\n",
    "baseline_model3_results= evaluate_model(rf_classifier_sm, X_train_sm, y_train_sm)\n",
    "bagging_results= evaluate_model(rf_classifier_bag_sm, X_train_sm, y_train_sm)\n",
    "\n",
    "total_results = pd.DataFrame({'Naive Bayes classifier':baseline_model_results,\n",
    "                              'Logistic Regression ':baseline_model2_results,\n",
    "                             'Random Forest':baseline_model3_results,\n",
    "                             'Bagging': bagging_results}).transpose()\n",
    " \n",
    "total_results"
   ]
  },
  {
   "cell_type": "code",
   "execution_count": 237,
   "id": "dd74ea82",
   "metadata": {},
   "outputs": [
    {
     "data": {
      "text/html": [
       "<div>\n",
       "<style scoped>\n",
       "    .dataframe tbody tr th:only-of-type {\n",
       "        vertical-align: middle;\n",
       "    }\n",
       "\n",
       "    .dataframe tbody tr th {\n",
       "        vertical-align: top;\n",
       "    }\n",
       "\n",
       "    .dataframe thead th {\n",
       "        text-align: right;\n",
       "    }\n",
       "</style>\n",
       "<table border=\"1\" class=\"dataframe\">\n",
       "  <thead>\n",
       "    <tr style=\"text-align: right;\">\n",
       "      <th></th>\n",
       "      <th>accuracy</th>\n",
       "      <th>precision</th>\n",
       "      <th>recall</th>\n",
       "      <th>f1-score</th>\n",
       "    </tr>\n",
       "  </thead>\n",
       "  <tbody>\n",
       "    <tr>\n",
       "      <th>Random Forest</th>\n",
       "      <td>1.000000</td>\n",
       "      <td>1.000000</td>\n",
       "      <td>1.000000</td>\n",
       "      <td>1.000000</td>\n",
       "    </tr>\n",
       "    <tr>\n",
       "      <th>Bagging</th>\n",
       "      <td>0.999867</td>\n",
       "      <td>1.000000</td>\n",
       "      <td>0.999734</td>\n",
       "      <td>0.999867</td>\n",
       "    </tr>\n",
       "    <tr>\n",
       "      <th>Logistic Regression</th>\n",
       "      <td>0.994406</td>\n",
       "      <td>0.995462</td>\n",
       "      <td>0.993340</td>\n",
       "      <td>0.994400</td>\n",
       "    </tr>\n",
       "    <tr>\n",
       "      <th>Naive Bayes classifier</th>\n",
       "      <td>0.991609</td>\n",
       "      <td>0.991478</td>\n",
       "      <td>0.991742</td>\n",
       "      <td>0.991610</td>\n",
       "    </tr>\n",
       "  </tbody>\n",
       "</table>\n",
       "</div>"
      ],
      "text/plain": [
       "                        accuracy  precision    recall  f1-score\n",
       "Random Forest           1.000000   1.000000  1.000000  1.000000\n",
       "Bagging                 0.999867   1.000000  0.999734  0.999867\n",
       "Logistic Regression     0.994406   0.995462  0.993340  0.994400\n",
       "Naive Bayes classifier  0.991609   0.991478  0.991742  0.991610"
      ]
     },
     "execution_count": 237,
     "metadata": {},
     "output_type": "execute_result"
    }
   ],
   "source": [
    "total_results.sort_values('f1-score', ascending=False)"
   ]
  },
  {
   "cell_type": "code",
   "execution_count": 238,
   "id": "46d949cf",
   "metadata": {},
   "outputs": [
    {
     "data": {
      "text/html": [
       "<div>\n",
       "<style scoped>\n",
       "    .dataframe tbody tr th:only-of-type {\n",
       "        vertical-align: middle;\n",
       "    }\n",
       "\n",
       "    .dataframe tbody tr th {\n",
       "        vertical-align: top;\n",
       "    }\n",
       "\n",
       "    .dataframe thead th {\n",
       "        text-align: right;\n",
       "    }\n",
       "</style>\n",
       "<table border=\"1\" class=\"dataframe\">\n",
       "  <thead>\n",
       "    <tr style=\"text-align: right;\">\n",
       "      <th></th>\n",
       "      <th>accuracy</th>\n",
       "      <th>precision</th>\n",
       "      <th>recall</th>\n",
       "      <th>f1-score</th>\n",
       "    </tr>\n",
       "  </thead>\n",
       "  <tbody>\n",
       "    <tr>\n",
       "      <th>Naive Bayes classifier</th>\n",
       "      <td>0.963889</td>\n",
       "      <td>1.000000</td>\n",
       "      <td>0.723404</td>\n",
       "      <td>0.839506</td>\n",
       "    </tr>\n",
       "    <tr>\n",
       "      <th>Logistic Regression</th>\n",
       "      <td>0.980556</td>\n",
       "      <td>1.000000</td>\n",
       "      <td>0.851064</td>\n",
       "      <td>0.919540</td>\n",
       "    </tr>\n",
       "    <tr>\n",
       "      <th>Random Forest</th>\n",
       "      <td>0.976852</td>\n",
       "      <td>1.000000</td>\n",
       "      <td>0.822695</td>\n",
       "      <td>0.902724</td>\n",
       "    </tr>\n",
       "    <tr>\n",
       "      <th>Bagging</th>\n",
       "      <td>0.975000</td>\n",
       "      <td>0.945312</td>\n",
       "      <td>0.858156</td>\n",
       "      <td>0.899628</td>\n",
       "    </tr>\n",
       "  </tbody>\n",
       "</table>\n",
       "</div>"
      ],
      "text/plain": [
       "                        accuracy  precision    recall  f1-score\n",
       "Naive Bayes classifier  0.963889   1.000000  0.723404  0.839506\n",
       "Logistic Regression     0.980556   1.000000  0.851064  0.919540\n",
       "Random Forest           0.976852   1.000000  0.822695  0.902724\n",
       "Bagging                 0.975000   0.945312  0.858156  0.899628"
      ]
     },
     "execution_count": 238,
     "metadata": {},
     "output_type": "execute_result"
    }
   ],
   "source": [
    "#Model Performance without SMOTE\n",
    "#Test Data Performance\n",
    "baseline_model_results = evaluate_model(baseline_model, X_test_vec, y_test)\n",
    "baseline_model2_results= evaluate_model(baseline_model_2, X_test_vec, y_test)\n",
    "baseline_model3_results= evaluate_model(rf_classifier, X_test_vec, y_test)\n",
    "bagging_results= evaluate_model(rf_classifier_bag, X_test_vec, y_test)\n",
    "\n",
    "total_results = pd.DataFrame({'Naive Bayes classifier':baseline_model_results,\n",
    "                              'Logistic Regression ':baseline_model2_results,\n",
    "                             'Random Forest':baseline_model3_results,\n",
    "                             'Bagging':bagging_results}).transpose()\n",
    " \n",
    "total_results"
   ]
  },
  {
   "cell_type": "code",
   "execution_count": 239,
   "id": "c205a7fc",
   "metadata": {},
   "outputs": [
    {
     "data": {
      "text/html": [
       "<div>\n",
       "<style scoped>\n",
       "    .dataframe tbody tr th:only-of-type {\n",
       "        vertical-align: middle;\n",
       "    }\n",
       "\n",
       "    .dataframe tbody tr th {\n",
       "        vertical-align: top;\n",
       "    }\n",
       "\n",
       "    .dataframe thead th {\n",
       "        text-align: right;\n",
       "    }\n",
       "</style>\n",
       "<table border=\"1\" class=\"dataframe\">\n",
       "  <thead>\n",
       "    <tr style=\"text-align: right;\">\n",
       "      <th></th>\n",
       "      <th>accuracy</th>\n",
       "      <th>precision</th>\n",
       "      <th>recall</th>\n",
       "      <th>f1-score</th>\n",
       "    </tr>\n",
       "  </thead>\n",
       "  <tbody>\n",
       "    <tr>\n",
       "      <th>Logistic Regression</th>\n",
       "      <td>0.980556</td>\n",
       "      <td>1.000000</td>\n",
       "      <td>0.851064</td>\n",
       "      <td>0.919540</td>\n",
       "    </tr>\n",
       "    <tr>\n",
       "      <th>Random Forest</th>\n",
       "      <td>0.976852</td>\n",
       "      <td>1.000000</td>\n",
       "      <td>0.822695</td>\n",
       "      <td>0.902724</td>\n",
       "    </tr>\n",
       "    <tr>\n",
       "      <th>Bagging</th>\n",
       "      <td>0.975000</td>\n",
       "      <td>0.945312</td>\n",
       "      <td>0.858156</td>\n",
       "      <td>0.899628</td>\n",
       "    </tr>\n",
       "    <tr>\n",
       "      <th>Naive Bayes classifier</th>\n",
       "      <td>0.963889</td>\n",
       "      <td>1.000000</td>\n",
       "      <td>0.723404</td>\n",
       "      <td>0.839506</td>\n",
       "    </tr>\n",
       "  </tbody>\n",
       "</table>\n",
       "</div>"
      ],
      "text/plain": [
       "                        accuracy  precision    recall  f1-score\n",
       "Logistic Regression     0.980556   1.000000  0.851064  0.919540\n",
       "Random Forest           0.976852   1.000000  0.822695  0.902724\n",
       "Bagging                 0.975000   0.945312  0.858156  0.899628\n",
       "Naive Bayes classifier  0.963889   1.000000  0.723404  0.839506"
      ]
     },
     "execution_count": 239,
     "metadata": {},
     "output_type": "execute_result"
    }
   ],
   "source": [
    "total_results.sort_values('f1-score', ascending=False)"
   ]
  },
  {
   "cell_type": "code",
   "execution_count": 240,
   "id": "01faa409",
   "metadata": {},
   "outputs": [
    {
     "data": {
      "text/html": [
       "<div>\n",
       "<style scoped>\n",
       "    .dataframe tbody tr th:only-of-type {\n",
       "        vertical-align: middle;\n",
       "    }\n",
       "\n",
       "    .dataframe tbody tr th {\n",
       "        vertical-align: top;\n",
       "    }\n",
       "\n",
       "    .dataframe thead th {\n",
       "        text-align: right;\n",
       "    }\n",
       "</style>\n",
       "<table border=\"1\" class=\"dataframe\">\n",
       "  <thead>\n",
       "    <tr style=\"text-align: right;\">\n",
       "      <th></th>\n",
       "      <th>accuracy</th>\n",
       "      <th>precision</th>\n",
       "      <th>recall</th>\n",
       "      <th>f1-score</th>\n",
       "    </tr>\n",
       "  </thead>\n",
       "  <tbody>\n",
       "    <tr>\n",
       "      <th>Naive Bayes classifier</th>\n",
       "      <td>0.975661</td>\n",
       "      <td>1.00000</td>\n",
       "      <td>0.812500</td>\n",
       "      <td>0.896552</td>\n",
       "    </tr>\n",
       "    <tr>\n",
       "      <th>Logistic Regression</th>\n",
       "      <td>0.976588</td>\n",
       "      <td>0.99568</td>\n",
       "      <td>0.823214</td>\n",
       "      <td>0.901271</td>\n",
       "    </tr>\n",
       "    <tr>\n",
       "      <th>Random Forest</th>\n",
       "      <td>0.999768</td>\n",
       "      <td>1.00000</td>\n",
       "      <td>0.998214</td>\n",
       "      <td>0.999106</td>\n",
       "    </tr>\n",
       "    <tr>\n",
       "      <th>Bagging</th>\n",
       "      <td>0.999536</td>\n",
       "      <td>1.00000</td>\n",
       "      <td>0.996429</td>\n",
       "      <td>0.998211</td>\n",
       "    </tr>\n",
       "  </tbody>\n",
       "</table>\n",
       "</div>"
      ],
      "text/plain": [
       "                        accuracy  precision    recall  f1-score\n",
       "Naive Bayes classifier  0.975661    1.00000  0.812500  0.896552\n",
       "Logistic Regression     0.976588    0.99568  0.823214  0.901271\n",
       "Random Forest           0.999768    1.00000  0.998214  0.999106\n",
       "Bagging                 0.999536    1.00000  0.996429  0.998211"
      ]
     },
     "execution_count": 240,
     "metadata": {},
     "output_type": "execute_result"
    }
   ],
   "source": [
    "#Train Data Performance\n",
    "baseline_model_results = evaluate_model(baseline_model, X_train_vec, y_train)\n",
    "baseline_model2_results= evaluate_model(baseline_model_2, X_train_vec, y_train)\n",
    "baseline_model3_results= evaluate_model(rf_classifier, X_train_vec, y_train)\n",
    "bagging_results= evaluate_model(rf_classifier_bag, X_train_vec, y_train)\n",
    "\n",
    "total_results = pd.DataFrame({'Naive Bayes classifier':baseline_model_results,\n",
    "                              'Logistic Regression ':baseline_model2_results,\n",
    "                             'Random Forest':baseline_model3_results,\n",
    "                             'Bagging':bagging_results}).transpose()\n",
    " \n",
    "total_results"
   ]
  },
  {
   "cell_type": "code",
   "execution_count": 241,
   "id": "5faae134",
   "metadata": {},
   "outputs": [
    {
     "data": {
      "text/html": [
       "<div>\n",
       "<style scoped>\n",
       "    .dataframe tbody tr th:only-of-type {\n",
       "        vertical-align: middle;\n",
       "    }\n",
       "\n",
       "    .dataframe tbody tr th {\n",
       "        vertical-align: top;\n",
       "    }\n",
       "\n",
       "    .dataframe thead th {\n",
       "        text-align: right;\n",
       "    }\n",
       "</style>\n",
       "<table border=\"1\" class=\"dataframe\">\n",
       "  <thead>\n",
       "    <tr style=\"text-align: right;\">\n",
       "      <th></th>\n",
       "      <th>accuracy</th>\n",
       "      <th>precision</th>\n",
       "      <th>recall</th>\n",
       "      <th>f1-score</th>\n",
       "    </tr>\n",
       "  </thead>\n",
       "  <tbody>\n",
       "    <tr>\n",
       "      <th>Random Forest</th>\n",
       "      <td>0.999768</td>\n",
       "      <td>1.00000</td>\n",
       "      <td>0.998214</td>\n",
       "      <td>0.999106</td>\n",
       "    </tr>\n",
       "    <tr>\n",
       "      <th>Bagging</th>\n",
       "      <td>0.999536</td>\n",
       "      <td>1.00000</td>\n",
       "      <td>0.996429</td>\n",
       "      <td>0.998211</td>\n",
       "    </tr>\n",
       "    <tr>\n",
       "      <th>Logistic Regression</th>\n",
       "      <td>0.976588</td>\n",
       "      <td>0.99568</td>\n",
       "      <td>0.823214</td>\n",
       "      <td>0.901271</td>\n",
       "    </tr>\n",
       "    <tr>\n",
       "      <th>Naive Bayes classifier</th>\n",
       "      <td>0.975661</td>\n",
       "      <td>1.00000</td>\n",
       "      <td>0.812500</td>\n",
       "      <td>0.896552</td>\n",
       "    </tr>\n",
       "  </tbody>\n",
       "</table>\n",
       "</div>"
      ],
      "text/plain": [
       "                        accuracy  precision    recall  f1-score\n",
       "Random Forest           0.999768    1.00000  0.998214  0.999106\n",
       "Bagging                 0.999536    1.00000  0.996429  0.998211\n",
       "Logistic Regression     0.976588    0.99568  0.823214  0.901271\n",
       "Naive Bayes classifier  0.975661    1.00000  0.812500  0.896552"
      ]
     },
     "execution_count": 241,
     "metadata": {},
     "output_type": "execute_result"
    }
   ],
   "source": [
    "total_results.sort_values('f1-score', ascending=False)"
   ]
  },
  {
   "cell_type": "code",
   "execution_count": 242,
   "id": "237721f9",
   "metadata": {},
   "outputs": [
    {
     "data": {
      "text/plain": [
       "((4457,), (4457,), (1115,), (1115,))"
      ]
     },
     "execution_count": 242,
     "metadata": {},
     "output_type": "execute_result"
    }
   ],
   "source": [
    "#80:20 Overall Split considering the outliers\n",
    "\n",
    "# Splitting data for Training and testing\n",
    "X, y = np.asanyarray(spam_df['Text']), np.asanyarray(spam_df['label_enc'])\n",
    "new_df = pd.DataFrame({'Text': X, 'label': y})\n",
    "X_train, X_test, y_train, y_test = train_test_split(\n",
    "    new_df['Text'], new_df['label'], test_size=0.2, random_state=42)\n",
    "X_train.shape, y_train.shape, X_test.shape, y_test.shape\n"
   ]
  },
  {
   "cell_type": "code",
   "execution_count": 243,
   "id": "574a8812",
   "metadata": {},
   "outputs": [],
   "source": [
    "#Applying TF-IDF Vectorizer\n",
    "tfidf_vec = TfidfVectorizer(min_df=1).fit(X_train)\n",
    "X_train_vec,X_test_vec = tfidf_vec.transform(X_train),tfidf_vec.transform(X_test)"
   ]
  },
  {
   "cell_type": "code",
   "execution_count": 244,
   "id": "e56069e8",
   "metadata": {},
   "outputs": [],
   "source": [
    "#Applying SMOTE on the training data\n",
    "from imblearn.over_sampling import SMOTE\n",
    "smote = SMOTE()\n",
    "X_train_sm,y_train_sm = smote.fit_resample(X_train_vec,y_train)\n"
   ]
  },
  {
   "cell_type": "code",
   "execution_count": 245,
   "id": "f35544d8",
   "metadata": {},
   "outputs": [
    {
     "data": {
      "text/plain": [
       "MultinomialNB()"
      ]
     },
     "execution_count": 245,
     "metadata": {},
     "output_type": "execute_result"
    }
   ],
   "source": [
    "#Naive Bayes Classifier with SMOTE \n",
    "baseline_model_1_sm = MultinomialNB()\n",
    "baseline_model_1_sm.fit(X_train_sm,y_train_sm)"
   ]
  },
  {
   "cell_type": "code",
   "execution_count": 246,
   "id": "a03970e2",
   "metadata": {},
   "outputs": [
    {
     "data": {
      "text/plain": [
       "MultinomialNB()"
      ]
     },
     "execution_count": 246,
     "metadata": {},
     "output_type": "execute_result"
    }
   ],
   "source": [
    "#Naive Bayes Classifier without SMOTE \n",
    "baseline_model = MultinomialNB()\n",
    "baseline_model.fit(X_train_vec,y_train)"
   ]
  },
  {
   "cell_type": "code",
   "execution_count": 247,
   "id": "c503c681",
   "metadata": {},
   "outputs": [
    {
     "data": {
      "text/plain": [
       "LogisticRegression()"
      ]
     },
     "execution_count": 247,
     "metadata": {},
     "output_type": "execute_result"
    }
   ],
   "source": [
    "#Logistic Regression with SMOTE\n",
    "from sklearn.linear_model import LogisticRegression\n",
    "# Initialize the logistic regression model\n",
    "baseline_model_2_sm = LogisticRegression()\n",
    "# Fit the model to the training data\n",
    "baseline_model_2_sm.fit(X_train_sm, y_train_sm)"
   ]
  },
  {
   "cell_type": "code",
   "execution_count": 248,
   "id": "19fed616",
   "metadata": {},
   "outputs": [
    {
     "data": {
      "text/plain": [
       "LogisticRegression()"
      ]
     },
     "execution_count": 248,
     "metadata": {},
     "output_type": "execute_result"
    }
   ],
   "source": [
    "#Logistic Regression without SMOTE\n",
    "# Initialize the logistic regression model\n",
    "baseline_model_2 = LogisticRegression()\n",
    "\n",
    "# Fit the model to the training data\n",
    "baseline_model_2.fit(X_train_vec, y_train)"
   ]
  },
  {
   "cell_type": "code",
   "execution_count": 249,
   "id": "f8deb2a1",
   "metadata": {},
   "outputs": [
    {
     "data": {
      "text/plain": [
       "{'mean_fit_time': array([1.3679553 , 1.72070632, 2.06866188, 2.40808682, 2.73402314]),\n",
       " 'std_fit_time': array([0.04426074, 0.04273859, 0.03087508, 0.06997474, 0.06172101]),\n",
       " 'mean_score_time': array([0.01564002, 0.01883278, 0.03124661, 0.02836227, 0.03207479]),\n",
       " 'std_score_time': array([2.53545576e-05, 6.20807680e-03, 5.98348749e-05, 6.09111546e-03,\n",
       "        2.96348220e-03]),\n",
       " 'param_n_estimators': masked_array(data=[20, 25, 30, 35, 40],\n",
       "              mask=[False, False, False, False, False],\n",
       "        fill_value='?',\n",
       "             dtype=object),\n",
       " 'params': [{'n_estimators': 20},\n",
       "  {'n_estimators': 25},\n",
       "  {'n_estimators': 30},\n",
       "  {'n_estimators': 35},\n",
       "  {'n_estimators': 40}],\n",
       " 'split0_test_score': array([0.9764574 , 0.9764574 , 0.97533632, 0.97982063, 0.97982063]),\n",
       " 'split1_test_score': array([0.97421525, 0.97757848, 0.97757848, 0.97533632, 0.97309417]),\n",
       " 'split2_test_score': array([0.97643098, 0.97867565, 0.97418631, 0.97306397, 0.97643098]),\n",
       " 'split3_test_score': array([0.96857464, 0.97306397, 0.97306397, 0.96969697, 0.9674523 ]),\n",
       " 'split4_test_score': array([0.96857464, 0.9708193 , 0.97306397, 0.97418631, 0.97530864]),\n",
       " 'mean_test_score': array([0.97285058, 0.97531896, 0.97464581, 0.97442084, 0.97442134]),\n",
       " 'std_test_score': array([0.00358492, 0.0029326 , 0.00169073, 0.00329262, 0.00410627]),\n",
       " 'rank_test_score': array([5, 1, 2, 4, 3])}"
      ]
     },
     "execution_count": 249,
     "metadata": {},
     "output_type": "execute_result"
    }
   ],
   "source": [
    "#Random Forest without SMOTE\n",
    "from sklearn.ensemble import RandomForestClassifier\n",
    "from sklearn.model_selection import GridSearchCV\n",
    "\n",
    "clf = GridSearchCV(RandomForestClassifier(), {\n",
    "    'n_estimators': [20,25,30,35,40]\n",
    "    }, cv=5, return_train_score=False)\n",
    "clf.fit(X_train_vec, y_train)\n",
    "clf.cv_results_"
   ]
  },
  {
   "cell_type": "code",
   "execution_count": 250,
   "id": "6e1adf96",
   "metadata": {},
   "outputs": [
    {
     "data": {
      "text/html": [
       "<div>\n",
       "<style scoped>\n",
       "    .dataframe tbody tr th:only-of-type {\n",
       "        vertical-align: middle;\n",
       "    }\n",
       "\n",
       "    .dataframe tbody tr th {\n",
       "        vertical-align: top;\n",
       "    }\n",
       "\n",
       "    .dataframe thead th {\n",
       "        text-align: right;\n",
       "    }\n",
       "</style>\n",
       "<table border=\"1\" class=\"dataframe\">\n",
       "  <thead>\n",
       "    <tr style=\"text-align: right;\">\n",
       "      <th></th>\n",
       "      <th>mean_fit_time</th>\n",
       "      <th>std_fit_time</th>\n",
       "      <th>mean_score_time</th>\n",
       "      <th>std_score_time</th>\n",
       "      <th>param_n_estimators</th>\n",
       "      <th>params</th>\n",
       "      <th>split0_test_score</th>\n",
       "      <th>split1_test_score</th>\n",
       "      <th>split2_test_score</th>\n",
       "      <th>split3_test_score</th>\n",
       "      <th>split4_test_score</th>\n",
       "      <th>mean_test_score</th>\n",
       "      <th>std_test_score</th>\n",
       "      <th>rank_test_score</th>\n",
       "    </tr>\n",
       "  </thead>\n",
       "  <tbody>\n",
       "    <tr>\n",
       "      <th>0</th>\n",
       "      <td>1.367955</td>\n",
       "      <td>0.044261</td>\n",
       "      <td>0.015640</td>\n",
       "      <td>0.000025</td>\n",
       "      <td>20</td>\n",
       "      <td>{'n_estimators': 20}</td>\n",
       "      <td>0.976457</td>\n",
       "      <td>0.974215</td>\n",
       "      <td>0.976431</td>\n",
       "      <td>0.968575</td>\n",
       "      <td>0.968575</td>\n",
       "      <td>0.972851</td>\n",
       "      <td>0.003585</td>\n",
       "      <td>5</td>\n",
       "    </tr>\n",
       "    <tr>\n",
       "      <th>1</th>\n",
       "      <td>1.720706</td>\n",
       "      <td>0.042739</td>\n",
       "      <td>0.018833</td>\n",
       "      <td>0.006208</td>\n",
       "      <td>25</td>\n",
       "      <td>{'n_estimators': 25}</td>\n",
       "      <td>0.976457</td>\n",
       "      <td>0.977578</td>\n",
       "      <td>0.978676</td>\n",
       "      <td>0.973064</td>\n",
       "      <td>0.970819</td>\n",
       "      <td>0.975319</td>\n",
       "      <td>0.002933</td>\n",
       "      <td>1</td>\n",
       "    </tr>\n",
       "    <tr>\n",
       "      <th>2</th>\n",
       "      <td>2.068662</td>\n",
       "      <td>0.030875</td>\n",
       "      <td>0.031247</td>\n",
       "      <td>0.000060</td>\n",
       "      <td>30</td>\n",
       "      <td>{'n_estimators': 30}</td>\n",
       "      <td>0.975336</td>\n",
       "      <td>0.977578</td>\n",
       "      <td>0.974186</td>\n",
       "      <td>0.973064</td>\n",
       "      <td>0.973064</td>\n",
       "      <td>0.974646</td>\n",
       "      <td>0.001691</td>\n",
       "      <td>2</td>\n",
       "    </tr>\n",
       "    <tr>\n",
       "      <th>3</th>\n",
       "      <td>2.408087</td>\n",
       "      <td>0.069975</td>\n",
       "      <td>0.028362</td>\n",
       "      <td>0.006091</td>\n",
       "      <td>35</td>\n",
       "      <td>{'n_estimators': 35}</td>\n",
       "      <td>0.979821</td>\n",
       "      <td>0.975336</td>\n",
       "      <td>0.973064</td>\n",
       "      <td>0.969697</td>\n",
       "      <td>0.974186</td>\n",
       "      <td>0.974421</td>\n",
       "      <td>0.003293</td>\n",
       "      <td>4</td>\n",
       "    </tr>\n",
       "    <tr>\n",
       "      <th>4</th>\n",
       "      <td>2.734023</td>\n",
       "      <td>0.061721</td>\n",
       "      <td>0.032075</td>\n",
       "      <td>0.002963</td>\n",
       "      <td>40</td>\n",
       "      <td>{'n_estimators': 40}</td>\n",
       "      <td>0.979821</td>\n",
       "      <td>0.973094</td>\n",
       "      <td>0.976431</td>\n",
       "      <td>0.967452</td>\n",
       "      <td>0.975309</td>\n",
       "      <td>0.974421</td>\n",
       "      <td>0.004106</td>\n",
       "      <td>3</td>\n",
       "    </tr>\n",
       "  </tbody>\n",
       "</table>\n",
       "</div>"
      ],
      "text/plain": [
       "   mean_fit_time  std_fit_time  mean_score_time  std_score_time  \\\n",
       "0       1.367955      0.044261         0.015640        0.000025   \n",
       "1       1.720706      0.042739         0.018833        0.006208   \n",
       "2       2.068662      0.030875         0.031247        0.000060   \n",
       "3       2.408087      0.069975         0.028362        0.006091   \n",
       "4       2.734023      0.061721         0.032075        0.002963   \n",
       "\n",
       "  param_n_estimators                params  split0_test_score  \\\n",
       "0                 20  {'n_estimators': 20}           0.976457   \n",
       "1                 25  {'n_estimators': 25}           0.976457   \n",
       "2                 30  {'n_estimators': 30}           0.975336   \n",
       "3                 35  {'n_estimators': 35}           0.979821   \n",
       "4                 40  {'n_estimators': 40}           0.979821   \n",
       "\n",
       "   split1_test_score  split2_test_score  split3_test_score  split4_test_score  \\\n",
       "0           0.974215           0.976431           0.968575           0.968575   \n",
       "1           0.977578           0.978676           0.973064           0.970819   \n",
       "2           0.977578           0.974186           0.973064           0.973064   \n",
       "3           0.975336           0.973064           0.969697           0.974186   \n",
       "4           0.973094           0.976431           0.967452           0.975309   \n",
       "\n",
       "   mean_test_score  std_test_score  rank_test_score  \n",
       "0         0.972851        0.003585                5  \n",
       "1         0.975319        0.002933                1  \n",
       "2         0.974646        0.001691                2  \n",
       "3         0.974421        0.003293                4  \n",
       "4         0.974421        0.004106                3  "
      ]
     },
     "execution_count": 250,
     "metadata": {},
     "output_type": "execute_result"
    }
   ],
   "source": [
    "df = pd.DataFrame(clf.cv_results_)\n",
    "df"
   ]
  },
  {
   "cell_type": "code",
   "execution_count": 251,
   "id": "512623d8",
   "metadata": {},
   "outputs": [
    {
     "data": {
      "text/html": [
       "<div>\n",
       "<style scoped>\n",
       "    .dataframe tbody tr th:only-of-type {\n",
       "        vertical-align: middle;\n",
       "    }\n",
       "\n",
       "    .dataframe tbody tr th {\n",
       "        vertical-align: top;\n",
       "    }\n",
       "\n",
       "    .dataframe thead th {\n",
       "        text-align: right;\n",
       "    }\n",
       "</style>\n",
       "<table border=\"1\" class=\"dataframe\">\n",
       "  <thead>\n",
       "    <tr style=\"text-align: right;\">\n",
       "      <th></th>\n",
       "      <th>param_n_estimators</th>\n",
       "      <th>mean_test_score</th>\n",
       "    </tr>\n",
       "  </thead>\n",
       "  <tbody>\n",
       "    <tr>\n",
       "      <th>0</th>\n",
       "      <td>20</td>\n",
       "      <td>0.972851</td>\n",
       "    </tr>\n",
       "    <tr>\n",
       "      <th>1</th>\n",
       "      <td>25</td>\n",
       "      <td>0.975319</td>\n",
       "    </tr>\n",
       "    <tr>\n",
       "      <th>2</th>\n",
       "      <td>30</td>\n",
       "      <td>0.974646</td>\n",
       "    </tr>\n",
       "    <tr>\n",
       "      <th>3</th>\n",
       "      <td>35</td>\n",
       "      <td>0.974421</td>\n",
       "    </tr>\n",
       "    <tr>\n",
       "      <th>4</th>\n",
       "      <td>40</td>\n",
       "      <td>0.974421</td>\n",
       "    </tr>\n",
       "  </tbody>\n",
       "</table>\n",
       "</div>"
      ],
      "text/plain": [
       "  param_n_estimators  mean_test_score\n",
       "0                 20         0.972851\n",
       "1                 25         0.975319\n",
       "2                 30         0.974646\n",
       "3                 35         0.974421\n",
       "4                 40         0.974421"
      ]
     },
     "execution_count": 251,
     "metadata": {},
     "output_type": "execute_result"
    }
   ],
   "source": [
    "df[['param_n_estimators','mean_test_score']]"
   ]
  },
  {
   "cell_type": "code",
   "execution_count": 252,
   "id": "68decb34",
   "metadata": {},
   "outputs": [
    {
     "data": {
      "text/plain": [
       "{'n_estimators': 25}"
      ]
     },
     "execution_count": 252,
     "metadata": {},
     "output_type": "execute_result"
    }
   ],
   "source": [
    "clf.best_params_"
   ]
  },
  {
   "cell_type": "code",
   "execution_count": 253,
   "id": "e7679db0",
   "metadata": {},
   "outputs": [
    {
     "data": {
      "text/plain": [
       "RandomForestClassifier(n_estimators=25, random_state=42)"
      ]
     },
     "execution_count": 253,
     "metadata": {},
     "output_type": "execute_result"
    }
   ],
   "source": [
    "# Create a Random Forest classifier\n",
    "rf_classifier = RandomForestClassifier(n_estimators=clf.best_params_['n_estimators'], random_state=42)  # You can adjust the number of trees (n_estimators)\n",
    "\n",
    "# Train the Random Forest classifier\n",
    "rf_classifier.fit(X_train_vec, y_train)"
   ]
  },
  {
   "cell_type": "code",
   "execution_count": 254,
   "id": "96afa249",
   "metadata": {},
   "outputs": [
    {
     "data": {
      "text/plain": [
       "{'mean_fit_time': array([1.44936514, 1.83574667, 2.16692753, 2.51079378, 2.89711466]),\n",
       " 'std_fit_time': array([0.12076076, 0.19612307, 0.18327087, 0.24222567, 0.23248843]),\n",
       " 'mean_score_time': array([0.02431059, 0.02620192, 0.0314672 , 0.03644347, 0.04404588]),\n",
       " 'std_score_time': array([0.00717179, 0.00661897, 0.00028322, 0.00887766, 0.00692506]),\n",
       " 'param_n_estimators': masked_array(data=[20, 25, 30, 35, 40],\n",
       "              mask=[False, False, False, False, False],\n",
       "        fill_value='?',\n",
       "             dtype=object),\n",
       " 'params': [{'n_estimators': 20},\n",
       "  {'n_estimators': 25},\n",
       "  {'n_estimators': 30},\n",
       "  {'n_estimators': 35},\n",
       "  {'n_estimators': 40}],\n",
       " 'split0_test_score': array([0.95401554, 0.96955959, 0.96178756, 0.96437824, 0.96502591]),\n",
       " 'split1_test_score': array([0.99935233, 0.99935233, 0.99935233, 0.99935233, 0.99935233]),\n",
       " 'split2_test_score': array([1.        , 0.99935233, 1.        , 1.        , 1.        ]),\n",
       " 'split3_test_score': array([0.99935233, 0.99935233, 0.99935233, 1.        , 1.        ]),\n",
       " 'split4_test_score': array([0.99935233, 0.99870466, 1.        , 1.        , 1.        ]),\n",
       " 'mean_test_score': array([0.99041451, 0.99326425, 0.99209845, 0.99274611, 0.99287565]),\n",
       " 'std_test_score': array([0.01820121, 0.01185499, 0.01515821, 0.01418616, 0.01392713]),\n",
       " 'rank_test_score': array([5, 1, 4, 3, 2])}"
      ]
     },
     "execution_count": 254,
     "metadata": {},
     "output_type": "execute_result"
    }
   ],
   "source": [
    "#Random Forest with SMOTE\n",
    "clf_sm = GridSearchCV(RandomForestClassifier(), {\n",
    "    'n_estimators': [20,25,30,35,40]\n",
    "    }, cv=5, return_train_score=False)\n",
    "clf_sm.fit(X_train_sm, y_train_sm)\n",
    "clf_sm.cv_results_"
   ]
  },
  {
   "cell_type": "code",
   "execution_count": 255,
   "id": "46aa950e",
   "metadata": {},
   "outputs": [
    {
     "data": {
      "text/html": [
       "<div>\n",
       "<style scoped>\n",
       "    .dataframe tbody tr th:only-of-type {\n",
       "        vertical-align: middle;\n",
       "    }\n",
       "\n",
       "    .dataframe tbody tr th {\n",
       "        vertical-align: top;\n",
       "    }\n",
       "\n",
       "    .dataframe thead th {\n",
       "        text-align: right;\n",
       "    }\n",
       "</style>\n",
       "<table border=\"1\" class=\"dataframe\">\n",
       "  <thead>\n",
       "    <tr style=\"text-align: right;\">\n",
       "      <th></th>\n",
       "      <th>mean_fit_time</th>\n",
       "      <th>std_fit_time</th>\n",
       "      <th>mean_score_time</th>\n",
       "      <th>std_score_time</th>\n",
       "      <th>param_n_estimators</th>\n",
       "      <th>params</th>\n",
       "      <th>split0_test_score</th>\n",
       "      <th>split1_test_score</th>\n",
       "      <th>split2_test_score</th>\n",
       "      <th>split3_test_score</th>\n",
       "      <th>split4_test_score</th>\n",
       "      <th>mean_test_score</th>\n",
       "      <th>std_test_score</th>\n",
       "      <th>rank_test_score</th>\n",
       "    </tr>\n",
       "  </thead>\n",
       "  <tbody>\n",
       "    <tr>\n",
       "      <th>0</th>\n",
       "      <td>1.367955</td>\n",
       "      <td>0.044261</td>\n",
       "      <td>0.015640</td>\n",
       "      <td>0.000025</td>\n",
       "      <td>20</td>\n",
       "      <td>{'n_estimators': 20}</td>\n",
       "      <td>0.976457</td>\n",
       "      <td>0.974215</td>\n",
       "      <td>0.976431</td>\n",
       "      <td>0.968575</td>\n",
       "      <td>0.968575</td>\n",
       "      <td>0.972851</td>\n",
       "      <td>0.003585</td>\n",
       "      <td>5</td>\n",
       "    </tr>\n",
       "    <tr>\n",
       "      <th>1</th>\n",
       "      <td>1.720706</td>\n",
       "      <td>0.042739</td>\n",
       "      <td>0.018833</td>\n",
       "      <td>0.006208</td>\n",
       "      <td>25</td>\n",
       "      <td>{'n_estimators': 25}</td>\n",
       "      <td>0.976457</td>\n",
       "      <td>0.977578</td>\n",
       "      <td>0.978676</td>\n",
       "      <td>0.973064</td>\n",
       "      <td>0.970819</td>\n",
       "      <td>0.975319</td>\n",
       "      <td>0.002933</td>\n",
       "      <td>1</td>\n",
       "    </tr>\n",
       "    <tr>\n",
       "      <th>2</th>\n",
       "      <td>2.068662</td>\n",
       "      <td>0.030875</td>\n",
       "      <td>0.031247</td>\n",
       "      <td>0.000060</td>\n",
       "      <td>30</td>\n",
       "      <td>{'n_estimators': 30}</td>\n",
       "      <td>0.975336</td>\n",
       "      <td>0.977578</td>\n",
       "      <td>0.974186</td>\n",
       "      <td>0.973064</td>\n",
       "      <td>0.973064</td>\n",
       "      <td>0.974646</td>\n",
       "      <td>0.001691</td>\n",
       "      <td>2</td>\n",
       "    </tr>\n",
       "    <tr>\n",
       "      <th>3</th>\n",
       "      <td>2.408087</td>\n",
       "      <td>0.069975</td>\n",
       "      <td>0.028362</td>\n",
       "      <td>0.006091</td>\n",
       "      <td>35</td>\n",
       "      <td>{'n_estimators': 35}</td>\n",
       "      <td>0.979821</td>\n",
       "      <td>0.975336</td>\n",
       "      <td>0.973064</td>\n",
       "      <td>0.969697</td>\n",
       "      <td>0.974186</td>\n",
       "      <td>0.974421</td>\n",
       "      <td>0.003293</td>\n",
       "      <td>4</td>\n",
       "    </tr>\n",
       "    <tr>\n",
       "      <th>4</th>\n",
       "      <td>2.734023</td>\n",
       "      <td>0.061721</td>\n",
       "      <td>0.032075</td>\n",
       "      <td>0.002963</td>\n",
       "      <td>40</td>\n",
       "      <td>{'n_estimators': 40}</td>\n",
       "      <td>0.979821</td>\n",
       "      <td>0.973094</td>\n",
       "      <td>0.976431</td>\n",
       "      <td>0.967452</td>\n",
       "      <td>0.975309</td>\n",
       "      <td>0.974421</td>\n",
       "      <td>0.004106</td>\n",
       "      <td>3</td>\n",
       "    </tr>\n",
       "  </tbody>\n",
       "</table>\n",
       "</div>"
      ],
      "text/plain": [
       "   mean_fit_time  std_fit_time  mean_score_time  std_score_time  \\\n",
       "0       1.367955      0.044261         0.015640        0.000025   \n",
       "1       1.720706      0.042739         0.018833        0.006208   \n",
       "2       2.068662      0.030875         0.031247        0.000060   \n",
       "3       2.408087      0.069975         0.028362        0.006091   \n",
       "4       2.734023      0.061721         0.032075        0.002963   \n",
       "\n",
       "  param_n_estimators                params  split0_test_score  \\\n",
       "0                 20  {'n_estimators': 20}           0.976457   \n",
       "1                 25  {'n_estimators': 25}           0.976457   \n",
       "2                 30  {'n_estimators': 30}           0.975336   \n",
       "3                 35  {'n_estimators': 35}           0.979821   \n",
       "4                 40  {'n_estimators': 40}           0.979821   \n",
       "\n",
       "   split1_test_score  split2_test_score  split3_test_score  split4_test_score  \\\n",
       "0           0.974215           0.976431           0.968575           0.968575   \n",
       "1           0.977578           0.978676           0.973064           0.970819   \n",
       "2           0.977578           0.974186           0.973064           0.973064   \n",
       "3           0.975336           0.973064           0.969697           0.974186   \n",
       "4           0.973094           0.976431           0.967452           0.975309   \n",
       "\n",
       "   mean_test_score  std_test_score  rank_test_score  \n",
       "0         0.972851        0.003585                5  \n",
       "1         0.975319        0.002933                1  \n",
       "2         0.974646        0.001691                2  \n",
       "3         0.974421        0.003293                4  \n",
       "4         0.974421        0.004106                3  "
      ]
     },
     "execution_count": 255,
     "metadata": {},
     "output_type": "execute_result"
    }
   ],
   "source": [
    "df = pd.DataFrame(clf.cv_results_)\n",
    "df"
   ]
  },
  {
   "cell_type": "code",
   "execution_count": 256,
   "id": "6ba82569",
   "metadata": {},
   "outputs": [
    {
     "data": {
      "text/html": [
       "<div>\n",
       "<style scoped>\n",
       "    .dataframe tbody tr th:only-of-type {\n",
       "        vertical-align: middle;\n",
       "    }\n",
       "\n",
       "    .dataframe tbody tr th {\n",
       "        vertical-align: top;\n",
       "    }\n",
       "\n",
       "    .dataframe thead th {\n",
       "        text-align: right;\n",
       "    }\n",
       "</style>\n",
       "<table border=\"1\" class=\"dataframe\">\n",
       "  <thead>\n",
       "    <tr style=\"text-align: right;\">\n",
       "      <th></th>\n",
       "      <th>param_n_estimators</th>\n",
       "      <th>mean_test_score</th>\n",
       "    </tr>\n",
       "  </thead>\n",
       "  <tbody>\n",
       "    <tr>\n",
       "      <th>0</th>\n",
       "      <td>20</td>\n",
       "      <td>0.972851</td>\n",
       "    </tr>\n",
       "    <tr>\n",
       "      <th>1</th>\n",
       "      <td>25</td>\n",
       "      <td>0.975319</td>\n",
       "    </tr>\n",
       "    <tr>\n",
       "      <th>2</th>\n",
       "      <td>30</td>\n",
       "      <td>0.974646</td>\n",
       "    </tr>\n",
       "    <tr>\n",
       "      <th>3</th>\n",
       "      <td>35</td>\n",
       "      <td>0.974421</td>\n",
       "    </tr>\n",
       "    <tr>\n",
       "      <th>4</th>\n",
       "      <td>40</td>\n",
       "      <td>0.974421</td>\n",
       "    </tr>\n",
       "  </tbody>\n",
       "</table>\n",
       "</div>"
      ],
      "text/plain": [
       "  param_n_estimators  mean_test_score\n",
       "0                 20         0.972851\n",
       "1                 25         0.975319\n",
       "2                 30         0.974646\n",
       "3                 35         0.974421\n",
       "4                 40         0.974421"
      ]
     },
     "execution_count": 256,
     "metadata": {},
     "output_type": "execute_result"
    }
   ],
   "source": [
    "df[['param_n_estimators','mean_test_score']]"
   ]
  },
  {
   "cell_type": "code",
   "execution_count": 257,
   "id": "6035031b",
   "metadata": {},
   "outputs": [
    {
     "data": {
      "text/plain": [
       "{'n_estimators': 25}"
      ]
     },
     "execution_count": 257,
     "metadata": {},
     "output_type": "execute_result"
    }
   ],
   "source": [
    "clf.best_params_"
   ]
  },
  {
   "cell_type": "code",
   "execution_count": 258,
   "id": "8a4c80e9",
   "metadata": {},
   "outputs": [
    {
     "data": {
      "text/plain": [
       "RandomForestClassifier(n_estimators=25, random_state=42)"
      ]
     },
     "execution_count": 258,
     "metadata": {},
     "output_type": "execute_result"
    }
   ],
   "source": [
    "# Create a Random Forest classifier\n",
    "rf_classifier_sm = RandomForestClassifier(n_estimators=clf_sm.best_params_['n_estimators'], random_state=42)  # You can adjust the number of trees (n_estimators)\n",
    "\n",
    "# Train the Random Forest classifier\n",
    "rf_classifier_sm.fit(X_train_sm, y_train_sm)"
   ]
  },
  {
   "cell_type": "code",
   "execution_count": 259,
   "id": "c16db237",
   "metadata": {},
   "outputs": [
    {
     "data": {
      "text/plain": [
       "RandomForestClassifier(max_features=None, n_estimators=25, random_state=42)"
      ]
     },
     "execution_count": 259,
     "metadata": {},
     "output_type": "execute_result"
    }
   ],
   "source": [
    "#Bagging without SMOTE\n",
    "rf_classifier_bag = RandomForestClassifier(n_estimators=clf.best_params_['n_estimators'], random_state=42,max_features=None)  # You can adjust the number of trees (n_estimators)\n",
    "rf_classifier_bag.fit(X_train_vec, y_train)"
   ]
  },
  {
   "cell_type": "code",
   "execution_count": 260,
   "id": "99727484",
   "metadata": {},
   "outputs": [
    {
     "data": {
      "text/plain": [
       "RandomForestClassifier(max_features=None, n_estimators=25, random_state=42)"
      ]
     },
     "execution_count": 260,
     "metadata": {},
     "output_type": "execute_result"
    }
   ],
   "source": [
    "#Bagging with SMOTE\n",
    "rf_classifier_bag_sm = RandomForestClassifier(n_estimators=clf_sm.best_params_['n_estimators'], random_state=42,max_features=None)  # You can adjust the number of trees (n_estimators)\n",
    "rf_classifier_bag_sm.fit(X_train_sm, y_train_sm)"
   ]
  },
  {
   "cell_type": "code",
   "execution_count": 261,
   "id": "e8cc4c79",
   "metadata": {},
   "outputs": [
    {
     "data": {
      "text/html": [
       "<div>\n",
       "<style scoped>\n",
       "    .dataframe tbody tr th:only-of-type {\n",
       "        vertical-align: middle;\n",
       "    }\n",
       "\n",
       "    .dataframe tbody tr th {\n",
       "        vertical-align: top;\n",
       "    }\n",
       "\n",
       "    .dataframe thead th {\n",
       "        text-align: right;\n",
       "    }\n",
       "</style>\n",
       "<table border=\"1\" class=\"dataframe\">\n",
       "  <thead>\n",
       "    <tr style=\"text-align: right;\">\n",
       "      <th></th>\n",
       "      <th>accuracy</th>\n",
       "      <th>precision</th>\n",
       "      <th>recall</th>\n",
       "      <th>f1-score</th>\n",
       "    </tr>\n",
       "  </thead>\n",
       "  <tbody>\n",
       "    <tr>\n",
       "      <th>Naive Bayes classifier</th>\n",
       "      <td>0.972197</td>\n",
       "      <td>0.883871</td>\n",
       "      <td>0.913333</td>\n",
       "      <td>0.898361</td>\n",
       "    </tr>\n",
       "    <tr>\n",
       "      <th>Logistic Regression</th>\n",
       "      <td>0.977578</td>\n",
       "      <td>0.931034</td>\n",
       "      <td>0.900000</td>\n",
       "      <td>0.915254</td>\n",
       "    </tr>\n",
       "    <tr>\n",
       "      <th>Random Forest</th>\n",
       "      <td>0.980269</td>\n",
       "      <td>1.000000</td>\n",
       "      <td>0.853333</td>\n",
       "      <td>0.920863</td>\n",
       "    </tr>\n",
       "    <tr>\n",
       "      <th>Bagging</th>\n",
       "      <td>0.965919</td>\n",
       "      <td>0.888889</td>\n",
       "      <td>0.853333</td>\n",
       "      <td>0.870748</td>\n",
       "    </tr>\n",
       "  </tbody>\n",
       "</table>\n",
       "</div>"
      ],
      "text/plain": [
       "                        accuracy  precision    recall  f1-score\n",
       "Naive Bayes classifier  0.972197   0.883871  0.913333  0.898361\n",
       "Logistic Regression     0.977578   0.931034  0.900000  0.915254\n",
       "Random Forest           0.980269   1.000000  0.853333  0.920863\n",
       "Bagging                 0.965919   0.888889  0.853333  0.870748"
      ]
     },
     "execution_count": 261,
     "metadata": {},
     "output_type": "execute_result"
    }
   ],
   "source": [
    "#Model Performance with SMOTE\n",
    "#Test Data Performance\n",
    "baseline_model_results = evaluate_model(baseline_model_1_sm, X_test_vec, y_test)\n",
    "baseline_model2_results= evaluate_model(baseline_model_2_sm, X_test_vec, y_test)\n",
    "baseline_model3_results= evaluate_model(rf_classifier_sm, X_test_vec, y_test)\n",
    "bagging_results= evaluate_model(rf_classifier_bag_sm, X_test_vec, y_test)\n",
    "\n",
    "total_results = pd.DataFrame({'Naive Bayes classifier':baseline_model_results,\n",
    "                              'Logistic Regression ':baseline_model2_results,\n",
    "                             'Random Forest':baseline_model3_results,\n",
    "                             'Bagging': bagging_results}).transpose()\n",
    " \n",
    "total_results"
   ]
  },
  {
   "cell_type": "code",
   "execution_count": 262,
   "id": "5f430597",
   "metadata": {},
   "outputs": [
    {
     "data": {
      "text/html": [
       "<div>\n",
       "<style scoped>\n",
       "    .dataframe tbody tr th:only-of-type {\n",
       "        vertical-align: middle;\n",
       "    }\n",
       "\n",
       "    .dataframe tbody tr th {\n",
       "        vertical-align: top;\n",
       "    }\n",
       "\n",
       "    .dataframe thead th {\n",
       "        text-align: right;\n",
       "    }\n",
       "</style>\n",
       "<table border=\"1\" class=\"dataframe\">\n",
       "  <thead>\n",
       "    <tr style=\"text-align: right;\">\n",
       "      <th></th>\n",
       "      <th>accuracy</th>\n",
       "      <th>precision</th>\n",
       "      <th>recall</th>\n",
       "      <th>f1-score</th>\n",
       "    </tr>\n",
       "  </thead>\n",
       "  <tbody>\n",
       "    <tr>\n",
       "      <th>Random Forest</th>\n",
       "      <td>0.980269</td>\n",
       "      <td>1.000000</td>\n",
       "      <td>0.853333</td>\n",
       "      <td>0.920863</td>\n",
       "    </tr>\n",
       "    <tr>\n",
       "      <th>Logistic Regression</th>\n",
       "      <td>0.977578</td>\n",
       "      <td>0.931034</td>\n",
       "      <td>0.900000</td>\n",
       "      <td>0.915254</td>\n",
       "    </tr>\n",
       "    <tr>\n",
       "      <th>Naive Bayes classifier</th>\n",
       "      <td>0.972197</td>\n",
       "      <td>0.883871</td>\n",
       "      <td>0.913333</td>\n",
       "      <td>0.898361</td>\n",
       "    </tr>\n",
       "    <tr>\n",
       "      <th>Bagging</th>\n",
       "      <td>0.965919</td>\n",
       "      <td>0.888889</td>\n",
       "      <td>0.853333</td>\n",
       "      <td>0.870748</td>\n",
       "    </tr>\n",
       "  </tbody>\n",
       "</table>\n",
       "</div>"
      ],
      "text/plain": [
       "                        accuracy  precision    recall  f1-score\n",
       "Random Forest           0.980269   1.000000  0.853333  0.920863\n",
       "Logistic Regression     0.977578   0.931034  0.900000  0.915254\n",
       "Naive Bayes classifier  0.972197   0.883871  0.913333  0.898361\n",
       "Bagging                 0.965919   0.888889  0.853333  0.870748"
      ]
     },
     "execution_count": 262,
     "metadata": {},
     "output_type": "execute_result"
    }
   ],
   "source": [
    "total_results.sort_values('f1-score', ascending=False)"
   ]
  },
  {
   "cell_type": "code",
   "execution_count": 263,
   "id": "6e4ca8dc",
   "metadata": {},
   "outputs": [
    {
     "data": {
      "text/html": [
       "<div>\n",
       "<style scoped>\n",
       "    .dataframe tbody tr th:only-of-type {\n",
       "        vertical-align: middle;\n",
       "    }\n",
       "\n",
       "    .dataframe tbody tr th {\n",
       "        vertical-align: top;\n",
       "    }\n",
       "\n",
       "    .dataframe thead th {\n",
       "        text-align: right;\n",
       "    }\n",
       "</style>\n",
       "<table border=\"1\" class=\"dataframe\">\n",
       "  <thead>\n",
       "    <tr style=\"text-align: right;\">\n",
       "      <th></th>\n",
       "      <th>accuracy</th>\n",
       "      <th>precision</th>\n",
       "      <th>recall</th>\n",
       "      <th>f1-score</th>\n",
       "    </tr>\n",
       "  </thead>\n",
       "  <tbody>\n",
       "    <tr>\n",
       "      <th>Naive Bayes classifier</th>\n",
       "      <td>0.992617</td>\n",
       "      <td>0.992234</td>\n",
       "      <td>0.993005</td>\n",
       "      <td>0.992619</td>\n",
       "    </tr>\n",
       "    <tr>\n",
       "      <th>Logistic Regression</th>\n",
       "      <td>0.994301</td>\n",
       "      <td>0.995070</td>\n",
       "      <td>0.993523</td>\n",
       "      <td>0.994296</td>\n",
       "    </tr>\n",
       "    <tr>\n",
       "      <th>Random Forest</th>\n",
       "      <td>0.999741</td>\n",
       "      <td>1.000000</td>\n",
       "      <td>0.999482</td>\n",
       "      <td>0.999741</td>\n",
       "    </tr>\n",
       "    <tr>\n",
       "      <th>Bagging</th>\n",
       "      <td>0.999870</td>\n",
       "      <td>0.999741</td>\n",
       "      <td>1.000000</td>\n",
       "      <td>0.999870</td>\n",
       "    </tr>\n",
       "  </tbody>\n",
       "</table>\n",
       "</div>"
      ],
      "text/plain": [
       "                        accuracy  precision    recall  f1-score\n",
       "Naive Bayes classifier  0.992617   0.992234  0.993005  0.992619\n",
       "Logistic Regression     0.994301   0.995070  0.993523  0.994296\n",
       "Random Forest           0.999741   1.000000  0.999482  0.999741\n",
       "Bagging                 0.999870   0.999741  1.000000  0.999870"
      ]
     },
     "execution_count": 263,
     "metadata": {},
     "output_type": "execute_result"
    }
   ],
   "source": [
    "#Train Data Performance\n",
    "baseline_model_results = evaluate_model(baseline_model_1_sm, X_train_sm, y_train_sm)\n",
    "baseline_model2_results= evaluate_model(baseline_model_2_sm, X_train_sm, y_train_sm)\n",
    "baseline_model3_results= evaluate_model(rf_classifier_sm, X_train_sm, y_train_sm)\n",
    "bagging_results= evaluate_model(rf_classifier_bag_sm, X_train_sm, y_train_sm)\n",
    "\n",
    "total_results = pd.DataFrame({'Naive Bayes classifier':baseline_model_results,\n",
    "                              'Logistic Regression ':baseline_model2_results,\n",
    "                             'Random Forest':baseline_model3_results,\n",
    "                             'Bagging': bagging_results}).transpose()\n",
    " \n",
    "total_results"
   ]
  },
  {
   "cell_type": "code",
   "execution_count": 264,
   "id": "afdee771",
   "metadata": {},
   "outputs": [
    {
     "data": {
      "text/html": [
       "<div>\n",
       "<style scoped>\n",
       "    .dataframe tbody tr th:only-of-type {\n",
       "        vertical-align: middle;\n",
       "    }\n",
       "\n",
       "    .dataframe tbody tr th {\n",
       "        vertical-align: top;\n",
       "    }\n",
       "\n",
       "    .dataframe thead th {\n",
       "        text-align: right;\n",
       "    }\n",
       "</style>\n",
       "<table border=\"1\" class=\"dataframe\">\n",
       "  <thead>\n",
       "    <tr style=\"text-align: right;\">\n",
       "      <th></th>\n",
       "      <th>accuracy</th>\n",
       "      <th>precision</th>\n",
       "      <th>recall</th>\n",
       "      <th>f1-score</th>\n",
       "    </tr>\n",
       "  </thead>\n",
       "  <tbody>\n",
       "    <tr>\n",
       "      <th>Bagging</th>\n",
       "      <td>0.999870</td>\n",
       "      <td>0.999741</td>\n",
       "      <td>1.000000</td>\n",
       "      <td>0.999870</td>\n",
       "    </tr>\n",
       "    <tr>\n",
       "      <th>Random Forest</th>\n",
       "      <td>0.999741</td>\n",
       "      <td>1.000000</td>\n",
       "      <td>0.999482</td>\n",
       "      <td>0.999741</td>\n",
       "    </tr>\n",
       "    <tr>\n",
       "      <th>Logistic Regression</th>\n",
       "      <td>0.994301</td>\n",
       "      <td>0.995070</td>\n",
       "      <td>0.993523</td>\n",
       "      <td>0.994296</td>\n",
       "    </tr>\n",
       "    <tr>\n",
       "      <th>Naive Bayes classifier</th>\n",
       "      <td>0.992617</td>\n",
       "      <td>0.992234</td>\n",
       "      <td>0.993005</td>\n",
       "      <td>0.992619</td>\n",
       "    </tr>\n",
       "  </tbody>\n",
       "</table>\n",
       "</div>"
      ],
      "text/plain": [
       "                        accuracy  precision    recall  f1-score\n",
       "Bagging                 0.999870   0.999741  1.000000  0.999870\n",
       "Random Forest           0.999741   1.000000  0.999482  0.999741\n",
       "Logistic Regression     0.994301   0.995070  0.993523  0.994296\n",
       "Naive Bayes classifier  0.992617   0.992234  0.993005  0.992619"
      ]
     },
     "execution_count": 264,
     "metadata": {},
     "output_type": "execute_result"
    }
   ],
   "source": [
    "total_results.sort_values('f1-score', ascending=False)"
   ]
  },
  {
   "cell_type": "code",
   "execution_count": 265,
   "id": "52049948",
   "metadata": {},
   "outputs": [
    {
     "data": {
      "text/html": [
       "<div>\n",
       "<style scoped>\n",
       "    .dataframe tbody tr th:only-of-type {\n",
       "        vertical-align: middle;\n",
       "    }\n",
       "\n",
       "    .dataframe tbody tr th {\n",
       "        vertical-align: top;\n",
       "    }\n",
       "\n",
       "    .dataframe thead th {\n",
       "        text-align: right;\n",
       "    }\n",
       "</style>\n",
       "<table border=\"1\" class=\"dataframe\">\n",
       "  <thead>\n",
       "    <tr style=\"text-align: right;\">\n",
       "      <th></th>\n",
       "      <th>accuracy</th>\n",
       "      <th>precision</th>\n",
       "      <th>recall</th>\n",
       "      <th>f1-score</th>\n",
       "    </tr>\n",
       "  </thead>\n",
       "  <tbody>\n",
       "    <tr>\n",
       "      <th>Naive Bayes classifier</th>\n",
       "      <td>0.962332</td>\n",
       "      <td>1.000000</td>\n",
       "      <td>0.720000</td>\n",
       "      <td>0.837209</td>\n",
       "    </tr>\n",
       "    <tr>\n",
       "      <th>Logistic Regression</th>\n",
       "      <td>0.965919</td>\n",
       "      <td>0.991228</td>\n",
       "      <td>0.753333</td>\n",
       "      <td>0.856061</td>\n",
       "    </tr>\n",
       "    <tr>\n",
       "      <th>Random Forest</th>\n",
       "      <td>0.976682</td>\n",
       "      <td>0.984375</td>\n",
       "      <td>0.840000</td>\n",
       "      <td>0.906475</td>\n",
       "    </tr>\n",
       "    <tr>\n",
       "      <th>Bagging</th>\n",
       "      <td>0.969507</td>\n",
       "      <td>0.946154</td>\n",
       "      <td>0.820000</td>\n",
       "      <td>0.878571</td>\n",
       "    </tr>\n",
       "  </tbody>\n",
       "</table>\n",
       "</div>"
      ],
      "text/plain": [
       "                        accuracy  precision    recall  f1-score\n",
       "Naive Bayes classifier  0.962332   1.000000  0.720000  0.837209\n",
       "Logistic Regression     0.965919   0.991228  0.753333  0.856061\n",
       "Random Forest           0.976682   0.984375  0.840000  0.906475\n",
       "Bagging                 0.969507   0.946154  0.820000  0.878571"
      ]
     },
     "execution_count": 265,
     "metadata": {},
     "output_type": "execute_result"
    }
   ],
   "source": [
    "#Model Performance without SMOTE\n",
    "#Test Data Performance\n",
    "baseline_model_results = evaluate_model(baseline_model, X_test_vec, y_test)\n",
    "baseline_model2_results= evaluate_model(baseline_model_2, X_test_vec, y_test)\n",
    "baseline_model3_results= evaluate_model(rf_classifier, X_test_vec, y_test)\n",
    "bagging_results= evaluate_model(rf_classifier_bag, X_test_vec, y_test)\n",
    "\n",
    "total_results = pd.DataFrame({'Naive Bayes classifier':baseline_model_results,\n",
    "                              'Logistic Regression ':baseline_model2_results,\n",
    "                             'Random Forest':baseline_model3_results,\n",
    "                             'Bagging':bagging_results}).transpose()\n",
    " \n",
    "total_results"
   ]
  },
  {
   "cell_type": "code",
   "execution_count": 266,
   "id": "9c00878d",
   "metadata": {},
   "outputs": [
    {
     "data": {
      "text/html": [
       "<div>\n",
       "<style scoped>\n",
       "    .dataframe tbody tr th:only-of-type {\n",
       "        vertical-align: middle;\n",
       "    }\n",
       "\n",
       "    .dataframe tbody tr th {\n",
       "        vertical-align: top;\n",
       "    }\n",
       "\n",
       "    .dataframe thead th {\n",
       "        text-align: right;\n",
       "    }\n",
       "</style>\n",
       "<table border=\"1\" class=\"dataframe\">\n",
       "  <thead>\n",
       "    <tr style=\"text-align: right;\">\n",
       "      <th></th>\n",
       "      <th>accuracy</th>\n",
       "      <th>precision</th>\n",
       "      <th>recall</th>\n",
       "      <th>f1-score</th>\n",
       "    </tr>\n",
       "  </thead>\n",
       "  <tbody>\n",
       "    <tr>\n",
       "      <th>Random Forest</th>\n",
       "      <td>0.976682</td>\n",
       "      <td>0.984375</td>\n",
       "      <td>0.840000</td>\n",
       "      <td>0.906475</td>\n",
       "    </tr>\n",
       "    <tr>\n",
       "      <th>Bagging</th>\n",
       "      <td>0.969507</td>\n",
       "      <td>0.946154</td>\n",
       "      <td>0.820000</td>\n",
       "      <td>0.878571</td>\n",
       "    </tr>\n",
       "    <tr>\n",
       "      <th>Logistic Regression</th>\n",
       "      <td>0.965919</td>\n",
       "      <td>0.991228</td>\n",
       "      <td>0.753333</td>\n",
       "      <td>0.856061</td>\n",
       "    </tr>\n",
       "    <tr>\n",
       "      <th>Naive Bayes classifier</th>\n",
       "      <td>0.962332</td>\n",
       "      <td>1.000000</td>\n",
       "      <td>0.720000</td>\n",
       "      <td>0.837209</td>\n",
       "    </tr>\n",
       "  </tbody>\n",
       "</table>\n",
       "</div>"
      ],
      "text/plain": [
       "                        accuracy  precision    recall  f1-score\n",
       "Random Forest           0.976682   0.984375  0.840000  0.906475\n",
       "Bagging                 0.969507   0.946154  0.820000  0.878571\n",
       "Logistic Regression     0.965919   0.991228  0.753333  0.856061\n",
       "Naive Bayes classifier  0.962332   1.000000  0.720000  0.837209"
      ]
     },
     "execution_count": 266,
     "metadata": {},
     "output_type": "execute_result"
    }
   ],
   "source": [
    "total_results.sort_values('f1-score', ascending=False)"
   ]
  },
  {
   "cell_type": "code",
   "execution_count": 267,
   "id": "7b80b011",
   "metadata": {},
   "outputs": [
    {
     "data": {
      "text/html": [
       "<div>\n",
       "<style scoped>\n",
       "    .dataframe tbody tr th:only-of-type {\n",
       "        vertical-align: middle;\n",
       "    }\n",
       "\n",
       "    .dataframe tbody tr th {\n",
       "        vertical-align: top;\n",
       "    }\n",
       "\n",
       "    .dataframe thead th {\n",
       "        text-align: right;\n",
       "    }\n",
       "</style>\n",
       "<table border=\"1\" class=\"dataframe\">\n",
       "  <thead>\n",
       "    <tr style=\"text-align: right;\">\n",
       "      <th></th>\n",
       "      <th>accuracy</th>\n",
       "      <th>precision</th>\n",
       "      <th>recall</th>\n",
       "      <th>f1-score</th>\n",
       "    </tr>\n",
       "  </thead>\n",
       "  <tbody>\n",
       "    <tr>\n",
       "      <th>Naive Bayes classifier</th>\n",
       "      <td>0.972852</td>\n",
       "      <td>1.000000</td>\n",
       "      <td>0.797320</td>\n",
       "      <td>0.887232</td>\n",
       "    </tr>\n",
       "    <tr>\n",
       "      <th>Logistic Regression</th>\n",
       "      <td>0.975320</td>\n",
       "      <td>0.995927</td>\n",
       "      <td>0.819095</td>\n",
       "      <td>0.898897</td>\n",
       "    </tr>\n",
       "    <tr>\n",
       "      <th>Random Forest</th>\n",
       "      <td>0.999776</td>\n",
       "      <td>1.000000</td>\n",
       "      <td>0.998325</td>\n",
       "      <td>0.999162</td>\n",
       "    </tr>\n",
       "    <tr>\n",
       "      <th>Bagging</th>\n",
       "      <td>0.999327</td>\n",
       "      <td>1.000000</td>\n",
       "      <td>0.994975</td>\n",
       "      <td>0.997481</td>\n",
       "    </tr>\n",
       "  </tbody>\n",
       "</table>\n",
       "</div>"
      ],
      "text/plain": [
       "                        accuracy  precision    recall  f1-score\n",
       "Naive Bayes classifier  0.972852   1.000000  0.797320  0.887232\n",
       "Logistic Regression     0.975320   0.995927  0.819095  0.898897\n",
       "Random Forest           0.999776   1.000000  0.998325  0.999162\n",
       "Bagging                 0.999327   1.000000  0.994975  0.997481"
      ]
     },
     "execution_count": 267,
     "metadata": {},
     "output_type": "execute_result"
    }
   ],
   "source": [
    "#Train Data Performance\n",
    "baseline_model_results = evaluate_model(baseline_model, X_train_vec, y_train)\n",
    "baseline_model2_results= evaluate_model(baseline_model_2, X_train_vec, y_train)\n",
    "baseline_model3_results= evaluate_model(rf_classifier, X_train_vec, y_train)\n",
    "bagging_results= evaluate_model(rf_classifier_bag, X_train_vec, y_train)\n",
    "\n",
    "total_results = pd.DataFrame({'Naive Bayes classifier':baseline_model_results,\n",
    "                              'Logistic Regression ':baseline_model2_results,\n",
    "                             'Random Forest':baseline_model3_results,\n",
    "                             'Bagging':bagging_results}).transpose()\n",
    " \n",
    "total_results"
   ]
  },
  {
   "cell_type": "code",
   "execution_count": 268,
   "id": "7a80b259",
   "metadata": {},
   "outputs": [
    {
     "data": {
      "text/html": [
       "<div>\n",
       "<style scoped>\n",
       "    .dataframe tbody tr th:only-of-type {\n",
       "        vertical-align: middle;\n",
       "    }\n",
       "\n",
       "    .dataframe tbody tr th {\n",
       "        vertical-align: top;\n",
       "    }\n",
       "\n",
       "    .dataframe thead th {\n",
       "        text-align: right;\n",
       "    }\n",
       "</style>\n",
       "<table border=\"1\" class=\"dataframe\">\n",
       "  <thead>\n",
       "    <tr style=\"text-align: right;\">\n",
       "      <th></th>\n",
       "      <th>accuracy</th>\n",
       "      <th>precision</th>\n",
       "      <th>recall</th>\n",
       "      <th>f1-score</th>\n",
       "    </tr>\n",
       "  </thead>\n",
       "  <tbody>\n",
       "    <tr>\n",
       "      <th>Random Forest</th>\n",
       "      <td>0.999776</td>\n",
       "      <td>1.000000</td>\n",
       "      <td>0.998325</td>\n",
       "      <td>0.999162</td>\n",
       "    </tr>\n",
       "    <tr>\n",
       "      <th>Bagging</th>\n",
       "      <td>0.999327</td>\n",
       "      <td>1.000000</td>\n",
       "      <td>0.994975</td>\n",
       "      <td>0.997481</td>\n",
       "    </tr>\n",
       "    <tr>\n",
       "      <th>Logistic Regression</th>\n",
       "      <td>0.975320</td>\n",
       "      <td>0.995927</td>\n",
       "      <td>0.819095</td>\n",
       "      <td>0.898897</td>\n",
       "    </tr>\n",
       "    <tr>\n",
       "      <th>Naive Bayes classifier</th>\n",
       "      <td>0.972852</td>\n",
       "      <td>1.000000</td>\n",
       "      <td>0.797320</td>\n",
       "      <td>0.887232</td>\n",
       "    </tr>\n",
       "  </tbody>\n",
       "</table>\n",
       "</div>"
      ],
      "text/plain": [
       "                        accuracy  precision    recall  f1-score\n",
       "Random Forest           0.999776   1.000000  0.998325  0.999162\n",
       "Bagging                 0.999327   1.000000  0.994975  0.997481\n",
       "Logistic Regression     0.975320   0.995927  0.819095  0.898897\n",
       "Naive Bayes classifier  0.972852   1.000000  0.797320  0.887232"
      ]
     },
     "execution_count": 268,
     "metadata": {},
     "output_type": "execute_result"
    }
   ],
   "source": [
    "total_results.sort_values('f1-score', ascending=False)"
   ]
  },
  {
   "cell_type": "code",
   "execution_count": 269,
   "id": "303157e0",
   "metadata": {},
   "outputs": [
    {
     "data": {
      "text/plain": [
       "((4457,), (4457,), (1115,), (1115,))"
      ]
     },
     "execution_count": 269,
     "metadata": {},
     "output_type": "execute_result"
    }
   ],
   "source": [
    "#80:20 Separate Split on both Spam and Ham considering the outliers\n",
    "\n",
    "# Splitting data for Training and testing\n",
    "# Separate spam and ham messages\n",
    "spam_messages = new_df[new_df['label'] == 1]\n",
    "ham_messages = new_df[new_df['label'] == 0]\n",
    "\n",
    "# Split spam messages into train and test sets\n",
    "X_train_spam, X_test_spam, y_train_spam, y_test_spam = train_test_split(\n",
    "    spam_messages['Text'], spam_messages['label'], test_size=0.2, random_state=42)\n",
    "\n",
    "# Split ham messages into train and test sets\n",
    "X_train_ham, X_test_ham, y_train_ham, y_test_ham = train_test_split(\n",
    "    ham_messages['Text'], ham_messages['label'], test_size=0.2, random_state=42)\n",
    "\n",
    "# Concatenate train and test sets for spam and ham\n",
    "X_train = pd.concat([X_train_spam, X_train_ham])\n",
    "X_test = pd.concat([X_test_spam, X_test_ham])\n",
    "y_train = pd.concat([y_train_spam, y_train_ham])\n",
    "y_test = pd.concat([y_test_spam, y_test_ham])\n",
    "\n",
    "# Shuffle the data\n",
    "X_train = X_train.sample(frac=1, random_state=42).reset_index(drop=True)\n",
    "X_test = X_test.sample(frac=1, random_state=42).reset_index(drop=True)\n",
    "y_train = y_train.sample(frac=1, random_state=42).reset_index(drop=True)\n",
    "y_test = y_test.sample(frac=1, random_state=42).reset_index(drop=True)\n",
    "# Check shapes\n",
    "X_train.shape, y_train.shape, X_test.shape, y_test.shape\n"
   ]
  },
  {
   "cell_type": "code",
   "execution_count": 270,
   "id": "cdf1fbaa",
   "metadata": {},
   "outputs": [],
   "source": [
    "#Applying TF-IDF Vectorizer\n",
    "tfidf_vec = TfidfVectorizer(min_df=1).fit(X_train)\n",
    "X_train_vec,X_test_vec = tfidf_vec.transform(X_train),tfidf_vec.transform(X_test)"
   ]
  },
  {
   "cell_type": "code",
   "execution_count": 271,
   "id": "9294e104",
   "metadata": {},
   "outputs": [],
   "source": [
    "#Applying SMOTE on the training data\n",
    "from imblearn.over_sampling import SMOTE\n",
    "smote = SMOTE()\n",
    "X_train_sm,y_train_sm = smote.fit_resample(X_train_vec,y_train)"
   ]
  },
  {
   "cell_type": "code",
   "execution_count": 272,
   "id": "c6e1000a",
   "metadata": {},
   "outputs": [
    {
     "data": {
      "text/plain": [
       "MultinomialNB()"
      ]
     },
     "execution_count": 272,
     "metadata": {},
     "output_type": "execute_result"
    }
   ],
   "source": [
    "#Naive Bayes Classifier with SMOTE \n",
    "baseline_model_1_sm = MultinomialNB()\n",
    "baseline_model_1_sm.fit(X_train_sm,y_train_sm)"
   ]
  },
  {
   "cell_type": "code",
   "execution_count": 273,
   "id": "d9fd1d56",
   "metadata": {},
   "outputs": [
    {
     "data": {
      "text/plain": [
       "MultinomialNB()"
      ]
     },
     "execution_count": 273,
     "metadata": {},
     "output_type": "execute_result"
    }
   ],
   "source": [
    "#Naive Bayes Classifier without SMOTE \n",
    "baseline_model = MultinomialNB()\n",
    "baseline_model.fit(X_train_vec,y_train)"
   ]
  },
  {
   "cell_type": "code",
   "execution_count": 274,
   "id": "50a8bb49",
   "metadata": {},
   "outputs": [
    {
     "data": {
      "text/plain": [
       "LogisticRegression()"
      ]
     },
     "execution_count": 274,
     "metadata": {},
     "output_type": "execute_result"
    }
   ],
   "source": [
    "#Logistic Regression with SMOTE\n",
    "from sklearn.linear_model import LogisticRegression\n",
    "# Initialize the logistic regression model\n",
    "baseline_model_2_sm = LogisticRegression()\n",
    "# Fit the model to the training data\n",
    "baseline_model_2_sm.fit(X_train_sm, y_train_sm)"
   ]
  },
  {
   "cell_type": "code",
   "execution_count": 275,
   "id": "9aea5a35",
   "metadata": {},
   "outputs": [
    {
     "data": {
      "text/plain": [
       "LogisticRegression()"
      ]
     },
     "execution_count": 275,
     "metadata": {},
     "output_type": "execute_result"
    }
   ],
   "source": [
    "#Logistic Regression without SMOTE\n",
    "# Initialize the logistic regression model\n",
    "baseline_model_2 = LogisticRegression()\n",
    "\n",
    "# Fit the model to the training data\n",
    "baseline_model_2.fit(X_train_vec, y_train)"
   ]
  },
  {
   "cell_type": "code",
   "execution_count": 276,
   "id": "28680780",
   "metadata": {},
   "outputs": [
    {
     "data": {
      "text/plain": [
       "{'mean_fit_time': array([1.44501033, 1.76351423, 2.09707665, 2.40978508, 2.84379568]),\n",
       " 'std_fit_time': array([0.04039193, 0.08735567, 0.0668877 , 0.07815774, 0.08556911]),\n",
       " 'mean_score_time': array([0.0125041 , 0.01879363, 0.01975589, 0.03141098, 0.03120656]),\n",
       " 'std_score_time': array([0.00625205, 0.00626859, 0.00495928, 0.00019931, 0.00081622]),\n",
       " 'param_n_estimators': masked_array(data=[20, 25, 30, 35, 40],\n",
       "              mask=[False, False, False, False, False],\n",
       "        fill_value='?',\n",
       "             dtype=object),\n",
       " 'params': [{'n_estimators': 20},\n",
       "  {'n_estimators': 25},\n",
       "  {'n_estimators': 30},\n",
       "  {'n_estimators': 35},\n",
       "  {'n_estimators': 40}],\n",
       " 'split0_test_score': array([0.96636771, 0.96748879, 0.97197309, 0.97421525, 0.97309417]),\n",
       " 'split1_test_score': array([0.97309417, 0.96973094, 0.97309417, 0.97533632, 0.96973094]),\n",
       " 'split2_test_score': array([0.97755331, 0.98092031, 0.97867565, 0.97530864, 0.97755331]),\n",
       " 'split3_test_score': array([0.96632997, 0.97194164, 0.96857464, 0.97306397, 0.9674523 ]),\n",
       " 'split4_test_score': array([0.9708193 , 0.9708193 , 0.97530864, 0.97418631, 0.97979798]),\n",
       " 'mean_test_score': array([0.97083289, 0.9721802 , 0.97352524, 0.9744221 , 0.97352574]),\n",
       " 'std_test_score': array([0.00425422, 0.004611  , 0.00337078, 0.00084435, 0.00462679]),\n",
       " 'rank_test_score': array([5, 4, 3, 1, 2])}"
      ]
     },
     "execution_count": 276,
     "metadata": {},
     "output_type": "execute_result"
    }
   ],
   "source": [
    "#Random Forest without SMOTE\n",
    "from sklearn.ensemble import RandomForestClassifier\n",
    "from sklearn.model_selection import GridSearchCV\n",
    "\n",
    "clf = GridSearchCV(RandomForestClassifier(), {\n",
    "    'n_estimators': [20,25,30,35,40]\n",
    "    }, cv=5, return_train_score=False)\n",
    "clf.fit(X_train_vec, y_train)\n",
    "clf.cv_results_"
   ]
  },
  {
   "cell_type": "code",
   "execution_count": 277,
   "id": "20806c9b",
   "metadata": {},
   "outputs": [
    {
     "data": {
      "text/html": [
       "<div>\n",
       "<style scoped>\n",
       "    .dataframe tbody tr th:only-of-type {\n",
       "        vertical-align: middle;\n",
       "    }\n",
       "\n",
       "    .dataframe tbody tr th {\n",
       "        vertical-align: top;\n",
       "    }\n",
       "\n",
       "    .dataframe thead th {\n",
       "        text-align: right;\n",
       "    }\n",
       "</style>\n",
       "<table border=\"1\" class=\"dataframe\">\n",
       "  <thead>\n",
       "    <tr style=\"text-align: right;\">\n",
       "      <th></th>\n",
       "      <th>mean_fit_time</th>\n",
       "      <th>std_fit_time</th>\n",
       "      <th>mean_score_time</th>\n",
       "      <th>std_score_time</th>\n",
       "      <th>param_n_estimators</th>\n",
       "      <th>params</th>\n",
       "      <th>split0_test_score</th>\n",
       "      <th>split1_test_score</th>\n",
       "      <th>split2_test_score</th>\n",
       "      <th>split3_test_score</th>\n",
       "      <th>split4_test_score</th>\n",
       "      <th>mean_test_score</th>\n",
       "      <th>std_test_score</th>\n",
       "      <th>rank_test_score</th>\n",
       "    </tr>\n",
       "  </thead>\n",
       "  <tbody>\n",
       "    <tr>\n",
       "      <th>0</th>\n",
       "      <td>1.445010</td>\n",
       "      <td>0.040392</td>\n",
       "      <td>0.012504</td>\n",
       "      <td>0.006252</td>\n",
       "      <td>20</td>\n",
       "      <td>{'n_estimators': 20}</td>\n",
       "      <td>0.966368</td>\n",
       "      <td>0.973094</td>\n",
       "      <td>0.977553</td>\n",
       "      <td>0.966330</td>\n",
       "      <td>0.970819</td>\n",
       "      <td>0.970833</td>\n",
       "      <td>0.004254</td>\n",
       "      <td>5</td>\n",
       "    </tr>\n",
       "    <tr>\n",
       "      <th>1</th>\n",
       "      <td>1.763514</td>\n",
       "      <td>0.087356</td>\n",
       "      <td>0.018794</td>\n",
       "      <td>0.006269</td>\n",
       "      <td>25</td>\n",
       "      <td>{'n_estimators': 25}</td>\n",
       "      <td>0.967489</td>\n",
       "      <td>0.969731</td>\n",
       "      <td>0.980920</td>\n",
       "      <td>0.971942</td>\n",
       "      <td>0.970819</td>\n",
       "      <td>0.972180</td>\n",
       "      <td>0.004611</td>\n",
       "      <td>4</td>\n",
       "    </tr>\n",
       "    <tr>\n",
       "      <th>2</th>\n",
       "      <td>2.097077</td>\n",
       "      <td>0.066888</td>\n",
       "      <td>0.019756</td>\n",
       "      <td>0.004959</td>\n",
       "      <td>30</td>\n",
       "      <td>{'n_estimators': 30}</td>\n",
       "      <td>0.971973</td>\n",
       "      <td>0.973094</td>\n",
       "      <td>0.978676</td>\n",
       "      <td>0.968575</td>\n",
       "      <td>0.975309</td>\n",
       "      <td>0.973525</td>\n",
       "      <td>0.003371</td>\n",
       "      <td>3</td>\n",
       "    </tr>\n",
       "    <tr>\n",
       "      <th>3</th>\n",
       "      <td>2.409785</td>\n",
       "      <td>0.078158</td>\n",
       "      <td>0.031411</td>\n",
       "      <td>0.000199</td>\n",
       "      <td>35</td>\n",
       "      <td>{'n_estimators': 35}</td>\n",
       "      <td>0.974215</td>\n",
       "      <td>0.975336</td>\n",
       "      <td>0.975309</td>\n",
       "      <td>0.973064</td>\n",
       "      <td>0.974186</td>\n",
       "      <td>0.974422</td>\n",
       "      <td>0.000844</td>\n",
       "      <td>1</td>\n",
       "    </tr>\n",
       "    <tr>\n",
       "      <th>4</th>\n",
       "      <td>2.843796</td>\n",
       "      <td>0.085569</td>\n",
       "      <td>0.031207</td>\n",
       "      <td>0.000816</td>\n",
       "      <td>40</td>\n",
       "      <td>{'n_estimators': 40}</td>\n",
       "      <td>0.973094</td>\n",
       "      <td>0.969731</td>\n",
       "      <td>0.977553</td>\n",
       "      <td>0.967452</td>\n",
       "      <td>0.979798</td>\n",
       "      <td>0.973526</td>\n",
       "      <td>0.004627</td>\n",
       "      <td>2</td>\n",
       "    </tr>\n",
       "  </tbody>\n",
       "</table>\n",
       "</div>"
      ],
      "text/plain": [
       "   mean_fit_time  std_fit_time  mean_score_time  std_score_time  \\\n",
       "0       1.445010      0.040392         0.012504        0.006252   \n",
       "1       1.763514      0.087356         0.018794        0.006269   \n",
       "2       2.097077      0.066888         0.019756        0.004959   \n",
       "3       2.409785      0.078158         0.031411        0.000199   \n",
       "4       2.843796      0.085569         0.031207        0.000816   \n",
       "\n",
       "  param_n_estimators                params  split0_test_score  \\\n",
       "0                 20  {'n_estimators': 20}           0.966368   \n",
       "1                 25  {'n_estimators': 25}           0.967489   \n",
       "2                 30  {'n_estimators': 30}           0.971973   \n",
       "3                 35  {'n_estimators': 35}           0.974215   \n",
       "4                 40  {'n_estimators': 40}           0.973094   \n",
       "\n",
       "   split1_test_score  split2_test_score  split3_test_score  split4_test_score  \\\n",
       "0           0.973094           0.977553           0.966330           0.970819   \n",
       "1           0.969731           0.980920           0.971942           0.970819   \n",
       "2           0.973094           0.978676           0.968575           0.975309   \n",
       "3           0.975336           0.975309           0.973064           0.974186   \n",
       "4           0.969731           0.977553           0.967452           0.979798   \n",
       "\n",
       "   mean_test_score  std_test_score  rank_test_score  \n",
       "0         0.970833        0.004254                5  \n",
       "1         0.972180        0.004611                4  \n",
       "2         0.973525        0.003371                3  \n",
       "3         0.974422        0.000844                1  \n",
       "4         0.973526        0.004627                2  "
      ]
     },
     "execution_count": 277,
     "metadata": {},
     "output_type": "execute_result"
    }
   ],
   "source": [
    "df = pd.DataFrame(clf.cv_results_)\n",
    "df"
   ]
  },
  {
   "cell_type": "code",
   "execution_count": 278,
   "id": "e2584a7d",
   "metadata": {},
   "outputs": [
    {
     "data": {
      "text/html": [
       "<div>\n",
       "<style scoped>\n",
       "    .dataframe tbody tr th:only-of-type {\n",
       "        vertical-align: middle;\n",
       "    }\n",
       "\n",
       "    .dataframe tbody tr th {\n",
       "        vertical-align: top;\n",
       "    }\n",
       "\n",
       "    .dataframe thead th {\n",
       "        text-align: right;\n",
       "    }\n",
       "</style>\n",
       "<table border=\"1\" class=\"dataframe\">\n",
       "  <thead>\n",
       "    <tr style=\"text-align: right;\">\n",
       "      <th></th>\n",
       "      <th>param_n_estimators</th>\n",
       "      <th>mean_test_score</th>\n",
       "    </tr>\n",
       "  </thead>\n",
       "  <tbody>\n",
       "    <tr>\n",
       "      <th>0</th>\n",
       "      <td>20</td>\n",
       "      <td>0.970833</td>\n",
       "    </tr>\n",
       "    <tr>\n",
       "      <th>1</th>\n",
       "      <td>25</td>\n",
       "      <td>0.972180</td>\n",
       "    </tr>\n",
       "    <tr>\n",
       "      <th>2</th>\n",
       "      <td>30</td>\n",
       "      <td>0.973525</td>\n",
       "    </tr>\n",
       "    <tr>\n",
       "      <th>3</th>\n",
       "      <td>35</td>\n",
       "      <td>0.974422</td>\n",
       "    </tr>\n",
       "    <tr>\n",
       "      <th>4</th>\n",
       "      <td>40</td>\n",
       "      <td>0.973526</td>\n",
       "    </tr>\n",
       "  </tbody>\n",
       "</table>\n",
       "</div>"
      ],
      "text/plain": [
       "  param_n_estimators  mean_test_score\n",
       "0                 20         0.970833\n",
       "1                 25         0.972180\n",
       "2                 30         0.973525\n",
       "3                 35         0.974422\n",
       "4                 40         0.973526"
      ]
     },
     "execution_count": 278,
     "metadata": {},
     "output_type": "execute_result"
    }
   ],
   "source": [
    "df[['param_n_estimators','mean_test_score']]"
   ]
  },
  {
   "cell_type": "code",
   "execution_count": 279,
   "id": "4bd80c6b",
   "metadata": {},
   "outputs": [
    {
     "data": {
      "text/plain": [
       "{'n_estimators': 35}"
      ]
     },
     "execution_count": 279,
     "metadata": {},
     "output_type": "execute_result"
    }
   ],
   "source": [
    "clf.best_params_"
   ]
  },
  {
   "cell_type": "code",
   "execution_count": 280,
   "id": "c75b3722",
   "metadata": {},
   "outputs": [
    {
     "data": {
      "text/plain": [
       "RandomForestClassifier(n_estimators=35, random_state=42)"
      ]
     },
     "execution_count": 280,
     "metadata": {},
     "output_type": "execute_result"
    }
   ],
   "source": [
    "# Create a Random Forest classifier\n",
    "rf_classifier = RandomForestClassifier(n_estimators=clf.best_params_['n_estimators'], random_state=42)  # You can adjust the number of trees (n_estimators)\n",
    "\n",
    "# Train the Random Forest classifier\n",
    "rf_classifier.fit(X_train_vec, y_train)"
   ]
  },
  {
   "cell_type": "code",
   "execution_count": 281,
   "id": "f7e71579",
   "metadata": {},
   "outputs": [
    {
     "data": {
      "text/plain": [
       "{'mean_fit_time': array([1.47707105, 1.83622332, 2.23968639, 2.6281177 , 2.98174715]),\n",
       " 'std_fit_time': array([0.17493502, 0.16437196, 0.23725768, 0.26007709, 0.23129753]),\n",
       " 'mean_score_time': array([0.02291641, 0.02818637, 0.02874546, 0.03970127, 0.04736691]),\n",
       " 'std_score_time': array([0.00711698, 0.00620666, 0.00530564, 0.00697644, 0.00032094]),\n",
       " 'param_n_estimators': masked_array(data=[20, 25, 30, 35, 40],\n",
       "              mask=[False, False, False, False, False],\n",
       "        fill_value='?',\n",
       "             dtype=object),\n",
       " 'params': [{'n_estimators': 20},\n",
       "  {'n_estimators': 25},\n",
       "  {'n_estimators': 30},\n",
       "  {'n_estimators': 35},\n",
       "  {'n_estimators': 40}],\n",
       " 'split0_test_score': array([0.96243523, 0.95984456, 0.95466321, 0.96373057, 0.96049223]),\n",
       " 'split1_test_score': array([1.        , 0.99870466, 0.99935233, 0.99935233, 0.99935233]),\n",
       " 'split2_test_score': array([1., 1., 1., 1., 1.]),\n",
       " 'split3_test_score': array([0.99740933, 0.99870466, 0.99740933, 0.99805699, 0.99805699]),\n",
       " 'split4_test_score': array([1.        , 0.99870466, 1.        , 1.        , 0.99935233]),\n",
       " 'mean_test_score': array([0.99196891, 0.99119171, 0.99028497, 0.99222798, 0.99145078]),\n",
       " 'std_test_score': array([0.01480089, 0.0156816 , 0.01783618, 0.01426636, 0.01549214]),\n",
       " 'rank_test_score': array([2, 4, 5, 1, 3])}"
      ]
     },
     "execution_count": 281,
     "metadata": {},
     "output_type": "execute_result"
    }
   ],
   "source": [
    "#Random Forest with SMOTE\n",
    "clf_sm = GridSearchCV(RandomForestClassifier(), {\n",
    "    'n_estimators': [20,25,30,35,40]\n",
    "    }, cv=5, return_train_score=False)\n",
    "clf_sm.fit(X_train_sm, y_train_sm)\n",
    "clf_sm.cv_results_"
   ]
  },
  {
   "cell_type": "code",
   "execution_count": 282,
   "id": "b94a1a6a",
   "metadata": {},
   "outputs": [
    {
     "data": {
      "text/html": [
       "<div>\n",
       "<style scoped>\n",
       "    .dataframe tbody tr th:only-of-type {\n",
       "        vertical-align: middle;\n",
       "    }\n",
       "\n",
       "    .dataframe tbody tr th {\n",
       "        vertical-align: top;\n",
       "    }\n",
       "\n",
       "    .dataframe thead th {\n",
       "        text-align: right;\n",
       "    }\n",
       "</style>\n",
       "<table border=\"1\" class=\"dataframe\">\n",
       "  <thead>\n",
       "    <tr style=\"text-align: right;\">\n",
       "      <th></th>\n",
       "      <th>mean_fit_time</th>\n",
       "      <th>std_fit_time</th>\n",
       "      <th>mean_score_time</th>\n",
       "      <th>std_score_time</th>\n",
       "      <th>param_n_estimators</th>\n",
       "      <th>params</th>\n",
       "      <th>split0_test_score</th>\n",
       "      <th>split1_test_score</th>\n",
       "      <th>split2_test_score</th>\n",
       "      <th>split3_test_score</th>\n",
       "      <th>split4_test_score</th>\n",
       "      <th>mean_test_score</th>\n",
       "      <th>std_test_score</th>\n",
       "      <th>rank_test_score</th>\n",
       "    </tr>\n",
       "  </thead>\n",
       "  <tbody>\n",
       "    <tr>\n",
       "      <th>0</th>\n",
       "      <td>1.445010</td>\n",
       "      <td>0.040392</td>\n",
       "      <td>0.012504</td>\n",
       "      <td>0.006252</td>\n",
       "      <td>20</td>\n",
       "      <td>{'n_estimators': 20}</td>\n",
       "      <td>0.966368</td>\n",
       "      <td>0.973094</td>\n",
       "      <td>0.977553</td>\n",
       "      <td>0.966330</td>\n",
       "      <td>0.970819</td>\n",
       "      <td>0.970833</td>\n",
       "      <td>0.004254</td>\n",
       "      <td>5</td>\n",
       "    </tr>\n",
       "    <tr>\n",
       "      <th>1</th>\n",
       "      <td>1.763514</td>\n",
       "      <td>0.087356</td>\n",
       "      <td>0.018794</td>\n",
       "      <td>0.006269</td>\n",
       "      <td>25</td>\n",
       "      <td>{'n_estimators': 25}</td>\n",
       "      <td>0.967489</td>\n",
       "      <td>0.969731</td>\n",
       "      <td>0.980920</td>\n",
       "      <td>0.971942</td>\n",
       "      <td>0.970819</td>\n",
       "      <td>0.972180</td>\n",
       "      <td>0.004611</td>\n",
       "      <td>4</td>\n",
       "    </tr>\n",
       "    <tr>\n",
       "      <th>2</th>\n",
       "      <td>2.097077</td>\n",
       "      <td>0.066888</td>\n",
       "      <td>0.019756</td>\n",
       "      <td>0.004959</td>\n",
       "      <td>30</td>\n",
       "      <td>{'n_estimators': 30}</td>\n",
       "      <td>0.971973</td>\n",
       "      <td>0.973094</td>\n",
       "      <td>0.978676</td>\n",
       "      <td>0.968575</td>\n",
       "      <td>0.975309</td>\n",
       "      <td>0.973525</td>\n",
       "      <td>0.003371</td>\n",
       "      <td>3</td>\n",
       "    </tr>\n",
       "    <tr>\n",
       "      <th>3</th>\n",
       "      <td>2.409785</td>\n",
       "      <td>0.078158</td>\n",
       "      <td>0.031411</td>\n",
       "      <td>0.000199</td>\n",
       "      <td>35</td>\n",
       "      <td>{'n_estimators': 35}</td>\n",
       "      <td>0.974215</td>\n",
       "      <td>0.975336</td>\n",
       "      <td>0.975309</td>\n",
       "      <td>0.973064</td>\n",
       "      <td>0.974186</td>\n",
       "      <td>0.974422</td>\n",
       "      <td>0.000844</td>\n",
       "      <td>1</td>\n",
       "    </tr>\n",
       "    <tr>\n",
       "      <th>4</th>\n",
       "      <td>2.843796</td>\n",
       "      <td>0.085569</td>\n",
       "      <td>0.031207</td>\n",
       "      <td>0.000816</td>\n",
       "      <td>40</td>\n",
       "      <td>{'n_estimators': 40}</td>\n",
       "      <td>0.973094</td>\n",
       "      <td>0.969731</td>\n",
       "      <td>0.977553</td>\n",
       "      <td>0.967452</td>\n",
       "      <td>0.979798</td>\n",
       "      <td>0.973526</td>\n",
       "      <td>0.004627</td>\n",
       "      <td>2</td>\n",
       "    </tr>\n",
       "  </tbody>\n",
       "</table>\n",
       "</div>"
      ],
      "text/plain": [
       "   mean_fit_time  std_fit_time  mean_score_time  std_score_time  \\\n",
       "0       1.445010      0.040392         0.012504        0.006252   \n",
       "1       1.763514      0.087356         0.018794        0.006269   \n",
       "2       2.097077      0.066888         0.019756        0.004959   \n",
       "3       2.409785      0.078158         0.031411        0.000199   \n",
       "4       2.843796      0.085569         0.031207        0.000816   \n",
       "\n",
       "  param_n_estimators                params  split0_test_score  \\\n",
       "0                 20  {'n_estimators': 20}           0.966368   \n",
       "1                 25  {'n_estimators': 25}           0.967489   \n",
       "2                 30  {'n_estimators': 30}           0.971973   \n",
       "3                 35  {'n_estimators': 35}           0.974215   \n",
       "4                 40  {'n_estimators': 40}           0.973094   \n",
       "\n",
       "   split1_test_score  split2_test_score  split3_test_score  split4_test_score  \\\n",
       "0           0.973094           0.977553           0.966330           0.970819   \n",
       "1           0.969731           0.980920           0.971942           0.970819   \n",
       "2           0.973094           0.978676           0.968575           0.975309   \n",
       "3           0.975336           0.975309           0.973064           0.974186   \n",
       "4           0.969731           0.977553           0.967452           0.979798   \n",
       "\n",
       "   mean_test_score  std_test_score  rank_test_score  \n",
       "0         0.970833        0.004254                5  \n",
       "1         0.972180        0.004611                4  \n",
       "2         0.973525        0.003371                3  \n",
       "3         0.974422        0.000844                1  \n",
       "4         0.973526        0.004627                2  "
      ]
     },
     "execution_count": 282,
     "metadata": {},
     "output_type": "execute_result"
    }
   ],
   "source": [
    "df = pd.DataFrame(clf.cv_results_)\n",
    "df"
   ]
  },
  {
   "cell_type": "code",
   "execution_count": 283,
   "id": "1ae47f3c",
   "metadata": {},
   "outputs": [
    {
     "data": {
      "text/html": [
       "<div>\n",
       "<style scoped>\n",
       "    .dataframe tbody tr th:only-of-type {\n",
       "        vertical-align: middle;\n",
       "    }\n",
       "\n",
       "    .dataframe tbody tr th {\n",
       "        vertical-align: top;\n",
       "    }\n",
       "\n",
       "    .dataframe thead th {\n",
       "        text-align: right;\n",
       "    }\n",
       "</style>\n",
       "<table border=\"1\" class=\"dataframe\">\n",
       "  <thead>\n",
       "    <tr style=\"text-align: right;\">\n",
       "      <th></th>\n",
       "      <th>param_n_estimators</th>\n",
       "      <th>mean_test_score</th>\n",
       "    </tr>\n",
       "  </thead>\n",
       "  <tbody>\n",
       "    <tr>\n",
       "      <th>0</th>\n",
       "      <td>20</td>\n",
       "      <td>0.970833</td>\n",
       "    </tr>\n",
       "    <tr>\n",
       "      <th>1</th>\n",
       "      <td>25</td>\n",
       "      <td>0.972180</td>\n",
       "    </tr>\n",
       "    <tr>\n",
       "      <th>2</th>\n",
       "      <td>30</td>\n",
       "      <td>0.973525</td>\n",
       "    </tr>\n",
       "    <tr>\n",
       "      <th>3</th>\n",
       "      <td>35</td>\n",
       "      <td>0.974422</td>\n",
       "    </tr>\n",
       "    <tr>\n",
       "      <th>4</th>\n",
       "      <td>40</td>\n",
       "      <td>0.973526</td>\n",
       "    </tr>\n",
       "  </tbody>\n",
       "</table>\n",
       "</div>"
      ],
      "text/plain": [
       "  param_n_estimators  mean_test_score\n",
       "0                 20         0.970833\n",
       "1                 25         0.972180\n",
       "2                 30         0.973525\n",
       "3                 35         0.974422\n",
       "4                 40         0.973526"
      ]
     },
     "execution_count": 283,
     "metadata": {},
     "output_type": "execute_result"
    }
   ],
   "source": [
    "df[['param_n_estimators','mean_test_score']]"
   ]
  },
  {
   "cell_type": "code",
   "execution_count": 284,
   "id": "cd189201",
   "metadata": {},
   "outputs": [
    {
     "data": {
      "text/plain": [
       "{'n_estimators': 35}"
      ]
     },
     "execution_count": 284,
     "metadata": {},
     "output_type": "execute_result"
    }
   ],
   "source": [
    "clf.best_params_"
   ]
  },
  {
   "cell_type": "code",
   "execution_count": 285,
   "id": "5329a2a9",
   "metadata": {},
   "outputs": [
    {
     "data": {
      "text/plain": [
       "RandomForestClassifier(n_estimators=35, random_state=42)"
      ]
     },
     "execution_count": 285,
     "metadata": {},
     "output_type": "execute_result"
    }
   ],
   "source": [
    "# Create a Random Forest classifier\n",
    "rf_classifier_sm = RandomForestClassifier(n_estimators=clf_sm.best_params_['n_estimators'], random_state=42)  # You can adjust the number of trees (n_estimators)\n",
    "\n",
    "# Train the Random Forest classifier\n",
    "rf_classifier_sm.fit(X_train_sm, y_train_sm)"
   ]
  },
  {
   "cell_type": "code",
   "execution_count": 286,
   "id": "6825e328",
   "metadata": {},
   "outputs": [
    {
     "data": {
      "text/plain": [
       "RandomForestClassifier(max_features=None, n_estimators=35, random_state=42)"
      ]
     },
     "execution_count": 286,
     "metadata": {},
     "output_type": "execute_result"
    }
   ],
   "source": [
    "#Bagging without SMOTE\n",
    "rf_classifier_bag = RandomForestClassifier(n_estimators=clf.best_params_['n_estimators'], random_state=42,max_features=None)  # You can adjust the number of trees (n_estimators)\n",
    "rf_classifier_bag.fit(X_train_vec, y_train)"
   ]
  },
  {
   "cell_type": "code",
   "execution_count": 287,
   "id": "d0735271",
   "metadata": {},
   "outputs": [
    {
     "data": {
      "text/plain": [
       "RandomForestClassifier(max_features=None, n_estimators=35, random_state=42)"
      ]
     },
     "execution_count": 287,
     "metadata": {},
     "output_type": "execute_result"
    }
   ],
   "source": [
    "#Bagging with SMOTE\n",
    "rf_classifier_bag_sm = RandomForestClassifier(n_estimators=clf_sm.best_params_['n_estimators'], random_state=42,max_features=None)  # You can adjust the number of trees (n_estimators)\n",
    "rf_classifier_bag_sm.fit(X_train_sm, y_train_sm)"
   ]
  },
  {
   "cell_type": "code",
   "execution_count": 288,
   "id": "46c18050",
   "metadata": {},
   "outputs": [
    {
     "data": {
      "text/html": [
       "<div>\n",
       "<style scoped>\n",
       "    .dataframe tbody tr th:only-of-type {\n",
       "        vertical-align: middle;\n",
       "    }\n",
       "\n",
       "    .dataframe tbody tr th {\n",
       "        vertical-align: top;\n",
       "    }\n",
       "\n",
       "    .dataframe thead th {\n",
       "        text-align: right;\n",
       "    }\n",
       "</style>\n",
       "<table border=\"1\" class=\"dataframe\">\n",
       "  <thead>\n",
       "    <tr style=\"text-align: right;\">\n",
       "      <th></th>\n",
       "      <th>accuracy</th>\n",
       "      <th>precision</th>\n",
       "      <th>recall</th>\n",
       "      <th>f1-score</th>\n",
       "    </tr>\n",
       "  </thead>\n",
       "  <tbody>\n",
       "    <tr>\n",
       "      <th>Naive Bayes classifier</th>\n",
       "      <td>0.982960</td>\n",
       "      <td>0.901840</td>\n",
       "      <td>0.980000</td>\n",
       "      <td>0.939297</td>\n",
       "    </tr>\n",
       "    <tr>\n",
       "      <th>Logistic Regression</th>\n",
       "      <td>0.975785</td>\n",
       "      <td>0.891720</td>\n",
       "      <td>0.933333</td>\n",
       "      <td>0.912052</td>\n",
       "    </tr>\n",
       "    <tr>\n",
       "      <th>Random Forest</th>\n",
       "      <td>0.982960</td>\n",
       "      <td>0.992481</td>\n",
       "      <td>0.880000</td>\n",
       "      <td>0.932862</td>\n",
       "    </tr>\n",
       "    <tr>\n",
       "      <th>Bagging</th>\n",
       "      <td>0.971300</td>\n",
       "      <td>0.893333</td>\n",
       "      <td>0.893333</td>\n",
       "      <td>0.893333</td>\n",
       "    </tr>\n",
       "  </tbody>\n",
       "</table>\n",
       "</div>"
      ],
      "text/plain": [
       "                        accuracy  precision    recall  f1-score\n",
       "Naive Bayes classifier  0.982960   0.901840  0.980000  0.939297\n",
       "Logistic Regression     0.975785   0.891720  0.933333  0.912052\n",
       "Random Forest           0.982960   0.992481  0.880000  0.932862\n",
       "Bagging                 0.971300   0.893333  0.893333  0.893333"
      ]
     },
     "execution_count": 288,
     "metadata": {},
     "output_type": "execute_result"
    }
   ],
   "source": [
    "#Model Performance with SMOTE\n",
    "#Test Data Performance\n",
    "baseline_model_results = evaluate_model(baseline_model_1_sm, X_test_vec, y_test)\n",
    "baseline_model2_results= evaluate_model(baseline_model_2_sm, X_test_vec, y_test)\n",
    "baseline_model3_results= evaluate_model(rf_classifier_sm, X_test_vec, y_test)\n",
    "bagging_results= evaluate_model(rf_classifier_bag_sm, X_test_vec, y_test)\n",
    "\n",
    "total_results = pd.DataFrame({'Naive Bayes classifier':baseline_model_results,\n",
    "                              'Logistic Regression ':baseline_model2_results,\n",
    "                             'Random Forest':baseline_model3_results,\n",
    "                             'Bagging': bagging_results}).transpose()\n",
    " \n",
    "total_results"
   ]
  },
  {
   "cell_type": "code",
   "execution_count": 289,
   "id": "55e585d3",
   "metadata": {},
   "outputs": [
    {
     "data": {
      "text/html": [
       "<div>\n",
       "<style scoped>\n",
       "    .dataframe tbody tr th:only-of-type {\n",
       "        vertical-align: middle;\n",
       "    }\n",
       "\n",
       "    .dataframe tbody tr th {\n",
       "        vertical-align: top;\n",
       "    }\n",
       "\n",
       "    .dataframe thead th {\n",
       "        text-align: right;\n",
       "    }\n",
       "</style>\n",
       "<table border=\"1\" class=\"dataframe\">\n",
       "  <thead>\n",
       "    <tr style=\"text-align: right;\">\n",
       "      <th></th>\n",
       "      <th>accuracy</th>\n",
       "      <th>precision</th>\n",
       "      <th>recall</th>\n",
       "      <th>f1-score</th>\n",
       "    </tr>\n",
       "  </thead>\n",
       "  <tbody>\n",
       "    <tr>\n",
       "      <th>Naive Bayes classifier</th>\n",
       "      <td>0.982960</td>\n",
       "      <td>0.901840</td>\n",
       "      <td>0.980000</td>\n",
       "      <td>0.939297</td>\n",
       "    </tr>\n",
       "    <tr>\n",
       "      <th>Random Forest</th>\n",
       "      <td>0.982960</td>\n",
       "      <td>0.992481</td>\n",
       "      <td>0.880000</td>\n",
       "      <td>0.932862</td>\n",
       "    </tr>\n",
       "    <tr>\n",
       "      <th>Logistic Regression</th>\n",
       "      <td>0.975785</td>\n",
       "      <td>0.891720</td>\n",
       "      <td>0.933333</td>\n",
       "      <td>0.912052</td>\n",
       "    </tr>\n",
       "    <tr>\n",
       "      <th>Bagging</th>\n",
       "      <td>0.971300</td>\n",
       "      <td>0.893333</td>\n",
       "      <td>0.893333</td>\n",
       "      <td>0.893333</td>\n",
       "    </tr>\n",
       "  </tbody>\n",
       "</table>\n",
       "</div>"
      ],
      "text/plain": [
       "                        accuracy  precision    recall  f1-score\n",
       "Naive Bayes classifier  0.982960   0.901840  0.980000  0.939297\n",
       "Random Forest           0.982960   0.992481  0.880000  0.932862\n",
       "Logistic Regression     0.975785   0.891720  0.933333  0.912052\n",
       "Bagging                 0.971300   0.893333  0.893333  0.893333"
      ]
     },
     "execution_count": 289,
     "metadata": {},
     "output_type": "execute_result"
    }
   ],
   "source": [
    "total_results.sort_values('f1-score', ascending=False)"
   ]
  },
  {
   "cell_type": "code",
   "execution_count": 290,
   "id": "822fef54",
   "metadata": {},
   "outputs": [
    {
     "data": {
      "text/html": [
       "<div>\n",
       "<style scoped>\n",
       "    .dataframe tbody tr th:only-of-type {\n",
       "        vertical-align: middle;\n",
       "    }\n",
       "\n",
       "    .dataframe tbody tr th {\n",
       "        vertical-align: top;\n",
       "    }\n",
       "\n",
       "    .dataframe thead th {\n",
       "        text-align: right;\n",
       "    }\n",
       "</style>\n",
       "<table border=\"1\" class=\"dataframe\">\n",
       "  <thead>\n",
       "    <tr style=\"text-align: right;\">\n",
       "      <th></th>\n",
       "      <th>accuracy</th>\n",
       "      <th>precision</th>\n",
       "      <th>recall</th>\n",
       "      <th>f1-score</th>\n",
       "    </tr>\n",
       "  </thead>\n",
       "  <tbody>\n",
       "    <tr>\n",
       "      <th>Naive Bayes classifier</th>\n",
       "      <td>0.992487</td>\n",
       "      <td>0.992487</td>\n",
       "      <td>0.992487</td>\n",
       "      <td>0.992487</td>\n",
       "    </tr>\n",
       "    <tr>\n",
       "      <th>Logistic Regression</th>\n",
       "      <td>0.992746</td>\n",
       "      <td>0.995055</td>\n",
       "      <td>0.990415</td>\n",
       "      <td>0.992729</td>\n",
       "    </tr>\n",
       "    <tr>\n",
       "      <th>Random Forest</th>\n",
       "      <td>1.000000</td>\n",
       "      <td>1.000000</td>\n",
       "      <td>1.000000</td>\n",
       "      <td>1.000000</td>\n",
       "    </tr>\n",
       "    <tr>\n",
       "      <th>Bagging</th>\n",
       "      <td>0.999611</td>\n",
       "      <td>0.999482</td>\n",
       "      <td>0.999741</td>\n",
       "      <td>0.999611</td>\n",
       "    </tr>\n",
       "  </tbody>\n",
       "</table>\n",
       "</div>"
      ],
      "text/plain": [
       "                        accuracy  precision    recall  f1-score\n",
       "Naive Bayes classifier  0.992487   0.992487  0.992487  0.992487\n",
       "Logistic Regression     0.992746   0.995055  0.990415  0.992729\n",
       "Random Forest           1.000000   1.000000  1.000000  1.000000\n",
       "Bagging                 0.999611   0.999482  0.999741  0.999611"
      ]
     },
     "execution_count": 290,
     "metadata": {},
     "output_type": "execute_result"
    }
   ],
   "source": [
    "#Train Data Performance\n",
    "baseline_model_results = evaluate_model(baseline_model_1_sm, X_train_sm, y_train_sm)\n",
    "baseline_model2_results= evaluate_model(baseline_model_2_sm, X_train_sm, y_train_sm)\n",
    "baseline_model3_results= evaluate_model(rf_classifier_sm, X_train_sm, y_train_sm)\n",
    "bagging_results= evaluate_model(rf_classifier_bag_sm, X_train_sm, y_train_sm)\n",
    "\n",
    "total_results = pd.DataFrame({'Naive Bayes classifier':baseline_model_results,\n",
    "                              'Logistic Regression ':baseline_model2_results,\n",
    "                             'Random Forest':baseline_model3_results,\n",
    "                             'Bagging': bagging_results}).transpose()\n",
    " \n",
    "total_results"
   ]
  },
  {
   "cell_type": "code",
   "execution_count": 291,
   "id": "06bdbc40",
   "metadata": {},
   "outputs": [
    {
     "data": {
      "text/html": [
       "<div>\n",
       "<style scoped>\n",
       "    .dataframe tbody tr th:only-of-type {\n",
       "        vertical-align: middle;\n",
       "    }\n",
       "\n",
       "    .dataframe tbody tr th {\n",
       "        vertical-align: top;\n",
       "    }\n",
       "\n",
       "    .dataframe thead th {\n",
       "        text-align: right;\n",
       "    }\n",
       "</style>\n",
       "<table border=\"1\" class=\"dataframe\">\n",
       "  <thead>\n",
       "    <tr style=\"text-align: right;\">\n",
       "      <th></th>\n",
       "      <th>accuracy</th>\n",
       "      <th>precision</th>\n",
       "      <th>recall</th>\n",
       "      <th>f1-score</th>\n",
       "    </tr>\n",
       "  </thead>\n",
       "  <tbody>\n",
       "    <tr>\n",
       "      <th>Random Forest</th>\n",
       "      <td>1.000000</td>\n",
       "      <td>1.000000</td>\n",
       "      <td>1.000000</td>\n",
       "      <td>1.000000</td>\n",
       "    </tr>\n",
       "    <tr>\n",
       "      <th>Bagging</th>\n",
       "      <td>0.999611</td>\n",
       "      <td>0.999482</td>\n",
       "      <td>0.999741</td>\n",
       "      <td>0.999611</td>\n",
       "    </tr>\n",
       "    <tr>\n",
       "      <th>Logistic Regression</th>\n",
       "      <td>0.992746</td>\n",
       "      <td>0.995055</td>\n",
       "      <td>0.990415</td>\n",
       "      <td>0.992729</td>\n",
       "    </tr>\n",
       "    <tr>\n",
       "      <th>Naive Bayes classifier</th>\n",
       "      <td>0.992487</td>\n",
       "      <td>0.992487</td>\n",
       "      <td>0.992487</td>\n",
       "      <td>0.992487</td>\n",
       "    </tr>\n",
       "  </tbody>\n",
       "</table>\n",
       "</div>"
      ],
      "text/plain": [
       "                        accuracy  precision    recall  f1-score\n",
       "Random Forest           1.000000   1.000000  1.000000  1.000000\n",
       "Bagging                 0.999611   0.999482  0.999741  0.999611\n",
       "Logistic Regression     0.992746   0.995055  0.990415  0.992729\n",
       "Naive Bayes classifier  0.992487   0.992487  0.992487  0.992487"
      ]
     },
     "execution_count": 291,
     "metadata": {},
     "output_type": "execute_result"
    }
   ],
   "source": [
    "total_results.sort_values('f1-score', ascending=False)"
   ]
  },
  {
   "cell_type": "code",
   "execution_count": 292,
   "id": "26a9841d",
   "metadata": {},
   "outputs": [
    {
     "data": {
      "text/html": [
       "<div>\n",
       "<style scoped>\n",
       "    .dataframe tbody tr th:only-of-type {\n",
       "        vertical-align: middle;\n",
       "    }\n",
       "\n",
       "    .dataframe tbody tr th {\n",
       "        vertical-align: top;\n",
       "    }\n",
       "\n",
       "    .dataframe thead th {\n",
       "        text-align: right;\n",
       "    }\n",
       "</style>\n",
       "<table border=\"1\" class=\"dataframe\">\n",
       "  <thead>\n",
       "    <tr style=\"text-align: right;\">\n",
       "      <th></th>\n",
       "      <th>accuracy</th>\n",
       "      <th>precision</th>\n",
       "      <th>recall</th>\n",
       "      <th>f1-score</th>\n",
       "    </tr>\n",
       "  </thead>\n",
       "  <tbody>\n",
       "    <tr>\n",
       "      <th>Naive Bayes classifier</th>\n",
       "      <td>0.965919</td>\n",
       "      <td>1.00000</td>\n",
       "      <td>0.746667</td>\n",
       "      <td>0.854962</td>\n",
       "    </tr>\n",
       "    <tr>\n",
       "      <th>Logistic Regression</th>\n",
       "      <td>0.972197</td>\n",
       "      <td>0.97600</td>\n",
       "      <td>0.813333</td>\n",
       "      <td>0.887273</td>\n",
       "    </tr>\n",
       "    <tr>\n",
       "      <th>Random Forest</th>\n",
       "      <td>0.982063</td>\n",
       "      <td>1.00000</td>\n",
       "      <td>0.866667</td>\n",
       "      <td>0.928571</td>\n",
       "    </tr>\n",
       "    <tr>\n",
       "      <th>Bagging</th>\n",
       "      <td>0.970404</td>\n",
       "      <td>0.93985</td>\n",
       "      <td>0.833333</td>\n",
       "      <td>0.883392</td>\n",
       "    </tr>\n",
       "  </tbody>\n",
       "</table>\n",
       "</div>"
      ],
      "text/plain": [
       "                        accuracy  precision    recall  f1-score\n",
       "Naive Bayes classifier  0.965919    1.00000  0.746667  0.854962\n",
       "Logistic Regression     0.972197    0.97600  0.813333  0.887273\n",
       "Random Forest           0.982063    1.00000  0.866667  0.928571\n",
       "Bagging                 0.970404    0.93985  0.833333  0.883392"
      ]
     },
     "execution_count": 292,
     "metadata": {},
     "output_type": "execute_result"
    }
   ],
   "source": [
    "#Model Performance without SMOTE\n",
    "#Test Data Performance\n",
    "baseline_model_results = evaluate_model(baseline_model, X_test_vec, y_test)\n",
    "baseline_model2_results= evaluate_model(baseline_model_2, X_test_vec, y_test)\n",
    "baseline_model3_results= evaluate_model(rf_classifier, X_test_vec, y_test)\n",
    "bagging_results= evaluate_model(rf_classifier_bag, X_test_vec, y_test)\n",
    "\n",
    "total_results = pd.DataFrame({'Naive Bayes classifier':baseline_model_results,\n",
    "                              'Logistic Regression ':baseline_model2_results,\n",
    "                             'Random Forest':baseline_model3_results,\n",
    "                             'Bagging':bagging_results}).transpose()\n",
    " \n",
    "total_results"
   ]
  },
  {
   "cell_type": "code",
   "execution_count": 293,
   "id": "c8d38383",
   "metadata": {},
   "outputs": [
    {
     "data": {
      "text/html": [
       "<div>\n",
       "<style scoped>\n",
       "    .dataframe tbody tr th:only-of-type {\n",
       "        vertical-align: middle;\n",
       "    }\n",
       "\n",
       "    .dataframe tbody tr th {\n",
       "        vertical-align: top;\n",
       "    }\n",
       "\n",
       "    .dataframe thead th {\n",
       "        text-align: right;\n",
       "    }\n",
       "</style>\n",
       "<table border=\"1\" class=\"dataframe\">\n",
       "  <thead>\n",
       "    <tr style=\"text-align: right;\">\n",
       "      <th></th>\n",
       "      <th>accuracy</th>\n",
       "      <th>precision</th>\n",
       "      <th>recall</th>\n",
       "      <th>f1-score</th>\n",
       "    </tr>\n",
       "  </thead>\n",
       "  <tbody>\n",
       "    <tr>\n",
       "      <th>Random Forest</th>\n",
       "      <td>0.982063</td>\n",
       "      <td>1.00000</td>\n",
       "      <td>0.866667</td>\n",
       "      <td>0.928571</td>\n",
       "    </tr>\n",
       "    <tr>\n",
       "      <th>Logistic Regression</th>\n",
       "      <td>0.972197</td>\n",
       "      <td>0.97600</td>\n",
       "      <td>0.813333</td>\n",
       "      <td>0.887273</td>\n",
       "    </tr>\n",
       "    <tr>\n",
       "      <th>Bagging</th>\n",
       "      <td>0.970404</td>\n",
       "      <td>0.93985</td>\n",
       "      <td>0.833333</td>\n",
       "      <td>0.883392</td>\n",
       "    </tr>\n",
       "    <tr>\n",
       "      <th>Naive Bayes classifier</th>\n",
       "      <td>0.965919</td>\n",
       "      <td>1.00000</td>\n",
       "      <td>0.746667</td>\n",
       "      <td>0.854962</td>\n",
       "    </tr>\n",
       "  </tbody>\n",
       "</table>\n",
       "</div>"
      ],
      "text/plain": [
       "                        accuracy  precision    recall  f1-score\n",
       "Random Forest           0.982063    1.00000  0.866667  0.928571\n",
       "Logistic Regression     0.972197    0.97600  0.813333  0.887273\n",
       "Bagging                 0.970404    0.93985  0.833333  0.883392\n",
       "Naive Bayes classifier  0.965919    1.00000  0.746667  0.854962"
      ]
     },
     "execution_count": 293,
     "metadata": {},
     "output_type": "execute_result"
    }
   ],
   "source": [
    "total_results.sort_values('f1-score', ascending=False)"
   ]
  },
  {
   "cell_type": "code",
   "execution_count": 294,
   "id": "df8e158f",
   "metadata": {},
   "outputs": [
    {
     "data": {
      "text/html": [
       "<div>\n",
       "<style scoped>\n",
       "    .dataframe tbody tr th:only-of-type {\n",
       "        vertical-align: middle;\n",
       "    }\n",
       "\n",
       "    .dataframe tbody tr th {\n",
       "        vertical-align: top;\n",
       "    }\n",
       "\n",
       "    .dataframe thead th {\n",
       "        text-align: right;\n",
       "    }\n",
       "</style>\n",
       "<table border=\"1\" class=\"dataframe\">\n",
       "  <thead>\n",
       "    <tr style=\"text-align: right;\">\n",
       "      <th></th>\n",
       "      <th>accuracy</th>\n",
       "      <th>precision</th>\n",
       "      <th>recall</th>\n",
       "      <th>f1-score</th>\n",
       "    </tr>\n",
       "  </thead>\n",
       "  <tbody>\n",
       "    <tr>\n",
       "      <th>Naive Bayes classifier</th>\n",
       "      <td>0.971954</td>\n",
       "      <td>1.000000</td>\n",
       "      <td>0.790620</td>\n",
       "      <td>0.883068</td>\n",
       "    </tr>\n",
       "    <tr>\n",
       "      <th>Logistic Regression</th>\n",
       "      <td>0.975993</td>\n",
       "      <td>0.993952</td>\n",
       "      <td>0.825796</td>\n",
       "      <td>0.902104</td>\n",
       "    </tr>\n",
       "    <tr>\n",
       "      <th>Random Forest</th>\n",
       "      <td>1.000000</td>\n",
       "      <td>1.000000</td>\n",
       "      <td>1.000000</td>\n",
       "      <td>1.000000</td>\n",
       "    </tr>\n",
       "    <tr>\n",
       "      <th>Bagging</th>\n",
       "      <td>0.999776</td>\n",
       "      <td>0.998328</td>\n",
       "      <td>1.000000</td>\n",
       "      <td>0.999163</td>\n",
       "    </tr>\n",
       "  </tbody>\n",
       "</table>\n",
       "</div>"
      ],
      "text/plain": [
       "                        accuracy  precision    recall  f1-score\n",
       "Naive Bayes classifier  0.971954   1.000000  0.790620  0.883068\n",
       "Logistic Regression     0.975993   0.993952  0.825796  0.902104\n",
       "Random Forest           1.000000   1.000000  1.000000  1.000000\n",
       "Bagging                 0.999776   0.998328  1.000000  0.999163"
      ]
     },
     "execution_count": 294,
     "metadata": {},
     "output_type": "execute_result"
    }
   ],
   "source": [
    "#Train Data Performance\n",
    "baseline_model_results = evaluate_model(baseline_model, X_train_vec, y_train)\n",
    "baseline_model2_results= evaluate_model(baseline_model_2, X_train_vec, y_train)\n",
    "baseline_model3_results= evaluate_model(rf_classifier, X_train_vec, y_train)\n",
    "bagging_results= evaluate_model(rf_classifier_bag, X_train_vec, y_train)\n",
    "\n",
    "total_results = pd.DataFrame({'Naive Bayes classifier':baseline_model_results,\n",
    "                              'Logistic Regression ':baseline_model2_results,\n",
    "                             'Random Forest':baseline_model3_results,\n",
    "                             'Bagging':bagging_results}).transpose()\n",
    " \n",
    "total_results"
   ]
  },
  {
   "cell_type": "code",
   "execution_count": 295,
   "id": "d08ea629",
   "metadata": {},
   "outputs": [
    {
     "data": {
      "text/html": [
       "<div>\n",
       "<style scoped>\n",
       "    .dataframe tbody tr th:only-of-type {\n",
       "        vertical-align: middle;\n",
       "    }\n",
       "\n",
       "    .dataframe tbody tr th {\n",
       "        vertical-align: top;\n",
       "    }\n",
       "\n",
       "    .dataframe thead th {\n",
       "        text-align: right;\n",
       "    }\n",
       "</style>\n",
       "<table border=\"1\" class=\"dataframe\">\n",
       "  <thead>\n",
       "    <tr style=\"text-align: right;\">\n",
       "      <th></th>\n",
       "      <th>accuracy</th>\n",
       "      <th>precision</th>\n",
       "      <th>recall</th>\n",
       "      <th>f1-score</th>\n",
       "    </tr>\n",
       "  </thead>\n",
       "  <tbody>\n",
       "    <tr>\n",
       "      <th>Random Forest</th>\n",
       "      <td>1.000000</td>\n",
       "      <td>1.000000</td>\n",
       "      <td>1.000000</td>\n",
       "      <td>1.000000</td>\n",
       "    </tr>\n",
       "    <tr>\n",
       "      <th>Bagging</th>\n",
       "      <td>0.999776</td>\n",
       "      <td>0.998328</td>\n",
       "      <td>1.000000</td>\n",
       "      <td>0.999163</td>\n",
       "    </tr>\n",
       "    <tr>\n",
       "      <th>Logistic Regression</th>\n",
       "      <td>0.975993</td>\n",
       "      <td>0.993952</td>\n",
       "      <td>0.825796</td>\n",
       "      <td>0.902104</td>\n",
       "    </tr>\n",
       "    <tr>\n",
       "      <th>Naive Bayes classifier</th>\n",
       "      <td>0.971954</td>\n",
       "      <td>1.000000</td>\n",
       "      <td>0.790620</td>\n",
       "      <td>0.883068</td>\n",
       "    </tr>\n",
       "  </tbody>\n",
       "</table>\n",
       "</div>"
      ],
      "text/plain": [
       "                        accuracy  precision    recall  f1-score\n",
       "Random Forest           1.000000   1.000000  1.000000  1.000000\n",
       "Bagging                 0.999776   0.998328  1.000000  0.999163\n",
       "Logistic Regression     0.975993   0.993952  0.825796  0.902104\n",
       "Naive Bayes classifier  0.971954   1.000000  0.790620  0.883068"
      ]
     },
     "execution_count": 295,
     "metadata": {},
     "output_type": "execute_result"
    }
   ],
   "source": [
    "total_results.sort_values('f1-score', ascending=False)"
   ]
  }
 ],
 "metadata": {
  "kernelspec": {
   "display_name": "Python 3 (ipykernel)",
   "language": "python",
   "name": "python3"
  },
  "language_info": {
   "codemirror_mode": {
    "name": "ipython",
    "version": 3
   },
   "file_extension": ".py",
   "mimetype": "text/x-python",
   "name": "python",
   "nbconvert_exporter": "python",
   "pygments_lexer": "ipython3",
   "version": "3.9.12"
  }
 },
 "nbformat": 4,
 "nbformat_minor": 5
}
