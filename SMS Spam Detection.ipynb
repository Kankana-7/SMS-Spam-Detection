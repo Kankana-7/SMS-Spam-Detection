{
 "cells": [
  {
   "cell_type": "markdown",
   "id": "0831ed4e",
   "metadata": {},
   "source": [
    "<div style=\"text-align: center;\">\n",
    "    <h2>SMS Spam Detection</h2>\n",
    "</div>"
   ]
  },
  {
   "cell_type": "markdown",
   "id": "07dc6432",
   "metadata": {},
   "source": [
    "In today’s society, practically everyone has a mobile phone, and they all get communications (SMS/ email) on their phone regularly. But the essential point is that majority of the messages received will be spam, with only a few being ham or necessary communications. Scammers create fraudulent text messages to deceive us into giving them our personal information, such as our password, account number, or Social Security number. If they have such information, they may be able to gain access to our email, bank, or other accounts.\n",
    "\n",
    "In this project, I am going to develop various deep learning models using Tensorflow for SMS spam detection and also analyze the performance metrics of different models.\n"
   ]
  },
  {
   "cell_type": "code",
   "execution_count": 18,
   "id": "6b6147ef",
   "metadata": {},
   "outputs": [],
   "source": [
    "#Importing all the necessary libraries required for the analysis \n",
    "import numpy as np\n",
    "import pandas as pd\n",
    "import matplotlib.pyplot as plt\n",
    "import seaborn as sns\n",
    "import tensorflow as tf\n",
    "from tensorflow import keras\n",
    "from tensorflow.keras import layers\n",
    "\n",
    "import warnings\n",
    "warnings.filterwarnings('ignore')"
   ]
  },
  {
   "cell_type": "code",
   "execution_count": 19,
   "id": "a976e810",
   "metadata": {},
   "outputs": [
    {
     "data": {
      "text/html": [
       "<div>\n",
       "<style scoped>\n",
       "    .dataframe tbody tr th:only-of-type {\n",
       "        vertical-align: middle;\n",
       "    }\n",
       "\n",
       "    .dataframe tbody tr th {\n",
       "        vertical-align: top;\n",
       "    }\n",
       "\n",
       "    .dataframe thead th {\n",
       "        text-align: right;\n",
       "    }\n",
       "</style>\n",
       "<table border=\"1\" class=\"dataframe\">\n",
       "  <thead>\n",
       "    <tr style=\"text-align: right;\">\n",
       "      <th></th>\n",
       "      <th>v1</th>\n",
       "      <th>v2</th>\n",
       "      <th>Unnamed: 2</th>\n",
       "      <th>Unnamed: 3</th>\n",
       "      <th>Unnamed: 4</th>\n",
       "    </tr>\n",
       "  </thead>\n",
       "  <tbody>\n",
       "    <tr>\n",
       "      <th>0</th>\n",
       "      <td>ham</td>\n",
       "      <td>Go until jurong point, crazy.. Available only ...</td>\n",
       "      <td>NaN</td>\n",
       "      <td>NaN</td>\n",
       "      <td>NaN</td>\n",
       "    </tr>\n",
       "    <tr>\n",
       "      <th>1</th>\n",
       "      <td>ham</td>\n",
       "      <td>Ok lar... Joking wif u oni...</td>\n",
       "      <td>NaN</td>\n",
       "      <td>NaN</td>\n",
       "      <td>NaN</td>\n",
       "    </tr>\n",
       "    <tr>\n",
       "      <th>2</th>\n",
       "      <td>spam</td>\n",
       "      <td>Free entry in 2 a wkly comp to win FA Cup fina...</td>\n",
       "      <td>NaN</td>\n",
       "      <td>NaN</td>\n",
       "      <td>NaN</td>\n",
       "    </tr>\n",
       "    <tr>\n",
       "      <th>3</th>\n",
       "      <td>ham</td>\n",
       "      <td>U dun say so early hor... U c already then say...</td>\n",
       "      <td>NaN</td>\n",
       "      <td>NaN</td>\n",
       "      <td>NaN</td>\n",
       "    </tr>\n",
       "    <tr>\n",
       "      <th>4</th>\n",
       "      <td>ham</td>\n",
       "      <td>Nah I don't think he goes to usf, he lives aro...</td>\n",
       "      <td>NaN</td>\n",
       "      <td>NaN</td>\n",
       "      <td>NaN</td>\n",
       "    </tr>\n",
       "  </tbody>\n",
       "</table>\n",
       "</div>"
      ],
      "text/plain": [
       "     v1                                                 v2 Unnamed: 2  \\\n",
       "0   ham  Go until jurong point, crazy.. Available only ...        NaN   \n",
       "1   ham                      Ok lar... Joking wif u oni...        NaN   \n",
       "2  spam  Free entry in 2 a wkly comp to win FA Cup fina...        NaN   \n",
       "3   ham  U dun say so early hor... U c already then say...        NaN   \n",
       "4   ham  Nah I don't think he goes to usf, he lives aro...        NaN   \n",
       "\n",
       "  Unnamed: 3 Unnamed: 4  \n",
       "0        NaN        NaN  \n",
       "1        NaN        NaN  \n",
       "2        NaN        NaN  \n",
       "3        NaN        NaN  \n",
       "4        NaN        NaN  "
      ]
     },
     "execution_count": 19,
     "metadata": {},
     "output_type": "execute_result"
    }
   ],
   "source": [
    "#Loading the data\n",
    "spam_df=pd.read_csv(\"C:/Users/Kankana Ghosh/Desktop/Dataset/spam.csv\",encoding=\"Latin1\")\n",
    "spam_df.head()"
   ]
  },
  {
   "cell_type": "code",
   "execution_count": 5,
   "id": "f07c3f7a",
   "metadata": {},
   "outputs": [
    {
     "name": "stdout",
     "output_type": "stream",
     "text": [
      "The dataset contains 5572 rows and 5 columns.\n"
     ]
    }
   ],
   "source": [
    "row,column=spam_df.shape\n",
    "print(f\"The dataset contains {row} rows and {column} columns.\")"
   ]
  },
  {
   "cell_type": "markdown",
   "id": "4af954bc",
   "metadata": {},
   "source": [
    "As we can see that the dataset contains three unnamed columns with null values. So we drop those columns and rename the columns v1 and v2 to label and Text, respectively. Since the target variable (v2) is in string form, we will encode it numerically using pandas function .map()."
   ]
  },
  {
   "cell_type": "code",
   "execution_count": 20,
   "id": "35b43534",
   "metadata": {},
   "outputs": [
    {
     "data": {
      "text/plain": [
       "<bound method DataFrame.info of         v1                                                 v2 Unnamed: 2  \\\n",
       "0      ham  Go until jurong point, crazy.. Available only ...        NaN   \n",
       "1      ham                      Ok lar... Joking wif u oni...        NaN   \n",
       "2     spam  Free entry in 2 a wkly comp to win FA Cup fina...        NaN   \n",
       "3      ham  U dun say so early hor... U c already then say...        NaN   \n",
       "4      ham  Nah I don't think he goes to usf, he lives aro...        NaN   \n",
       "...    ...                                                ...        ...   \n",
       "5567  spam  This is the 2nd time we have tried 2 contact u...        NaN   \n",
       "5568   ham              Will Ì_ b going to esplanade fr home?        NaN   \n",
       "5569   ham  Pity, * was in mood for that. So...any other s...        NaN   \n",
       "5570   ham  The guy did some bitching but I acted like i'd...        NaN   \n",
       "5571   ham                         Rofl. Its true to its name        NaN   \n",
       "\n",
       "     Unnamed: 3 Unnamed: 4  \n",
       "0           NaN        NaN  \n",
       "1           NaN        NaN  \n",
       "2           NaN        NaN  \n",
       "3           NaN        NaN  \n",
       "4           NaN        NaN  \n",
       "...         ...        ...  \n",
       "5567        NaN        NaN  \n",
       "5568        NaN        NaN  \n",
       "5569        NaN        NaN  \n",
       "5570        NaN        NaN  \n",
       "5571        NaN        NaN  \n",
       "\n",
       "[5572 rows x 5 columns]>"
      ]
     },
     "execution_count": 20,
     "metadata": {},
     "output_type": "execute_result"
    }
   ],
   "source": [
    "spam_df.info"
   ]
  },
  {
   "cell_type": "code",
   "execution_count": 21,
   "id": "94252adb",
   "metadata": {},
   "outputs": [
    {
     "data": {
      "text/plain": [
       "v1               0\n",
       "v2               0\n",
       "Unnamed: 2    5522\n",
       "Unnamed: 3    5560\n",
       "Unnamed: 4    5566\n",
       "dtype: int64"
      ]
     },
     "execution_count": 21,
     "metadata": {},
     "output_type": "execute_result"
    }
   ],
   "source": [
    "(spam_df.isnull()).sum()"
   ]
  },
  {
   "cell_type": "code",
   "execution_count": 9,
   "id": "ddbc82a0",
   "metadata": {},
   "outputs": [
    {
     "data": {
      "text/html": [
       "<div>\n",
       "<style scoped>\n",
       "    .dataframe tbody tr th:only-of-type {\n",
       "        vertical-align: middle;\n",
       "    }\n",
       "\n",
       "    .dataframe tbody tr th {\n",
       "        vertical-align: top;\n",
       "    }\n",
       "\n",
       "    .dataframe thead th {\n",
       "        text-align: right;\n",
       "    }\n",
       "</style>\n",
       "<table border=\"1\" class=\"dataframe\">\n",
       "  <thead>\n",
       "    <tr style=\"text-align: right;\">\n",
       "      <th></th>\n",
       "      <th>label</th>\n",
       "      <th>Text</th>\n",
       "      <th>label_enc</th>\n",
       "    </tr>\n",
       "  </thead>\n",
       "  <tbody>\n",
       "    <tr>\n",
       "      <th>0</th>\n",
       "      <td>ham</td>\n",
       "      <td>Go until jurong point, crazy.. Available only ...</td>\n",
       "      <td>0</td>\n",
       "    </tr>\n",
       "    <tr>\n",
       "      <th>1</th>\n",
       "      <td>ham</td>\n",
       "      <td>Ok lar... Joking wif u oni...</td>\n",
       "      <td>0</td>\n",
       "    </tr>\n",
       "    <tr>\n",
       "      <th>2</th>\n",
       "      <td>spam</td>\n",
       "      <td>Free entry in 2 a wkly comp to win FA Cup fina...</td>\n",
       "      <td>1</td>\n",
       "    </tr>\n",
       "    <tr>\n",
       "      <th>3</th>\n",
       "      <td>ham</td>\n",
       "      <td>U dun say so early hor... U c already then say...</td>\n",
       "      <td>0</td>\n",
       "    </tr>\n",
       "    <tr>\n",
       "      <th>4</th>\n",
       "      <td>ham</td>\n",
       "      <td>Nah I don't think he goes to usf, he lives aro...</td>\n",
       "      <td>0</td>\n",
       "    </tr>\n",
       "  </tbody>\n",
       "</table>\n",
       "</div>"
      ],
      "text/plain": [
       "  label                                               Text  label_enc\n",
       "0   ham  Go until jurong point, crazy.. Available only ...          0\n",
       "1   ham                      Ok lar... Joking wif u oni...          0\n",
       "2  spam  Free entry in 2 a wkly comp to win FA Cup fina...          1\n",
       "3   ham  U dun say so early hor... U c already then say...          0\n",
       "4   ham  Nah I don't think he goes to usf, he lives aro...          0"
      ]
     },
     "execution_count": 9,
     "metadata": {},
     "output_type": "execute_result"
    }
   ],
   "source": [
    "spam_df = spam_df.drop(['Unnamed: 2','Unnamed: 3','Unnamed: 4'],axis=1)\n",
    "spam_df = spam_df.rename(columns={'v1':'label','v2':'Text'})\n",
    "spam_df['label_enc'] = spam_df['label'].map({'ham':0,'spam':1})\n",
    "spam_df.head()"
   ]
  },
  {
   "cell_type": "markdown",
   "id": "50250054",
   "metadata": {},
   "source": [
    "Now the SMS Spam Detection Dataset, contains SMS text and corresponding label (Ham '0' or spam '1')"
   ]
  },
  {
   "cell_type": "markdown",
   "id": "a98b1b78",
   "metadata": {},
   "source": [
    "### Data Visualization"
   ]
  },
  {
   "cell_type": "code",
   "execution_count": 4,
   "id": "0d860ce5",
   "metadata": {},
   "outputs": [
    {
     "data": {
      "image/png": "[encoded data removed]",
      "text/plain": [
       "<Figure size 432x288 with 1 Axes>"
      ]
     },
     "metadata": {
      "needs_background": "light"
     },
     "output_type": "display_data"
    }
   ],
   "source": [
    "sns.countplot(x=spam_df['label'])\n",
    "plt.show()"
   ]
  },
  {
   "cell_type": "markdown",
   "id": "e1a3069a",
   "metadata": {},
   "source": [
    "The ham data is comparatively higher than spam data, it’s natural. Since we are going to use embeddings in our deep learning model, we need not balance the data. \n",
    "\n",
    "Now, let’s find the average number of words in all the sentences in SMS data."
   ]
  },
  {
   "cell_type": "code",
   "execution_count": 12,
   "id": "cdfe07ef",
   "metadata": {},
   "outputs": [
    {
     "name": "stdout",
     "output_type": "stream",
     "text": [
      "The average number of words in all the sentences is: 15\n"
     ]
    }
   ],
   "source": [
    "# Find average number of tokens in all sentences\n",
    "avg_words_len=round(sum([len(i.split()) for i in spam_df['Text']])/len(spam_df['Text']))\n",
    "print(\"The average number of words in all the sentences is:\",avg_words_len)"
   ]
  },
  {
   "cell_type": "code",
   "execution_count": 13,
   "id": "23c6364f",
   "metadata": {},
   "outputs": [
    {
     "name": "stdout",
     "output_type": "stream",
     "text": [
      "The total number of unique words is: 15585\n"
     ]
    }
   ],
   "source": [
    "# Finding Total no of unique words in corpus\n",
    "s = set()\n",
    "for sent in spam_df['Text']:\n",
    "    for word in sent.split():\n",
    "        s.add(word)\n",
    "total_words_length=len(s)\n",
    "print(\"The total number of unique words is:\",total_words_length)"
   ]
  },
  {
   "cell_type": "markdown",
   "id": "5b884ea1",
   "metadata": {},
   "source": [
    "Splitting the data into training and testing parts in 80:20 ratio."
   ]
  },
  {
   "cell_type": "code",
   "execution_count": 14,
   "id": "fdc32b4d",
   "metadata": {},
   "outputs": [
    {
     "data": {
      "text/plain": [
       "((4457,), (4457,), (1115,), (1115,))"
      ]
     },
     "execution_count": 14,
     "metadata": {},
     "output_type": "execute_result"
    }
   ],
   "source": [
    "# Splitting data for Training and testing\n",
    "from sklearn.model_selection import train_test_split\n",
    " \n",
    "X, y = np.asanyarray(spam_df['Text']), np.asanyarray(spam_df['label_enc'])\n",
    "new_df = pd.DataFrame({'Text': X, 'label': y})\n",
    "X_train, X_test, y_train, y_test = train_test_split(\n",
    "    new_df['Text'], new_df['label'], test_size=0.2, random_state=42)\n",
    "X_train.shape, y_train.shape, X_test.shape, y_test.shape"
   ]
  },
  {
   "cell_type": "markdown",
   "id": "439671bd",
   "metadata": {},
   "source": [
    "### Model Building "
   ]
  },
  {
   "cell_type": "markdown",
   "id": "619e08a6",
   "metadata": {},
   "source": [
    "First, we build a baseline model and then try to beat the performance of the baseline model using deep learning models (embeddings, LSTM, etc)\n",
    "\n",
    "Here, we choose Multinomial Naive Bayes classifier, which performs well for text classification when the features are discrete like word counts of the words or tf-idf vectors. The tf-idf is a measure that tells how important or relevant a word is the document."
   ]
  },
  {
   "cell_type": "code",
   "execution_count": 15,
   "id": "47c8bdff",
   "metadata": {},
   "outputs": [
    {
     "data": {
      "text/plain": [
       "MultinomialNB()"
      ]
     },
     "execution_count": 15,
     "metadata": {},
     "output_type": "execute_result"
    }
   ],
   "source": [
    "from sklearn.feature_extraction.text import TfidfVectorizer\n",
    "from sklearn.naive_bayes import MultinomialNB\n",
    "from sklearn.metrics import classification_report,accuracy_score\n",
    " \n",
    "tfidf_vec = TfidfVectorizer().fit(X_train)\n",
    "X_train_vec,X_test_vec = tfidf_vec.transform(X_train),tfidf_vec.transform(X_test)\n",
    " \n",
    "baseline_model = MultinomialNB()\n",
    "baseline_model.fit(X_train_vec,y_train)"
   ]
  },
  {
   "cell_type": "code",
   "execution_count": 16,
   "id": "4545c009",
   "metadata": {},
   "outputs": [
    {
     "name": "stdout",
     "output_type": "stream",
     "text": [
      "The accuracy of the model is: 0.962\n",
      "              precision    recall  f1-score   support\n",
      "\n",
      "           0       0.96      1.00      0.98       965\n",
      "           1       1.00      0.72      0.84       150\n",
      "\n",
      "    accuracy                           0.96      1115\n",
      "   macro avg       0.98      0.86      0.91      1115\n",
      "weighted avg       0.96      0.96      0.96      1115\n",
      "\n"
     ]
    }
   ],
   "source": [
    "#Performance of baseline model\n",
    "nb_accuracy=accuracy_score(y_test,baseline_model.predict(X_test_vec))\n",
    "print(\"The accuracy of the model is:\",round(nb_accuracy,3))\n",
    "print(classification_report(y_test,baseline_model.predict(X_test_vec)))"
   ]
  },
  {
   "cell_type": "markdown",
   "id": "43ab92ef",
   "metadata": {},
   "source": [
    "Precision:\n",
    "For class 0 (ham class), the precision is 0.96. This means that out of all the instances the model predicted as ham class, 96% of them were actually spam class, while 4% were misclassified as ham class.\n",
    "For class 1 (spam class), the precision is 1.00. This indicates that all instances predicted as class 1 were actually class 1.\n",
    "\n",
    "Recall:\n",
    "For ham class, the recall is 1.00. This means that the model correctly identified all instances of ham class out of the total instances of ham class.\n",
    "For spam class, the recall is 0.72. This indicates that the model identified 72% of the instances of spam class, while it missed 28% of them.\n",
    "\n",
    "F1-Score:\n",
    "For ham class, the F1-score is 0.98. The F1-score is the harmonic mean of precision and recall, providing a balance between the two. It's a measure of a model's accuracy for ham class.\n",
    "For spam class, the F1-score is 0.84. This indicates the model's accuracy for spam class.\n",
    "\n",
    "Support:\n",
    "For ham class, there are 965 instances in the dataset.\n",
    "For spam class, there are 150 instances in the dataset.\n",
    "\n",
    "Accuracy:\n",
    "The overall accuracy of the model is 96%, which means it correctly predicted the class for 96% of the instances in the entire dataset.\n",
    "\n",
    "Macro Avg:\n",
    "The macro average calculates the average of precision, recall, and F1-score for both classes, giving equal weight to each class. In this case, it's showing an average precision of 0.98, an average recall of 0.86, and an average F1-score of 0.91.\n",
    "\n",
    "Weighted Avg:\n",
    "The weighted average also calculates the average of precision, recall, and F1-score for both classes, but it takes into account the number of instances in each class. It provides a measure of overall performance, considering class imbalances. In this case, it's showing a weighted average precision of 0.96, a weighted average recall of 0.96, and a weighted average F1-score of 0.96.\n",
    "\n",
    "Overall, the model appears to perform well with high precision and recall for ham class, but it has a lower recall for spam class, which indicates it might struggle to correctly identify instances of spam class.\n"
   ]
  },
  {
   "cell_type": "markdown",
   "id": "80edbe62",
   "metadata": {},
   "source": [
    "### Confusion matrix for the baseline model "
   ]
  },
  {
   "cell_type": "code",
   "execution_count": 10,
   "id": "cb5ee103",
   "metadata": {},
   "outputs": [
    {
     "data": {
      "text/plain": [
       "<sklearn.metrics._plot.confusion_matrix.ConfusionMatrixDisplay at 0x241b69d1d90>"
      ]
     },
     "execution_count": 10,
     "metadata": {},
     "output_type": "execute_result"
    },
    {
     "data": {
      "image/png": "[encoded data removed]",
      "text/plain": [
       "<Figure size 432x288 with 2 Axes>"
      ]
     },
     "metadata": {
      "needs_background": "light"
     },
     "output_type": "display_data"
    }
   ],
   "source": [
    "from sklearn.metrics import plot_confusion_matrix\n",
    "plot_confusion_matrix(baseline_model,X_test_vec,y_test)"
   ]
  },
  {
   "cell_type": "markdown",
   "id": "38c897b5",
   "metadata": {},
   "source": [
    "### Model 1: Creating custom Text vectorization and embedding layers:"
   ]
  },
  {
   "cell_type": "markdown",
   "id": "5cc55d1c",
   "metadata": {},
   "source": [
    "Text vectorization is the process of converting text into a numerical representation. Example: Bag of words frequency, Binary Term frequency, etc.\n",
    "\n",
    "A word embedding is a learned representation of text in which words with related meanings have similar representations. Each word is assigned to a single vector, and the vector values are learned like that of a neural network.\n",
    "\n",
    "Now, we create a custom text vectorization layer using TensorFlow."
   ]
  },
  {
   "cell_type": "code",
   "execution_count": 11,
   "id": "50dba5a0",
   "metadata": {},
   "outputs": [],
   "source": [
    "from tensorflow.keras.layers import TextVectorization\n",
    " \n",
    "MAXTOKENS=total_words_length\n",
    "OUTPUTLEN=avg_words_len\n",
    " \n",
    "text_vec = TextVectorization(\n",
    "    max_tokens=MAXTOKENS,\n",
    "    standardize='lower_and_strip_punctuation',\n",
    "    output_mode='int',\n",
    "    output_sequence_length=OUTPUTLEN\n",
    ")\n",
    "text_vec.adapt(X_train)"
   ]
  },
  {
   "cell_type": "code",
   "execution_count": 12,
   "id": "acd3c2dd",
   "metadata": {},
   "outputs": [],
   "source": [
    "embedding_layer = layers.Embedding(input_dim=MAXTOKENS, output_dim=128,\n",
    "    embeddings_initializer='uniform', input_length=OUTPUTLEN)"
   ]
  },
  {
   "cell_type": "markdown",
   "id": "219cd849",
   "metadata": {},
   "source": [
    "MAXTOKENS is the maximum size of the vocabulary which was found earlier.\n",
    "OUTPUTLEN is the length to which the sentences should be padded irrespective of the sentence length.\n",
    "input_dim is the size of vocabulary.\n",
    "output_dim is the dimension of the embedding layer i.e, the size of the vector in which the words will be embedded.\n",
    "input_length is the length of input sequences.\n",
    "Now, building and compiling model 1 using the Tensorflow Functional API."
   ]
  },
  {
   "cell_type": "code",
   "execution_count": 13,
   "id": "9a7bf7bb",
   "metadata": {},
   "outputs": [],
   "source": [
    "input_layer = layers.Input(shape=(1,), dtype=tf.string)\n",
    "vec_layer = text_vec(input_layer)\n",
    "embedding_layer_model = embedding_layer(vec_layer)\n",
    "x = layers.GlobalAveragePooling1D()(embedding_layer_model)\n",
    "x = layers.Flatten()(x)\n",
    "x = layers.Dense(32, activation='relu')(x)\n",
    "output_layer = layers.Dense(1, activation='sigmoid')(x)\n",
    "model_1 = keras.Model(input_layer, output_layer)\n",
    " \n",
    "model_1.compile(optimizer='adam', loss=keras.losses.BinaryCrossentropy(\n",
    "    label_smoothing=0.5), metrics=['accuracy'])"
   ]
  },
  {
   "cell_type": "code",
   "execution_count": 14,
   "id": "7a4721a0",
   "metadata": {},
   "outputs": [
    {
     "name": "stdout",
     "output_type": "stream",
     "text": [
      "Model: \"model\"\n",
      "_________________________________________________________________\n",
      " Layer (type)                Output Shape              Param #   \n",
      "=================================================================\n",
      " input_1 (InputLayer)        [(None, 1)]               0         \n",
      "                                                                 \n",
      " text_vectorization (TextVe  (None, 15)                0         \n",
      " ctorization)                                                    \n",
      "                                                                 \n",
      " embedding (Embedding)       (None, 15, 128)           1994880   \n",
      "                                                                 \n",
      " global_average_pooling1d (  (None, 128)               0         \n",
      " GlobalAveragePooling1D)                                         \n",
      "                                                                 \n",
      " flatten (Flatten)           (None, 128)               0         \n",
      "                                                                 \n",
      " dense (Dense)               (None, 32)                4128      \n",
      "                                                                 \n",
      " dense_1 (Dense)             (None, 1)                 33        \n",
      "                                                                 \n",
      "=================================================================\n",
      "Total params: 1999041 (7.63 MB)\n",
      "Trainable params: 1999041 (7.63 MB)\n",
      "Non-trainable params: 0 (0.00 Byte)\n",
      "_________________________________________________________________\n"
     ]
    }
   ],
   "source": [
    "model_1.summary()"
   ]
  },
  {
   "cell_type": "code",
   "execution_count": 15,
   "id": "87d8495c",
   "metadata": {},
   "outputs": [
    {
     "name": "stdout",
     "output_type": "stream",
     "text": [
      "Epoch 1/5\n",
      "140/140 [==============================] - 8s 40ms/step - loss: 0.6057 - accuracy: 0.9053 - val_loss: 0.5766 - val_accuracy: 0.9776\n",
      "Epoch 2/5\n",
      "140/140 [==============================] - 5s 36ms/step - loss: 0.5698 - accuracy: 0.9883 - val_loss: 0.5734 - val_accuracy: 0.9839\n",
      "Epoch 3/5\n",
      "140/140 [==============================] - 5s 35ms/step - loss: 0.5655 - accuracy: 0.9966 - val_loss: 0.5725 - val_accuracy: 0.9830\n",
      "Epoch 4/5\n",
      "140/140 [==============================] - 5s 34ms/step - loss: 0.5641 - accuracy: 0.9984 - val_loss: 0.5729 - val_accuracy: 0.9812\n",
      "Epoch 5/5\n",
      "140/140 [==============================] - 5s 35ms/step - loss: 0.5634 - accuracy: 0.9989 - val_loss: 0.5727 - val_accuracy: 0.9785\n"
     ]
    }
   ],
   "source": [
    "history_1=model_1.fit(X_train,y_train,epochs=5,validation_data=(X_test,y_test),validation_steps=int(0.2*len(X_test)))"
   ]
  },
  {
   "cell_type": "code",
   "execution_count": 16,
   "id": "03c8111d",
   "metadata": {},
   "outputs": [
    {
     "data": {
      "text/plain": [
       "<AxesSubplot:>"
      ]
     },
     "execution_count": 16,
     "metadata": {},
     "output_type": "execute_result"
    },
    {
     "data": {
      "image/png": "[encoded data removed]",
      "text/plain": [
       "<Figure size 432x288 with 1 Axes>"
      ]
     },
     "metadata": {
      "needs_background": "light"
     },
     "output_type": "display_data"
    }
   ],
   "source": [
    "pd.DataFrame(history_1.history).plot()"
   ]
  },
  {
   "cell_type": "markdown",
   "id": "e431771d",
   "metadata": {},
   "source": [
    "Creating helper functions for compiling, fitting, and evaluating the model performance."
   ]
  },
  {
   "cell_type": "code",
   "execution_count": 17,
   "id": "4a7d149a",
   "metadata": {},
   "outputs": [],
   "source": [
    "from sklearn.metrics import precision_score, recall_score, f1_score\n",
    " \n",
    "def compile_model(model):\n",
    "    '''\n",
    "    simply compile the model with adam optimzer\n",
    "    '''\n",
    "    model.compile(optimizer=keras.optimizers.Adam(),\n",
    "                  loss=keras.losses.BinaryCrossentropy(),\n",
    "                  metrics=['accuracy'])\n",
    " \n",
    "def fit_model(model, epochs, X_train=X_train, y_train=y_train,\n",
    "              X_test=X_test, y_test=y_test):\n",
    "    '''\n",
    "    fit the model with given epochs, train\n",
    "    and test data\n",
    "    '''\n",
    "    history = model.fit(X_train,\n",
    "                        y_train,\n",
    "                        epochs=epochs,\n",
    "                        validation_data=(X_test, y_test),\n",
    "                        validation_steps=int(0.2*len(X_test)))\n",
    "    return history\n",
    " \n",
    "def evaluate_model(model, X, y):\n",
    "    '''\n",
    "    evaluate the model and returns accuracy,\n",
    "    precision, recall and f1-score\n",
    "    '''\n",
    "    y_preds = np.round(model.predict(X))\n",
    "    accuracy = accuracy_score(y, y_preds)\n",
    "    precision = precision_score(y, y_preds)\n",
    "    recall = recall_score(y, y_preds)\n",
    "    f1 = f1_score(y, y_preds)\n",
    " \n",
    "    model_results_dict = {'accuracy': accuracy,\n",
    "                          'precision': precision,\n",
    "                          'recall': recall,\n",
    "                          'f1-score': f1}\n",
    " \n",
    "    return model_results_dict"
   ]
  },
  {
   "cell_type": "markdown",
   "id": "0f7a6974",
   "metadata": {},
   "source": [
    "### Model -2 Bidirectional LSTM"
   ]
  },
  {
   "cell_type": "markdown",
   "id": "f951b073",
   "metadata": {},
   "source": [
    "A bidirectional LSTM (Long short-term memory) is made up of two LSTMs, one accepting input in one direction and the other in the other. BiLSTMs effectively improve the network’s accessible information, boosting the context for the algorithm (e.g. knowing what words immediately follow and precede a word in a sentence).\n",
    "\n",
    "Building and compiling the model-2"
   ]
  },
  {
   "cell_type": "code",
   "execution_count": 18,
   "id": "d238c8dc",
   "metadata": {},
   "outputs": [
    {
     "name": "stdout",
     "output_type": "stream",
     "text": [
      "Epoch 1/5\n",
      "140/140 [==============================] - 27s 90ms/step - loss: 0.0723 - accuracy: 0.9744 - val_loss: 0.0843 - val_accuracy: 0.9830\n",
      "Epoch 2/5\n",
      "140/140 [==============================] - 9s 67ms/step - loss: 0.0014 - accuracy: 0.9998 - val_loss: 0.0967 - val_accuracy: 0.9767\n",
      "Epoch 3/5\n",
      "140/140 [==============================] - 9s 67ms/step - loss: 3.9815e-04 - accuracy: 0.9998 - val_loss: 0.1199 - val_accuracy: 0.9812\n",
      "Epoch 4/5\n",
      "140/140 [==============================] - 9s 66ms/step - loss: 3.2401e-05 - accuracy: 1.0000 - val_loss: 0.1302 - val_accuracy: 0.9812\n",
      "Epoch 5/5\n",
      "140/140 [==============================] - 9s 66ms/step - loss: 1.4879e-05 - accuracy: 1.0000 - val_loss: 0.1360 - val_accuracy: 0.9812\n"
     ]
    }
   ],
   "source": [
    "input_layer = layers.Input(shape=(1,), dtype=tf.string)\n",
    "vec_layer = text_vec(input_layer)\n",
    "embedding_layer_model = embedding_layer(vec_layer)\n",
    "bi_lstm = layers.Bidirectional(layers.LSTM(\n",
    "    64, activation='tanh', return_sequences=True))(embedding_layer_model)\n",
    "lstm = layers.Bidirectional(layers.LSTM(64))(bi_lstm)\n",
    "flatten = layers.Flatten()(lstm)\n",
    "dropout = layers.Dropout(.1)(flatten)\n",
    "x = layers.Dense(32, activation='relu')(dropout)\n",
    "output_layer = layers.Dense(1, activation='sigmoid')(x)\n",
    "model_2 = keras.Model(input_layer, output_layer)\n",
    " \n",
    "compile_model(model_2)  # compile the model\n",
    "history_2 = fit_model(model_2, epochs=5)  # fit the model"
   ]
  },
  {
   "cell_type": "markdown",
   "id": "dc506181",
   "metadata": {},
   "source": [
    "### Model -3 Transfer Learning with USE Encoder"
   ]
  },
  {
   "cell_type": "markdown",
   "id": "a96cba33",
   "metadata": {},
   "source": [
    "Transfer Learning:\n",
    "\n",
    "Transfer learning is a machine learning approach in which a model generated for one job is utilized as the foundation for a model on a different task.\n",
    "\n",
    "USE Layer (Universal Sentence Encoder):\n",
    "\n",
    "The Universal Sentence Encoder converts text into high-dimensional vectors that may be used for text categorization, semantic similarity, and other natural language applications."
   ]
  },
  {
   "cell_type": "code",
   "execution_count": 36,
   "id": "9b98be1a",
   "metadata": {},
   "outputs": [],
   "source": [
    "import tensorflow_hub as hub\n",
    "import tensorflow as tf\n",
    " \n",
    "# model with Sequential api\n",
    "model_3 = keras.Sequential()\n",
    " \n",
    "# universal-sentence-encoder layer\n",
    "# directly from tfhub\n",
    "\n",
    "#use_layer = hub.KerasLayer(\"https://tfhub.dev/google/universal-sentence-encoder/4\",trainable=False,input_shape=[],\n",
    "                           #dtype=tf.string,name='USE')\n",
    "import tarfile\n",
    "\n",
    "# Replace 'path/to/your/file.tar.gz' with the actual path to your tar.gz file\n",
    "model_path=\"C:/Users/Kankana Ghosh/Desktop/Dataset/universal-sentence-encoder_4.tar.gz\"\n",
    "\n",
    "# Step 1: Open the tar.gz file in read mode\n",
    "with tarfile.open(model_path, 'r:gz') as tar:\n",
    "    # Step 2: Extract all files from the tar.gz archive\n",
    "    ext=tar.extractall(path=\"C:/Users/Kankana Ghosh/Desktop/Dataset\")\n"
   ]
  },
  {
   "cell_type": "code",
   "execution_count": 55,
   "id": "df8044e3",
   "metadata": {},
   "outputs": [
    {
     "name": "stdout",
     "output_type": "stream",
     "text": [
      "Epoch 1/5\n",
      "140/140 [==============================] - 5s 24ms/step - loss: 0.2937 - accuracy: 0.9181 - val_loss: 0.1153 - val_accuracy: 0.9677\n",
      "Epoch 2/5\n",
      "140/140 [==============================] - 2s 17ms/step - loss: 0.0812 - accuracy: 0.9796 - val_loss: 0.0704 - val_accuracy: 0.9767\n",
      "Epoch 3/5\n",
      "140/140 [==============================] - 2s 17ms/step - loss: 0.0589 - accuracy: 0.9834 - val_loss: 0.0578 - val_accuracy: 0.9794\n",
      "Epoch 4/5\n",
      "140/140 [==============================] - 2s 16ms/step - loss: 0.0447 - accuracy: 0.9879 - val_loss: 0.0525 - val_accuracy: 0.9839\n",
      "Epoch 5/5\n",
      "140/140 [==============================] - 2s 17ms/step - loss: 0.0424 - accuracy: 0.9877 - val_loss: 0.0496 - val_accuracy: 0.9830\n"
     ]
    }
   ],
   "source": [
    "from tensorflow.keras import layers\n",
    "\n",
    "# Update the path to the directory containing the USE model\n",
    "use_model_path = 'C:/Users/Kankana Ghosh/Desktop/Dataset/'\n",
    "\n",
    "# Load the Universal Sentence Encoder model with the 'serving_default' signature\n",
    "use_layer = hub.KerasLayer(use_model_path, trainable=False, input_shape=[], dtype=tf.string, name='USE', \n",
    "                           signature='serving_default',signature_outputs_as_dict=True)\n",
    "\n",
    "# Create the model\n",
    "model_3 = tf.keras.Sequential()\n",
    "model_3.add(use_layer)\n",
    "model_3.add(layers.Dropout(0.2))\n",
    "model_3.add(layers.Dense(64, activation='relu'))\n",
    "model_3.add(layers.Dense(1, activation='sigmoid'))\n",
    "\n",
    "# Compile the model (assuming compile_model() is correctly implemented)\n",
    "compile_model(model_3)\n",
    "\n",
    "# Fit the model (assuming fit_model() is correctly implemented)\n",
    "history_3 = fit_model(model_3, epochs=5)\n",
    "\n",
    "\n",
    "\n",
    "\n",
    "\n"
   ]
  },
  {
   "cell_type": "markdown",
   "id": "4d956510",
   "metadata": {},
   "source": [
    "### Analyzing our Model Performance"
   ]
  },
  {
   "cell_type": "code",
   "execution_count": 56,
   "id": "d8008a89",
   "metadata": {},
   "outputs": [
    {
     "name": "stdout",
     "output_type": "stream",
     "text": [
      "35/35 [==============================] - 0s 2ms/step\n",
      "35/35 [==============================] - 2s 18ms/step\n",
      "35/35 [==============================] - 1s 9ms/step\n"
     ]
    },
    {
     "data": {
      "text/html": [
       "<div>\n",
       "<style scoped>\n",
       "    .dataframe tbody tr th:only-of-type {\n",
       "        vertical-align: middle;\n",
       "    }\n",
       "\n",
       "    .dataframe tbody tr th {\n",
       "        vertical-align: top;\n",
       "    }\n",
       "\n",
       "    .dataframe thead th {\n",
       "        text-align: right;\n",
       "    }\n",
       "</style>\n",
       "<table border=\"1\" class=\"dataframe\">\n",
       "  <thead>\n",
       "    <tr style=\"text-align: right;\">\n",
       "      <th></th>\n",
       "      <th>accuracy</th>\n",
       "      <th>precision</th>\n",
       "      <th>recall</th>\n",
       "      <th>f1-score</th>\n",
       "    </tr>\n",
       "  </thead>\n",
       "  <tbody>\n",
       "    <tr>\n",
       "      <th>MultinomialNB Model</th>\n",
       "      <td>0.962332</td>\n",
       "      <td>1.000000</td>\n",
       "      <td>0.720000</td>\n",
       "      <td>0.837209</td>\n",
       "    </tr>\n",
       "    <tr>\n",
       "      <th>Custom-Vec-Embedding Model</th>\n",
       "      <td>0.981166</td>\n",
       "      <td>0.977778</td>\n",
       "      <td>0.880000</td>\n",
       "      <td>0.926316</td>\n",
       "    </tr>\n",
       "    <tr>\n",
       "      <th>Bidirectional-LSTM Model</th>\n",
       "      <td>0.981166</td>\n",
       "      <td>0.964029</td>\n",
       "      <td>0.893333</td>\n",
       "      <td>0.927336</td>\n",
       "    </tr>\n",
       "    <tr>\n",
       "      <th>USE-Transfer learning Model</th>\n",
       "      <td>0.982960</td>\n",
       "      <td>0.951724</td>\n",
       "      <td>0.920000</td>\n",
       "      <td>0.935593</td>\n",
       "    </tr>\n",
       "  </tbody>\n",
       "</table>\n",
       "</div>"
      ],
      "text/plain": [
       "                             accuracy  precision    recall  f1-score\n",
       "MultinomialNB Model          0.962332   1.000000  0.720000  0.837209\n",
       "Custom-Vec-Embedding Model   0.981166   0.977778  0.880000  0.926316\n",
       "Bidirectional-LSTM Model     0.981166   0.964029  0.893333  0.927336\n",
       "USE-Transfer learning Model  0.982960   0.951724  0.920000  0.935593"
      ]
     },
     "execution_count": 56,
     "metadata": {},
     "output_type": "execute_result"
    }
   ],
   "source": [
    "baseline_model_results = evaluate_model(baseline_model, X_test_vec, y_test)\n",
    "model_1_results = evaluate_model(model_1, X_test, y_test)\n",
    "model_2_results = evaluate_model(model_2, X_test, y_test)\n",
    "model_3_results = evaluate_model(model_3, X_test, y_test)\n",
    " \n",
    "total_results = pd.DataFrame({'MultinomialNB Model':baseline_model_results,\n",
    "                             'Custom-Vec-Embedding Model':model_1_results,\n",
    "                             'Bidirectional-LSTM Model':model_2_results,\n",
    "                             'USE-Transfer learning Model':model_3_results}).transpose()\n",
    " \n",
    "total_results"
   ]
  },
  {
   "cell_type": "code",
   "execution_count": 58,
   "id": "99fff2e8",
   "metadata": {},
   "outputs": [
    {
     "data": {
      "text/plain": [
       "<AxesSubplot:>"
      ]
     },
     "execution_count": 58,
     "metadata": {},
     "output_type": "execute_result"
    },
    {
     "data": {
      "image/png": "[encoded data removed]",
      "text/plain": [
       "<Figure size 864x576 with 1 Axes>"
      ]
     },
     "metadata": {
      "needs_background": "light"
     },
     "output_type": "display_data"
    }
   ],
   "source": [
    "total_results.plot(figsize=(12, 8))"
   ]
  },
  {
   "cell_type": "code",
   "execution_count": 57,
   "id": "204ec7c8",
   "metadata": {},
   "outputs": [
    {
     "data": {
      "text/html": [
       "<div>\n",
       "<style scoped>\n",
       "    .dataframe tbody tr th:only-of-type {\n",
       "        vertical-align: middle;\n",
       "    }\n",
       "\n",
       "    .dataframe tbody tr th {\n",
       "        vertical-align: top;\n",
       "    }\n",
       "\n",
       "    .dataframe thead th {\n",
       "        text-align: right;\n",
       "    }\n",
       "</style>\n",
       "<table border=\"1\" class=\"dataframe\">\n",
       "  <thead>\n",
       "    <tr style=\"text-align: right;\">\n",
       "      <th></th>\n",
       "      <th>accuracy</th>\n",
       "      <th>precision</th>\n",
       "      <th>recall</th>\n",
       "      <th>f1-score</th>\n",
       "    </tr>\n",
       "  </thead>\n",
       "  <tbody>\n",
       "    <tr>\n",
       "      <th>USE-Transfer learning Model</th>\n",
       "      <td>0.982960</td>\n",
       "      <td>0.951724</td>\n",
       "      <td>0.920000</td>\n",
       "      <td>0.935593</td>\n",
       "    </tr>\n",
       "    <tr>\n",
       "      <th>Bidirectional-LSTM Model</th>\n",
       "      <td>0.981166</td>\n",
       "      <td>0.964029</td>\n",
       "      <td>0.893333</td>\n",
       "      <td>0.927336</td>\n",
       "    </tr>\n",
       "    <tr>\n",
       "      <th>Custom-Vec-Embedding Model</th>\n",
       "      <td>0.981166</td>\n",
       "      <td>0.977778</td>\n",
       "      <td>0.880000</td>\n",
       "      <td>0.926316</td>\n",
       "    </tr>\n",
       "    <tr>\n",
       "      <th>MultinomialNB Model</th>\n",
       "      <td>0.962332</td>\n",
       "      <td>1.000000</td>\n",
       "      <td>0.720000</td>\n",
       "      <td>0.837209</td>\n",
       "    </tr>\n",
       "  </tbody>\n",
       "</table>\n",
       "</div>"
      ],
      "text/plain": [
       "                             accuracy  precision    recall  f1-score\n",
       "USE-Transfer learning Model  0.982960   0.951724  0.920000  0.935593\n",
       "Bidirectional-LSTM Model     0.981166   0.964029  0.893333  0.927336\n",
       "Custom-Vec-Embedding Model   0.981166   0.977778  0.880000  0.926316\n",
       "MultinomialNB Model          0.962332   1.000000  0.720000  0.837209"
      ]
     },
     "execution_count": 57,
     "metadata": {},
     "output_type": "execute_result"
    }
   ],
   "source": [
    "total_results.sort_values('f1-score', ascending=False)"
   ]
  },
  {
   "cell_type": "markdown",
   "id": "b5afa5be",
   "metadata": {},
   "source": [
    "1. USE-Transfer learning Model:\n",
    "\n",
    "Accuracy: The model achieved an accuracy of approximately 98.30%, indicating it made correct predictions for the majority of instances in the dataset.\n",
    "Precision: The precision for this model is around 95.17%. Out of the instances predicted as positive, about 95.17% were truly positive, while the remaining 4.83% were false positives.\n",
    "Recall: The recall is approximately 92.00%. The model correctly identified 92.00% of the actual positive instances.\n",
    "F1-Score: The F1-score is approximately 93.56%, which is a balanced measure of precision and recall.\n",
    "\n",
    "2. Bidirectional-LSTM Model:\n",
    "\n",
    "Accuracy: This model achieved an accuracy of approximately 98.12%, similar to the first model.\n",
    "Precision: The precision is around 96.40%. This indicates that out of the instances predicted as positive, about 96.40% were truly positive.\n",
    "Recall: The recall is approximately 89.33%. The model identified 89.33% of the actual positive instances.\n",
    "F1-Score: The F1-score is approximately 92.73%, indicating the balance between precision and recall.\n",
    "\n",
    "3. Custom-Vec-Embedding Model:\n",
    "\n",
    "Accuracy: Similar to the previous models, this model achieved an accuracy of approximately 98.12%.\n",
    "Precision: The precision is quite high at around 97.78%, indicating accurate positive predictions.\n",
    "Recall: The recall is approximately 88.00%. The model captured 88.00% of the actual positive instances.\n",
    "F1-Score: The F1-score is approximately 92.63%, again reflecting a balance between precision and recall.\n",
    "\n",
    "4. MultinomialNB Model:\n",
    "    \n",
    "Accuracy: This model achieved an accuracy of approximately 96.23%, which is slightly lower than the other models.\n",
    "Precision: The precision is perfect at 100.00%, indicating that all instances predicted as positive were indeed positive.\n",
    "Recall: The recall is around 72.00%. The model captured only 72.00% of the actual positive instances, indicating some difficulty in identifying positives.\n",
    "F1-Score: The F1-score is approximately 83.72%, which reflects the trade-off between precision and recall.\n",
    "In summary, all models have high accuracy rates, but they differ in precision, recall, and F1-scores. The \"MultinomialNB Model\" has the highest precision but struggles with recall. The \"USE-Transfer learning Model,\" \"Bidirectional-LSTM Model,\" and \"Custom-Vec-Embedding Model\" exhibit good trade-offs between precision and recall. The choice of model may depend on the specific requirements of the task, such as the importance of precision and recall in the context of the application.\n",
    "\n",
    "\n",
    "\n",
    "\n",
    "\n"
   ]
  },
  {
   "cell_type": "markdown",
   "id": "7c604c78",
   "metadata": {},
   "source": [
    "### Conclusion"
   ]
  },
  {
   "cell_type": "markdown",
   "id": "6cac5dc3",
   "metadata": {},
   "source": [
    "Metrics:All four models deliver excellent results. (All of them have greater than 96 percent accuracy), thus comparing them might be difficult.\n",
    "\n",
    "Problem:We have an unbalanced dataset; most of our data points contain the label “ham,” which is natural because most SMS are ham. Accuracy cannot be an appropriate metric in certain situations. Other measurements are required.\n",
    "\n",
    "Which metric is better?\n",
    "False negative and false positive are significant in this problem. Precision and recall are the metrics that allow us the ability to calculate them, but there is one more, ‘f1-score.’\n",
    "The f1-score is the harmonic mean of accuracy and recall. Thus, we can get both with a single shot.\n",
    "USE-Transfer learning model gives the best accuracy and f1-score."
   ]
  }
 ],
 "metadata": {
  "kernelspec": {
   "display_name": "Python 3 (ipykernel)",
   "language": "python",
   "name": "python3"
  },
  "language_info": {
   "codemirror_mode": {
    "name": "ipython",
    "version": 3
   },
   "file_extension": ".py",
   "mimetype": "text/x-python",
   "name": "python",
   "nbconvert_exporter": "python",
   "pygments_lexer": "ipython3",
   "version": "3.9.12"
  }
 },
 "nbformat": 4,
 "nbformat_minor": 5
}
